{
 "cells": [
  {
   "cell_type": "code",
   "execution_count": 1,
   "id": "a3be3946",
   "metadata": {
    "_cell_guid": "b1076dfc-b9ad-4769-8c92-a6c4dae69d19",
    "_uuid": "8f2839f25d086af736a60e9eeb907d3b93b6e0e5",
    "execution": {
     "iopub.execute_input": "2023-12-04T05:10:55.000016Z",
     "iopub.status.busy": "2023-12-04T05:10:54.999389Z",
     "iopub.status.idle": "2023-12-04T05:10:56.914733Z",
     "shell.execute_reply": "2023-12-04T05:10:56.913332Z"
    },
    "papermill": {
     "duration": 1.924707,
     "end_time": "2023-12-04T05:10:56.918104",
     "exception": false,
     "start_time": "2023-12-04T05:10:54.993397",
     "status": "completed"
    },
    "tags": []
   },
   "outputs": [
    {
     "name": "stdout",
     "output_type": "stream",
     "text": [
      "Character\n",
      "PICARD     10798\n",
      "RIKER       6454\n",
      "DATA        5699\n",
      "LAFORGE     4111\n",
      "WORF        3185\n",
      "CRUSHER     2944\n",
      "TROI        2856\n",
      "WESLEY      1206\n",
      "Name: count, dtype: int64\n"
     ]
    }
   ],
   "source": [
    "import pandas as pd\n",
    "import json\n",
    "import requests\n",
    "url = 'https://raw.githubusercontent.com/brearenee/NLP-Project/main/dataset/StarTrekDialogue_v2.json'\n",
    "response = requests.get(url)\n",
    "\n",
    "##This CodeBlock is thanks to ChatGPT :-) \n",
    "if response.status_code == 200:\n",
    "    json_data = json.loads(response.text)\n",
    "    lines = []\n",
    "    characters = []\n",
    "    episodes = []\n",
    "  \n",
    "    # extract the information from the JSON file for the \"TNG\" series\n",
    "    for series_name, series_data in json_data.items():\n",
    "        if series_name == \"TNG\": \n",
    "            for episode_name, episode_data in series_data.items():\n",
    "                for character_name, character_lines in episode_data.items():\n",
    "                    for line_text in character_lines:\n",
    "                        lines.append(line_text)\n",
    "                        characters.append(character_name)\n",
    "                        episodes.append(episode_name)\n",
    "                     \n",
    "    # Create a DataFrame from the extracted data\n",
    "    df = pd.DataFrame({\n",
    "        'Line': lines,\n",
    "        'Character': characters,\n",
    "    })\n",
    "\n",
    "    # Remove duplicate lines, keeping the first occurrence (preserving the original order)\n",
    "    df = df.drop_duplicates(subset='Line', keep='first')\n",
    "\n",
    "    # Reset the index of the DataFrame\n",
    "    df.reset_index(drop=True, inplace=True)\n",
    "\n",
    "else:\n",
    "    print(f\"Failed to retrieve data. Status code: {response.status_code}\")\n",
    "    \n",
    "    \n",
    "##Remove Outliers (Characters with less than 1000 lines)\n",
    "character_counts = df['Character'].value_counts()\n",
    "characters_to_remove = character_counts[character_counts < 1000].index\n",
    "df = df[~df['Character'].isin(characters_to_remove)]\n",
    "\n",
    "##Print Value Count. \n",
    "print(df['Character'].value_counts())\n"
   ]
  },
  {
   "cell_type": "markdown",
   "id": "d4c39039",
   "metadata": {
    "papermill": {
     "duration": 0.004108,
     "end_time": "2023-12-04T05:10:56.930025",
     "exception": false,
     "start_time": "2023-12-04T05:10:56.925917",
     "status": "completed"
    },
    "tags": []
   },
   "source": [
    "# BERT"
   ]
  },
  {
   "cell_type": "code",
   "execution_count": 2,
   "id": "b87caba3",
   "metadata": {
    "execution": {
     "iopub.execute_input": "2023-12-04T05:10:56.941690Z",
     "iopub.status.busy": "2023-12-04T05:10:56.940044Z",
     "iopub.status.idle": "2023-12-04T05:10:58.435140Z",
     "shell.execute_reply": "2023-12-04T05:10:58.434029Z"
    },
    "papermill": {
     "duration": 1.503709,
     "end_time": "2023-12-04T05:10:58.438182",
     "exception": false,
     "start_time": "2023-12-04T05:10:56.934473",
     "status": "completed"
    },
    "tags": []
   },
   "outputs": [
    {
     "data": {
      "text/html": [
       "<div>\n",
       "<style scoped>\n",
       "    .dataframe tbody tr th:only-of-type {\n",
       "        vertical-align: middle;\n",
       "    }\n",
       "\n",
       "    .dataframe tbody tr th {\n",
       "        vertical-align: top;\n",
       "    }\n",
       "\n",
       "    .dataframe thead th {\n",
       "        text-align: right;\n",
       "    }\n",
       "</style>\n",
       "<table border=\"1\" class=\"dataframe\">\n",
       "  <thead>\n",
       "    <tr style=\"text-align: right;\">\n",
       "      <th></th>\n",
       "      <th>Line</th>\n",
       "      <th>Character</th>\n",
       "    </tr>\n",
       "  </thead>\n",
       "  <tbody>\n",
       "    <tr>\n",
       "      <th>41033</th>\n",
       "      <td>The upper portion of the apparatus seems\\r to ...</td>\n",
       "      <td>2</td>\n",
       "    </tr>\n",
       "    <tr>\n",
       "      <th>19647</th>\n",
       "      <td>how long before they cross over into Federatio...</td>\n",
       "      <td>1</td>\n",
       "    </tr>\n",
       "    <tr>\n",
       "      <th>20640</th>\n",
       "      <td>You know, this might work. We can't change the...</td>\n",
       "      <td>3</td>\n",
       "    </tr>\n",
       "    <tr>\n",
       "      <th>16952</th>\n",
       "      <td>And you conclude because of this that I am imp...</td>\n",
       "      <td>2</td>\n",
       "    </tr>\n",
       "    <tr>\n",
       "      <th>11530</th>\n",
       "      <td>I was thinking the same thing about you. In al...</td>\n",
       "      <td>1</td>\n",
       "    </tr>\n",
       "  </tbody>\n",
       "</table>\n",
       "</div>"
      ],
      "text/plain": [
       "                                                    Line  Character\n",
       "41033  The upper portion of the apparatus seems\\r to ...          2\n",
       "19647  how long before they cross over into Federatio...          1\n",
       "20640  You know, this might work. We can't change the...          3\n",
       "16952  And you conclude because of this that I am imp...          2\n",
       "11530  I was thinking the same thing about you. In al...          1"
      ]
     },
     "execution_count": 2,
     "metadata": {},
     "output_type": "execute_result"
    }
   ],
   "source": [
    "#https://www.analyticsvidhya.com/blog/2021/12/multiclass-classification-using-transformers/\n",
    "\n",
    "\n",
    "#Split the data \n",
    "from sklearn.model_selection import train_test_split\n",
    "train_df, val_df = train_test_split(df, test_size=0.2, random_state=42)\n",
    "\n",
    "#Converting our Character column into Categorical data\n",
    "encoded_dict = {'PICARD':0,'RIKER':1, 'DATA':2, 'LAFORGE':3, \n",
    "                'WORF':4, 'CRUSHER':5, 'TROI':6,'WESLEY':7}\n",
    "train_df['Character'] = train_df.Character.map(encoded_dict)\n",
    "val_df['Character'] = val_df.Character.map(encoded_dict)\n",
    "\n",
    "train_df.head()\n",
    "\n",
    "\n"
   ]
  },
  {
   "cell_type": "code",
   "execution_count": 3,
   "id": "8c5273d5",
   "metadata": {
    "execution": {
     "iopub.execute_input": "2023-12-04T05:10:58.447085Z",
     "iopub.status.busy": "2023-12-04T05:10:58.446667Z",
     "iopub.status.idle": "2023-12-04T05:10:58.456913Z",
     "shell.execute_reply": "2023-12-04T05:10:58.456135Z"
    },
    "papermill": {
     "duration": 0.017497,
     "end_time": "2023-12-04T05:10:58.459330",
     "exception": false,
     "start_time": "2023-12-04T05:10:58.441833",
     "status": "completed"
    },
    "tags": []
   },
   "outputs": [
    {
     "data": {
      "text/html": [
       "<div>\n",
       "<style scoped>\n",
       "    .dataframe tbody tr th:only-of-type {\n",
       "        vertical-align: middle;\n",
       "    }\n",
       "\n",
       "    .dataframe tbody tr th {\n",
       "        vertical-align: top;\n",
       "    }\n",
       "\n",
       "    .dataframe thead th {\n",
       "        text-align: right;\n",
       "    }\n",
       "</style>\n",
       "<table border=\"1\" class=\"dataframe\">\n",
       "  <thead>\n",
       "    <tr style=\"text-align: right;\">\n",
       "      <th></th>\n",
       "      <th>Line</th>\n",
       "      <th>Character</th>\n",
       "    </tr>\n",
       "  </thead>\n",
       "  <tbody>\n",
       "    <tr>\n",
       "      <th>48560</th>\n",
       "      <td>If you had to give this feeling a name, what w...</td>\n",
       "      <td>6</td>\n",
       "    </tr>\n",
       "    <tr>\n",
       "      <th>47262</th>\n",
       "      <td>I'm sure you all understand that in light of w...</td>\n",
       "      <td>5</td>\n",
       "    </tr>\n",
       "    <tr>\n",
       "      <th>7425</th>\n",
       "      <td>Somehow, and there is limited information on t...</td>\n",
       "      <td>2</td>\n",
       "    </tr>\n",
       "    <tr>\n",
       "      <th>29414</th>\n",
       "      <td>But our sensors were malfunctioning. Our probe...</td>\n",
       "      <td>1</td>\n",
       "    </tr>\n",
       "    <tr>\n",
       "      <th>33815</th>\n",
       "      <td>The signal ended abruptly at oh four five five...</td>\n",
       "      <td>1</td>\n",
       "    </tr>\n",
       "  </tbody>\n",
       "</table>\n",
       "</div>"
      ],
      "text/plain": [
       "                                                    Line  Character\n",
       "48560  If you had to give this feeling a name, what w...          6\n",
       "47262  I'm sure you all understand that in light of w...          5\n",
       "7425   Somehow, and there is limited information on t...          2\n",
       "29414  But our sensors were malfunctioning. Our probe...          1\n",
       "33815  The signal ended abruptly at oh four five five...          1"
      ]
     },
     "execution_count": 3,
     "metadata": {},
     "output_type": "execute_result"
    }
   ],
   "source": [
    "val_df.head()"
   ]
  },
  {
   "cell_type": "code",
   "execution_count": 4,
   "id": "921700f4",
   "metadata": {
    "execution": {
     "iopub.execute_input": "2023-12-04T05:10:58.468946Z",
     "iopub.status.busy": "2023-12-04T05:10:58.468316Z",
     "iopub.status.idle": "2023-12-04T05:11:12.006185Z",
     "shell.execute_reply": "2023-12-04T05:11:12.004829Z"
    },
    "papermill": {
     "duration": 13.546196,
     "end_time": "2023-12-04T05:11:12.009266",
     "exception": false,
     "start_time": "2023-12-04T05:10:58.463070",
     "status": "completed"
    },
    "tags": []
   },
   "outputs": [],
   "source": [
    "from tensorflow.keras.utils import to_categorical\n",
    "\n",
    "y_train = to_categorical(train_df.Character)\n",
    "y_test = to_categorical(val_df.Character)\n",
    "\n",
    "#We have successfully processed our Sentiment column( target); \n",
    "#now, it’s time to process our input text data using a tokenizer."
   ]
  },
  {
   "cell_type": "code",
   "execution_count": null,
   "id": "d0c68700",
   "metadata": {
    "papermill": {
     "duration": 0.003337,
     "end_time": "2023-12-04T05:11:12.016413",
     "exception": false,
     "start_time": "2023-12-04T05:11:12.013076",
     "status": "completed"
    },
    "tags": []
   },
   "outputs": [],
   "source": []
  }
 ],
 "metadata": {
  "kaggle": {
   "accelerator": "none",
   "dataSources": [],
   "dockerImageVersionId": 30587,
   "isGpuEnabled": false,
   "isInternetEnabled": true,
   "language": "python",
   "sourceType": "notebook"
  },
  "kernelspec": {
   "display_name": "Python 3",
   "language": "python",
   "name": "python3"
  },
  "language_info": {
   "codemirror_mode": {
    "name": "ipython",
    "version": 3
   },
   "file_extension": ".py",
   "mimetype": "text/x-python",
   "name": "python",
   "nbconvert_exporter": "python",
   "pygments_lexer": "ipython3",
   "version": "3.10.12"
  },
  "papermill": {
   "default_parameters": {},
   "duration": 23.078476,
   "end_time": "2023-12-04T05:11:13.648828",
   "environment_variables": {},
   "exception": null,
   "input_path": "__notebook__.ipynb",
   "output_path": "__notebook__.ipynb",
   "parameters": {},
   "start_time": "2023-12-04T05:10:50.570352",
   "version": "2.4.0"
  }
 },
 "nbformat": 4,
 "nbformat_minor": 5
}
