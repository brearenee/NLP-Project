{
 "cells": [
  {
   "cell_type": "markdown",
   "id": "28810a6a",
   "metadata": {
    "papermill": {
     "duration": 0.006431,
     "end_time": "2023-12-06T05:17:08.267331",
     "exception": false,
     "start_time": "2023-12-06T05:17:08.260900",
     "status": "completed"
    },
    "tags": []
   },
   "source": [
    "# Project Part 2\n",
    "\n",
    "[![Kaggle](https://kaggle.com/static/images/open-in-kaggle.svg)](https://kaggle.com/kernels/welcome?src=https://github.com/brearenee/NLP-Project/blob/main/part2-startrek.ipynb)\n",
    "\n",
    "[![Open In Colab](https://colab.research.google.com/assets/colab-badge.svg)](https://colab.research.google.com/github/sgeinitz/https://github.com/brearenee/NLP-Project/blob/main/part2-startrek.ipynb)\n"
   ]
  },
  {
   "cell_type": "markdown",
   "id": "228d3ab5",
   "metadata": {
    "papermill": {
     "duration": 0.004258,
     "end_time": "2023-12-06T05:17:08.276195",
     "exception": false,
     "start_time": "2023-12-06T05:17:08.271937",
     "status": "completed"
    },
    "tags": []
   },
   "source": [
    "**NLP Problem:** Predicting the speaker from Star Trek: The Next Generation script lines for 8 main characters.\n",
    "\n",
    "In this second phase of my project, I'm developing a foundational model for this NLP task.\n",
    "\n",
    "As learned in Part 1, the initial dataset's structure is less than ideal. To start Part 2, we must parse and clean the raw JSON data and transform it into a structured DataFrame."
   ]
  },
  {
   "cell_type": "code",
   "execution_count": 1,
   "id": "135188f9",
   "metadata": {
    "execution": {
     "iopub.execute_input": "2023-12-06T05:17:08.287136Z",
     "iopub.status.busy": "2023-12-06T05:17:08.286613Z",
     "iopub.status.idle": "2023-12-06T05:17:10.062949Z",
     "shell.execute_reply": "2023-12-06T05:17:10.062066Z"
    },
    "papermill": {
     "duration": 1.78441,
     "end_time": "2023-12-06T05:17:10.065135",
     "exception": false,
     "start_time": "2023-12-06T05:17:08.280725",
     "status": "completed"
    },
    "tags": []
   },
   "outputs": [],
   "source": [
    "import pandas as pd\n",
    "import json\n",
    "import requests\n",
    "\n",
    "from sklearn.feature_extraction.text import CountVectorizer\n",
    "from sklearn.model_selection import train_test_split\n",
    "from sklearn.tree import DecisionTreeClassifier\n",
    "from sklearn.metrics import accuracy_score\n",
    "from sklearn.metrics import precision_score, recall_score, f1_score\n",
    "\n",
    "import numpy as np\n",
    "from sklearn.metrics import confusion_matrix\n",
    "import matplotlib.pyplot as plt\n",
    "import seaborn as sns"
   ]
  },
  {
   "cell_type": "code",
   "execution_count": 2,
   "id": "07b19395",
   "metadata": {
    "execution": {
     "iopub.execute_input": "2023-12-06T05:17:10.076368Z",
     "iopub.status.busy": "2023-12-06T05:17:10.075891Z",
     "iopub.status.idle": "2023-12-06T05:17:12.885429Z",
     "shell.execute_reply": "2023-12-06T05:17:12.884506Z"
    },
    "papermill": {
     "duration": 2.817694,
     "end_time": "2023-12-06T05:17:12.887741",
     "exception": false,
     "start_time": "2023-12-06T05:17:10.070047",
     "status": "completed"
    },
    "tags": []
   },
   "outputs": [],
   "source": [
    "url = 'https://raw.githubusercontent.com/brearenee/NLP-Project/main/dataset/StarTrekDialogue_v2.json'\n",
    "response = requests.get(url)\n",
    "\n",
    "##This CodeBlock is thanks to ChatGPT :-) \n",
    "if response.status_code == 200:\n",
    "    json_data = json.loads(response.text)\n",
    "    lines = []\n",
    "    characters = []\n",
    "    episodes = []\n",
    "  \n",
    "    # extract the information from the JSON file for the \"TNG\" series\n",
    "    for series_name, series_data in json_data.items():\n",
    "        if series_name == \"TNG\": \n",
    "            for episode_name, episode_data in series_data.items():\n",
    "                for character_name, character_lines in episode_data.items():\n",
    "                    for line_text in character_lines:\n",
    "                        lines.append(line_text)\n",
    "                        characters.append(character_name)\n",
    "                        episodes.append(episode_name)\n",
    "                     \n",
    "    # Create a DataFrame from the extracted data\n",
    "    df = pd.DataFrame({\n",
    "        'Line': lines,\n",
    "        'Character': characters,\n",
    "        'Episode': episodes,\n",
    "    })\n",
    "\n",
    "    # Remove duplicate lines, keeping the first occurrence (preserving the original order)\n",
    "    df = df.drop_duplicates(subset='Line', keep='first')\n",
    "\n",
    "    # Reset the index of the DataFrame\n",
    "    df.reset_index(drop=True, inplace=True)\n",
    "\n",
    "else:\n",
    "    print(f\"Failed to retrieve data. Status code: {response.status_code}\")\n"
   ]
  },
  {
   "cell_type": "markdown",
   "id": "fc3b0445",
   "metadata": {
    "papermill": {
     "duration": 0.004664,
     "end_time": "2023-12-06T05:17:12.897272",
     "exception": false,
     "start_time": "2023-12-06T05:17:12.892608",
     "status": "completed"
    },
    "tags": []
   },
   "source": [
    "We are now going to remove outliers by removing all characters that have less than 1000 lines. \n"
   ]
  },
  {
   "cell_type": "code",
   "execution_count": 3,
   "id": "e285d13f",
   "metadata": {
    "execution": {
     "iopub.execute_input": "2023-12-06T05:17:12.907768Z",
     "iopub.status.busy": "2023-12-06T05:17:12.907416Z",
     "iopub.status.idle": "2023-12-06T05:17:12.922660Z",
     "shell.execute_reply": "2023-12-06T05:17:12.921880Z"
    },
    "papermill": {
     "duration": 0.022548,
     "end_time": "2023-12-06T05:17:12.924409",
     "exception": false,
     "start_time": "2023-12-06T05:17:12.901861",
     "status": "completed"
    },
    "tags": []
   },
   "outputs": [],
   "source": [
    "character_counts = df['Character'].value_counts()\n",
    "\n",
    "characters_to_remove = character_counts[character_counts < 1000].index\n",
    "df = df[~df['Character'].isin(characters_to_remove)]\n"
   ]
  },
  {
   "cell_type": "code",
   "execution_count": 4,
   "id": "e266d567",
   "metadata": {
    "execution": {
     "iopub.execute_input": "2023-12-06T05:17:12.934671Z",
     "iopub.status.busy": "2023-12-06T05:17:12.934430Z",
     "iopub.status.idle": "2023-12-06T05:17:12.942862Z",
     "shell.execute_reply": "2023-12-06T05:17:12.942071Z"
    },
    "papermill": {
     "duration": 0.016252,
     "end_time": "2023-12-06T05:17:12.945121",
     "exception": false,
     "start_time": "2023-12-06T05:17:12.928869",
     "status": "completed"
    },
    "tags": []
   },
   "outputs": [
    {
     "data": {
      "text/plain": [
       "Character\n",
       "PICARD     10798\n",
       "RIKER       6454\n",
       "DATA        5699\n",
       "LAFORGE     4111\n",
       "WORF        3185\n",
       "CRUSHER     2944\n",
       "TROI        2856\n",
       "WESLEY      1206\n",
       "Name: count, dtype: int64"
      ]
     },
     "execution_count": 4,
     "metadata": {},
     "output_type": "execute_result"
    }
   ],
   "source": [
    "df['Character'].value_counts()\n"
   ]
  },
  {
   "cell_type": "markdown",
   "id": "706e468c",
   "metadata": {
    "papermill": {
     "duration": 0.004494,
     "end_time": "2023-12-06T05:17:12.954772",
     "exception": false,
     "start_time": "2023-12-06T05:17:12.950278",
     "status": "completed"
    },
    "tags": []
   },
   "source": [
    "# Decision Tree\n",
    "For my simple model, I'll be using a Decision Tree Classifier. \n"
   ]
  },
  {
   "cell_type": "code",
   "execution_count": 5,
   "id": "6f533eff",
   "metadata": {
    "execution": {
     "iopub.execute_input": "2023-12-06T05:17:12.965364Z",
     "iopub.status.busy": "2023-12-06T05:17:12.964887Z",
     "iopub.status.idle": "2023-12-06T05:17:13.331949Z",
     "shell.execute_reply": "2023-12-06T05:17:13.331101Z"
    },
    "papermill": {
     "duration": 0.374537,
     "end_time": "2023-12-06T05:17:13.333953",
     "exception": false,
     "start_time": "2023-12-06T05:17:12.959416",
     "status": "completed"
    },
    "tags": []
   },
   "outputs": [],
   "source": [
    "# Vectorize the \"Line\" column using a \"bag of words\" representation.  \n",
    "# This represntation converts the lines of text into a numerical format \n",
    "# that can be used by the DecisionTreeClassifier for prediction.\n",
    "vectorizer = CountVectorizer(stop_words='english')\n",
    "\n",
    "#extract the lines from my dataframe\n",
    "lines = df['Line'].tolist()\n",
    "character = df['Character'].tolist()\n",
    "\n",
    "X = vectorizer.fit_transform(lines)\n",
    "y = character"
   ]
  },
  {
   "cell_type": "code",
   "execution_count": 6,
   "id": "caf62522",
   "metadata": {
    "execution": {
     "iopub.execute_input": "2023-12-06T05:17:13.344920Z",
     "iopub.status.busy": "2023-12-06T05:17:13.344565Z",
     "iopub.status.idle": "2023-12-06T05:17:13.360781Z",
     "shell.execute_reply": "2023-12-06T05:17:13.359765Z"
    },
    "papermill": {
     "duration": 0.023769,
     "end_time": "2023-12-06T05:17:13.362685",
     "exception": false,
     "start_time": "2023-12-06T05:17:13.338916",
     "status": "completed"
    },
    "tags": []
   },
   "outputs": [
    {
     "name": "stdout",
     "output_type": "stream",
     "text": [
      "PICARD     2146\n",
      "RIKER      1283\n",
      "DATA       1152\n",
      "LAFORGE     822\n",
      "WORF        639\n",
      "CRUSHER     591\n",
      "TROI        569\n",
      "WESLEY      249\n",
      "Name: count, dtype: int64\n"
     ]
    }
   ],
   "source": [
    "# Split the data into training and testing sets\n",
    "X_train, X_test, y_train, y_test = train_test_split(X, y, test_size=0.2, random_state=42)\n",
    "\n",
    "#Examine the distribution for the test data\n",
    "y_test_series = pd.Series(y_test)\n",
    "test_class_distribution = y_test_series.value_counts()\n",
    "print(test_class_distribution)\n",
    "\n"
   ]
  },
  {
   "cell_type": "code",
   "execution_count": 7,
   "id": "aab9fb66",
   "metadata": {
    "execution": {
     "iopub.execute_input": "2023-12-06T05:17:13.373818Z",
     "iopub.status.busy": "2023-12-06T05:17:13.373514Z",
     "iopub.status.idle": "2023-12-06T05:17:23.715336Z",
     "shell.execute_reply": "2023-12-06T05:17:23.714229Z"
    },
    "papermill": {
     "duration": 10.349649,
     "end_time": "2023-12-06T05:17:23.717529",
     "exception": false,
     "start_time": "2023-12-06T05:17:13.367880",
     "status": "completed"
    },
    "tags": []
   },
   "outputs": [
    {
     "name": "stdout",
     "output_type": "stream",
     "text": [
      "Accuracy: 0.32586230036236746\n",
      "Precision: 0.31204753358929355\n",
      "Recall: 0.32586230036236746\n",
      "F1: 0.31689794966820795\n"
     ]
    }
   ],
   "source": [
    "# Create and train the Decision Tree model\n",
    "model1 = DecisionTreeClassifier(\n",
    "    random_state=42)\n",
    "model1.fit(X_train, y_train)\n",
    "\n",
    "\n",
    "# Make predictions on the test set and evaluate the model\n",
    "y_pred = model1.predict(X_test)\n",
    "accuracy1 = accuracy_score(y_test, y_pred)\n",
    "precision1 = precision_score(y_test, y_pred, average='weighted')\n",
    "recall1 = recall_score(y_test, y_pred, average='weighted')\n",
    "f11 = f1_score(y_test, y_pred, average='weighted')\n",
    "print(f'Accuracy: {accuracy1}')\n",
    "print(f'Precision: {precision1}')\n",
    "print(f'Recall: {recall1}')\n",
    "print(f'F1: {f11}')"
   ]
  },
  {
   "cell_type": "markdown",
   "id": "0d6cafe7",
   "metadata": {
    "papermill": {
     "duration": 0.004553,
     "end_time": "2023-12-06T05:17:23.727333",
     "exception": false,
     "start_time": "2023-12-06T05:17:23.722780",
     "status": "completed"
    },
    "tags": []
   },
   "source": [
    "Upon examination of our performance metrics, none of them are performing exceptionally well. Although the ~32% accuracy surpasses random guessing in our 8-class classification scenario, there is definitely room for improvement.\n",
    "\n",
    "**Next lets modify some hyperparameters in hopes of getting more accurate predictions.** "
   ]
  },
  {
   "cell_type": "code",
   "execution_count": 8,
   "id": "36f5a12b",
   "metadata": {
    "execution": {
     "iopub.execute_input": "2023-12-06T05:17:23.738222Z",
     "iopub.status.busy": "2023-12-06T05:17:23.737885Z",
     "iopub.status.idle": "2023-12-06T05:17:24.475900Z",
     "shell.execute_reply": "2023-12-06T05:17:24.475187Z"
    },
    "papermill": {
     "duration": 0.745691,
     "end_time": "2023-12-06T05:17:24.477744",
     "exception": false,
     "start_time": "2023-12-06T05:17:23.732053",
     "status": "completed"
    },
    "tags": []
   },
   "outputs": [
    {
     "name": "stdout",
     "output_type": "stream",
     "text": [
      "Accuracy: 0.3467990873708227\n",
      "Precision: 0.3874787149833532\n",
      "Recall: 0.3467990873708227\n",
      "F1: 0.24222301019537987\n"
     ]
    }
   ],
   "source": [
    "model2 = DecisionTreeClassifier(\n",
    "    random_state=42,\n",
    "    max_depth=20, \n",
    "    #min_samples_split=5,  \n",
    "    #min_samples_leaf=1,  \n",
    "    #max_features='sqrt',  \n",
    "    #criterion='entropy' \n",
    ")\n",
    "model2.fit(X_train, y_train)\n",
    "\n",
    "# Make predictions on the test set and evaluate the model\n",
    "y_pred = model2.predict(X_test)\n",
    "accuracy2 = accuracy_score(y_test, y_pred)\n",
    "precision2 = precision_score(y_test, y_pred, average='weighted')\n",
    "recall2 = recall_score(y_test, y_pred, average='weighted')\n",
    "f12 = f1_score(y_test, y_pred, average='weighted')\n",
    "print(f'Accuracy: {accuracy2}')\n",
    "print(f'Precision: {precision2}')\n",
    "print(f'Recall: {recall2}')\n",
    "print(f'F1: {f12}')\n",
    "\n"
   ]
  },
  {
   "cell_type": "code",
   "execution_count": 9,
   "id": "59b62e02",
   "metadata": {
    "execution": {
     "iopub.execute_input": "2023-12-06T05:17:24.492604Z",
     "iopub.status.busy": "2023-12-06T05:17:24.491914Z",
     "iopub.status.idle": "2023-12-06T05:17:24.943252Z",
     "shell.execute_reply": "2023-12-06T05:17:24.942598Z"
    },
    "papermill": {
     "duration": 0.461024,
     "end_time": "2023-12-06T05:17:24.945374",
     "exception": false,
     "start_time": "2023-12-06T05:17:24.484350",
     "status": "completed"
    },
    "tags": []
   },
   "outputs": [
    {
     "data": {
      "image/png": "[encoded data removed]",
      "text/plain": [
       "<Figure size 1000x800 with 2 Axes>"
      ]
     },
     "metadata": {},
     "output_type": "display_data"
    }
   ],
   "source": [
    "\n",
    "classes = np.unique(y_test)\n",
    "cm = confusion_matrix(y_test, y_pred)\n",
    "\n",
    "plt.figure(figsize=(10, 8))\n",
    "sns.heatmap(cm, annot=True, fmt=\"d\", cmap=\"Blues\", xticklabels=classes, yticklabels=classes)\n",
    "plt.title(\"Confusion Matrix\")\n",
    "plt.xlabel(\"Predicted\")\n",
    "plt.ylabel(\"True\")\n",
    "plt.show()"
   ]
  },
  {
   "cell_type": "markdown",
   "id": "71a169f6",
   "metadata": {
    "papermill": {
     "duration": 0.005377,
     "end_time": "2023-12-06T05:17:24.956705",
     "exception": false,
     "start_time": "2023-12-06T05:17:24.951328",
     "status": "completed"
    },
    "tags": []
   },
   "source": [
    "After exploring various hyperparameters and getting marginal improvements in accuracy, I've decided to shift gears. \n",
    "\n",
    "Departing from the conventional Bag of Words approach, I'm now experimenting with TF-IDF for a different representation of the textual data to hopefully enhance model performance. "
   ]
  },
  {
   "cell_type": "code",
   "execution_count": 10,
   "id": "ea464bfb",
   "metadata": {
    "execution": {
     "iopub.execute_input": "2023-12-06T05:17:24.968998Z",
     "iopub.status.busy": "2023-12-06T05:17:24.968671Z",
     "iopub.status.idle": "2023-12-06T05:17:27.424809Z",
     "shell.execute_reply": "2023-12-06T05:17:27.423303Z"
    },
    "papermill": {
     "duration": 2.464699,
     "end_time": "2023-12-06T05:17:27.426945",
     "exception": false,
     "start_time": "2023-12-06T05:17:24.962246",
     "status": "completed"
    },
    "tags": []
   },
   "outputs": [
    {
     "name": "stdout",
     "output_type": "stream",
     "text": [
      "Accuracy: 0.34263857200375786\n",
      "Precision: 0.30951702483529997\n",
      "Recall: 0.34263857200375786\n",
      "F1: 0.25516846031454665\n"
     ]
    }
   ],
   "source": [
    "from sklearn.feature_extraction.text import TfidfVectorizer\n",
    "\n",
    "#TF-IDF vecotorization \n",
    "vectorizer = TfidfVectorizer()\n",
    "X = vectorizer.fit_transform(lines)\n",
    "y = character\n",
    "\n",
    "\n",
    "X_train, X_test, y_train, y_test = train_test_split(X, y, test_size=0.2, random_state=42)\n",
    "\n",
    "# Adjust hyperparameters \n",
    "model3 = DecisionTreeClassifier(\n",
    "    random_state=42,\n",
    "    max_depth=20,\n",
    "    #min_samples_split=5,\n",
    "    #min_samples_leaf=2,\n",
    "    #max_features='sqrt',\n",
    "    #criterion='gini'\n",
    ")\n",
    "\n",
    "\n",
    "model3.fit(X_train, y_train)\n",
    "y_pred = model3.predict(X_test)\n",
    "accuracy3 = accuracy_score(y_test, y_pred)\n",
    "precision3 = precision_score(y_test, y_pred, average='weighted')\n",
    "recall3 = recall_score(y_test, y_pred, average='weighted')\n",
    "f13 = f1_score(y_test, y_pred, average='weighted')\n",
    "print(f'Accuracy: {accuracy3}')\n",
    "print(f'Precision: {precision3}')\n",
    "print(f'Recall: {recall3}')\n",
    "print(f'F1: {f13}')"
   ]
  },
  {
   "cell_type": "markdown",
   "id": "66bc04f0",
   "metadata": {
    "papermill": {
     "duration": 0.005363,
     "end_time": "2023-12-06T05:17:27.438293",
     "exception": false,
     "start_time": "2023-12-06T05:17:27.432930",
     "status": "completed"
    },
    "tags": []
   },
   "source": [
    "Transitioning from a bag-of-words representation to TF-IDF yielded minimal change. In fact, accuracy experienced a slight decrease. \n",
    "\n",
    "My next step will be to explore a different model- Random Forest, while maintaining the TF-IDF methodology. This shift aims to assess whether a different model can bring about improvements in performance.\n",
    "\n",
    "\n",
    "# Random Forest"
   ]
  },
  {
   "cell_type": "code",
   "execution_count": 11,
   "id": "583452bc",
   "metadata": {
    "execution": {
     "iopub.execute_input": "2023-12-06T05:17:27.450870Z",
     "iopub.status.busy": "2023-12-06T05:17:27.450524Z",
     "iopub.status.idle": "2023-12-06T05:19:15.066585Z",
     "shell.execute_reply": "2023-12-06T05:19:15.065757Z"
    },
    "papermill": {
     "duration": 107.629674,
     "end_time": "2023-12-06T05:19:15.073522",
     "exception": false,
     "start_time": "2023-12-06T05:17:27.443848",
     "status": "completed"
    },
    "tags": []
   },
   "outputs": [
    {
     "name": "stdout",
     "output_type": "stream",
     "text": [
      "Accuracy: 0.41068312978123744\n",
      "Precision: 0.4213432876008998\n",
      "Recall: 0.41068312978123744\n",
      "F1: 0.3505411781979835\n"
     ]
    }
   ],
   "source": [
    "from sklearn.ensemble import RandomForestClassifier\n",
    "model4 = RandomForestClassifier(random_state=42)\n",
    "model4.fit(X_train, y_train)\n",
    "\n",
    "# Make predictions on the test set\n",
    "y_pred = model4.predict(X_test)\n",
    "\n",
    "# Evaluate the model\n",
    "accuracy4 = accuracy_score(y_test, y_pred)\n",
    "precision4 = precision_score(y_test, y_pred, average='weighted')\n",
    "recall4 = recall_score(y_test, y_pred, average='weighted')\n",
    "f14 = f1_score(y_test, y_pred, average='weighted')\n",
    "print(f'Accuracy: {accuracy4}')\n",
    "print(f'Precision: {precision4}')\n",
    "print(f'Recall: {recall4}')\n",
    "print(f'F1: {f14}')"
   ]
  },
  {
   "cell_type": "markdown",
   "id": "b04a8623",
   "metadata": {
    "papermill": {
     "duration": 0.005638,
     "end_time": "2023-12-06T05:19:15.084959",
     "exception": false,
     "start_time": "2023-12-06T05:19:15.079321",
     "status": "completed"
    },
    "tags": []
   },
   "source": [
    "There was a significant improvement with this Random Forest model.  \n",
    "Next, lets adjust the hyper parameters of this model in hopes of getting an even better prediction. "
   ]
  },
  {
   "cell_type": "code",
   "execution_count": 12,
   "id": "71dba623",
   "metadata": {
    "execution": {
     "iopub.execute_input": "2023-12-06T05:19:15.098254Z",
     "iopub.status.busy": "2023-12-06T05:19:15.097880Z",
     "iopub.status.idle": "2023-12-06T06:09:39.233986Z",
     "shell.execute_reply": "2023-12-06T06:09:39.232809Z"
    },
    "papermill": {
     "duration": 3024.145528,
     "end_time": "2023-12-06T06:09:39.236308",
     "exception": false,
     "start_time": "2023-12-06T05:19:15.090780",
     "status": "completed"
    },
    "tags": []
   },
   "outputs": [
    {
     "name": "stdout",
     "output_type": "stream",
     "text": [
      "Best Hyperparameters: {'max_depth': None, 'min_samples_leaf': 1, 'min_samples_split': 10, 'n_estimators': 200}\n"
     ]
    }
   ],
   "source": [
    "# Create a Random Forest classifier\n",
    "rf_classifier = RandomForestClassifier()\n",
    "\n",
    "from sklearn.metrics import make_scorer, balanced_accuracy_score\n",
    "from sklearn.model_selection import GridSearchCV\n",
    "balanced_accuracy_scorer = make_scorer(balanced_accuracy_score)\n",
    "\n",
    "# Define the hyperparameter grid to search\n",
    "param_grid = {\n",
    "    'n_estimators': [50, 100, 200],\n",
    "    'max_depth': [None, 10, 20],\n",
    "    'min_samples_split': [2, 5, 10],\n",
    "    'min_samples_leaf': [1, 2, 4]\n",
    "}\n",
    "\n",
    "# Create a GridSearchCV object\n",
    "grid_search = GridSearchCV(estimator=rf_classifier, param_grid=param_grid, cv=3, scoring='accuracy')\n",
    "\n",
    "# Fit the GridSearchCV object to the training data\n",
    "grid_search.fit(X_train, y_train)\n",
    "\n",
    "# Print the best hyperparameters found\n",
    "print(\"Best Hyperparameters:\", grid_search.best_params_)\n",
    "\n",
    "# Get the best model from the grid search\n",
    "best_rf_model = grid_search.best_estimator_\n",
    "\n",
    "# Make predictions on the test data\n",
    "predictions = best_rf_model.predict(X_test)\n",
    "\n"
   ]
  },
  {
   "cell_type": "code",
   "execution_count": 13,
   "id": "d1592a7e",
   "metadata": {
    "execution": {
     "iopub.execute_input": "2023-12-06T06:09:39.249970Z",
     "iopub.status.busy": "2023-12-06T06:09:39.249618Z",
     "iopub.status.idle": "2023-12-06T06:09:39.260133Z",
     "shell.execute_reply": "2023-12-06T06:09:39.258759Z"
    },
    "papermill": {
     "duration": 0.019537,
     "end_time": "2023-12-06T06:09:39.262052",
     "exception": false,
     "start_time": "2023-12-06T06:09:39.242515",
     "status": "completed"
    },
    "tags": []
   },
   "outputs": [
    {
     "name": "stdout",
     "output_type": "stream",
     "text": [
      "Accuracy: 0.41068312978123744\n"
     ]
    }
   ],
   "source": [
    "# Evaluate the model\n",
    "accuracy = accuracy_score(y_test, y_pred)\n",
    "print(f\"Accuracy: {accuracy}\")\n"
   ]
  },
  {
   "cell_type": "markdown",
   "id": "b1693935",
   "metadata": {
    "papermill": {
     "duration": 0.005628,
     "end_time": "2023-12-06T06:09:39.274035",
     "exception": false,
     "start_time": "2023-12-06T06:09:39.268407",
     "status": "completed"
    },
    "tags": []
   },
   "source": [
    "In conclusion, the performance of the two basic models, Decision Tree and Random Forest, fell short in generating accurate predictions despite trying to tinker with different hyperparameters. I do believe that a neural network will demonstrate a better performance though. Part 3 will elaborate on using neural networks in the model. "
   ]
  },
  {
   "cell_type": "markdown",
   "id": "9e7a552a",
   "metadata": {
    "papermill": {
     "duration": 0.005583,
     "end_time": "2023-12-06T06:09:39.285270",
     "exception": false,
     "start_time": "2023-12-06T06:09:39.279687",
     "status": "completed"
    },
    "tags": []
   },
   "source": [
    "# REVAMP. \n",
    "\n",
    "This part was done after the due date,  but after watching others presentation I realized I could clean the data better and get better results. :-) \n",
    "\n",
    "I'm going to remove lines where there are less than two tokens, as lines like \"yes.\" and \"no.\" are going to be impossible to predict. \n",
    "Lets also remove Wesley because he has so little lines. "
   ]
  },
  {
   "cell_type": "code",
   "execution_count": 14,
   "id": "5b115963",
   "metadata": {
    "execution": {
     "iopub.execute_input": "2023-12-06T06:09:39.298654Z",
     "iopub.status.busy": "2023-12-06T06:09:39.298351Z",
     "iopub.status.idle": "2023-12-06T06:11:01.981348Z",
     "shell.execute_reply": "2023-12-06T06:11:01.980027Z"
    },
    "papermill": {
     "duration": 82.692311,
     "end_time": "2023-12-06T06:11:01.983532",
     "exception": false,
     "start_time": "2023-12-06T06:09:39.291221",
     "status": "completed"
    },
    "tags": []
   },
   "outputs": [
    {
     "name": "stdout",
     "output_type": "stream",
     "text": [
      "['PICARD', 'DATA', 'WORF', 'RIKER', 'LAFORGE']\n",
      "Accuracy: 0.502019522046449\n",
      "Precision: 0.534789533282787\n",
      "Recall: 0.502019522046449\n",
      "F1: 0.4490486532421065\n"
     ]
    },
    {
     "data": {
      "image/png": "[encoded data removed]",
      "text/plain": [
       "<Figure size 1000x800 with 2 Axes>"
      ]
     },
     "metadata": {},
     "output_type": "display_data"
    }
   ],
   "source": [
    "#Clean the Data by removing Troi, Wesley, and Worf. \n",
    "\n",
    "# TF-IDF vectorization\n",
    "vectorizer = TfidfVectorizer()\n",
    "X = vectorizer.fit_transform(df['Line'])\n",
    "y = df['Character']\n",
    "\n",
    "# Find rows with more than one word\n",
    "rows_to_keep = [i for i, text in enumerate(df['Line']) if len(text.split()) > 1]\n",
    "\n",
    "# Filter the data\n",
    "X = X[rows_to_keep]\n",
    "y = y.iloc[rows_to_keep]\n",
    "\n",
    "# Find rows with character 'Wesley'\n",
    "wesley_rows = [i for i, char in enumerate(y) if char.lower() != 'wesley']\n",
    "\n",
    "# Filter the data again\n",
    "X = X[wesley_rows]\n",
    "y = y.iloc[wesley_rows]\n",
    "\n",
    "\n",
    "# Find rows with character 'Troi'\n",
    "remove_rows = [i for i, char in enumerate(y) if char.lower() != 'troi']\n",
    "\n",
    "# Filter the data again\n",
    "X = X[remove_rows]\n",
    "y = y.iloc[remove_rows]\n",
    "\n",
    "# Find rows with character 'Crusher'\n",
    "remove_rows = [i for i, char in enumerate(y) if char.lower() != 'crusher']\n",
    "\n",
    "# Filter the data again\n",
    "X = X[remove_rows]\n",
    "y = y.iloc[remove_rows]\n",
    "\n",
    "\n",
    "# Display the list of unique characters\n",
    "unique_characters = y.unique().tolist()\n",
    "print(unique_characters)\n",
    "                             \n",
    "    \n",
    "X_train, X_test, y_train, y_test = train_test_split(X, y, test_size=0.2, random_state=42)\n",
    "\n",
    "\n",
    "model5 = RandomForestClassifier(\n",
    "    random_state=42,\n",
    "    n_estimators=200,\n",
    "    #criterion='entropy',\n",
    "    max_depth=None,  \n",
    "    min_samples_split=10,\n",
    "    min_samples_leaf=1,\n",
    "    #max_features=None,  \n",
    "    #max_leaf_nodes=None,  \n",
    "    #min_impurity_decrease=0.0,\n",
    ")\n",
    "model5.fit(X_train, y_train)\n",
    "\n",
    "# Make predictions on the test set\n",
    "y_pred = model5.predict(X_test)\n",
    "\n",
    "# Evaluate the model\n",
    "accuracy5 = accuracy_score(y_test, y_pred)\n",
    "precision5 = precision_score(y_test, y_pred, average='weighted')\n",
    "recall5 = recall_score(y_test, y_pred, average='weighted')\n",
    "f15= f1_score(y_test, y_pred, average='weighted')\n",
    "print(f'Accuracy: {accuracy5}')\n",
    "print(f'Precision: {precision5}')\n",
    "print(f'Recall: {recall5}')\n",
    "print(f'F1: {f15}')\n",
    "\n",
    "#Confusion Matrix\n",
    "classes = np.unique(y_test)\n",
    "cm = confusion_matrix(y_test, y_pred)\n",
    "plt.figure(figsize=(10, 8))\n",
    "sns.heatmap(cm, annot=True, fmt=\"d\", cmap=\"Blues\", xticklabels=classes, yticklabels=classes)\n",
    "plt.title(\"Confusion Matrix\")\n",
    "plt.xlabel(\"Predicted\")\n",
    "plt.ylabel(\"True\")\n",
    "plt.show()\n"
   ]
  },
  {
   "cell_type": "markdown",
   "id": "a54d9c65",
   "metadata": {
    "papermill": {
     "duration": 0.006229,
     "end_time": "2023-12-06T06:11:01.996470",
     "exception": false,
     "start_time": "2023-12-06T06:11:01.990241",
     "status": "completed"
    },
    "tags": []
   },
   "source": [
    "My results are better, but not as much as I'd have liked. "
   ]
  }
 ],
 "metadata": {
  "kaggle": {
   "accelerator": "none",
   "dataSources": [],
   "isGpuEnabled": false,
   "isInternetEnabled": true,
   "language": "python",
   "sourceType": "notebook"
  },
  "kernelspec": {
   "display_name": "Python 3",
   "language": "python",
   "name": "python3"
  },
  "language_info": {
   "codemirror_mode": {
    "name": "ipython",
    "version": 3
   },
   "file_extension": ".py",
   "mimetype": "text/x-python",
   "name": "python",
   "nbconvert_exporter": "python",
   "pygments_lexer": "ipython3",
   "version": "3.10.12"
  },
  "papermill": {
   "default_parameters": {},
   "duration": 3236.791738,
   "end_time": "2023-12-06T06:11:02.626907",
   "environment_variables": {},
   "exception": null,
   "input_path": "__notebook__.ipynb",
   "output_path": "__notebook__.ipynb",
   "parameters": {},
   "start_time": "2023-12-06T05:17:05.835169",
   "version": "2.4.0"
  }
 },
 "nbformat": 4,
 "nbformat_minor": 5
}
