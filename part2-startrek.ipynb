{
 "cells": [
  {
   "cell_type": "markdown",
   "id": "838a4f53",
   "metadata": {
    "papermill": {
     "duration": 0.010885,
     "end_time": "2023-11-26T18:10:45.226629",
     "exception": false,
     "start_time": "2023-11-26T18:10:45.215744",
     "status": "completed"
    },
    "tags": []
   },
   "source": [
    "# Project Part 1\n",
    "\n",
    "[![Kaggle](https://kaggle.com/static/images/open-in-kaggle.svg)](https://kaggle.com/kernels/welcome?src=https://github.com/brearenee/NLP-Project/blob/main/startrek.ipynb)\n",
    "\n",
    "[![Open In Colab](https://colab.research.google.com/assets/colab-badge.svg)](https://colab.research.google.com/github/sgeinitz/https://github.com/brearenee/NLP-Project/blob/main/startrek.ipynb)\n"
   ]
  },
  {
   "cell_type": "markdown",
   "id": "b45542b7",
   "metadata": {
    "papermill": {
     "duration": 0.009861,
     "end_time": "2023-11-26T18:10:45.247984",
     "exception": false,
     "start_time": "2023-11-26T18:10:45.238123",
     "status": "completed"
    },
    "tags": []
   },
   "source": [
    "## 1. Introduction/Background\n",
    "In this notebook, I will analyze a dataset containing dialogue transcripts from various Star Trek series episodes, sourced from Kaggle [here](http://http://https://www.kaggle.com/datasets/birkoruzicka/startrekdialoguetranscripts/data). This dataset encompasses numerous script lines, each accompanied by details regarding the associated episode, series, and the character delivering the dialogue.\n",
    "\n",
    "The primary objective of this project is to develop a model proficient in predicting the character (denoted as the \"y\" value) associated with a given line (the \"x\" value) from the Star Trek series \"The Next Generation.\" This task falls within the domain of Authorship Attribution, a specialized aspect of text classification. It involves the model learning distinctive patterns indicative of the speaking style of each character.\n",
    "\n",
    "Although this type of prediction can be challenging, the diversity in the personalities and speaking styles of Star Trek characters, particularly in \"The Next Generation,\" gives me hope for a solid analysis. Given the array of characters in Star Trek TNG, the model's predictive task involves a multi-classification scenario. For simplicity, the focus will be narrowed down to the top 8 characters in the show.\n",
    "\n",
    "\n"
   ]
  },
  {
   "cell_type": "markdown",
   "id": "1f9a17ce",
   "metadata": {
    "papermill": {
     "duration": 0.016869,
     "end_time": "2023-11-26T18:10:45.276470",
     "exception": false,
     "start_time": "2023-11-26T18:10:45.259601",
     "status": "completed"
    },
    "tags": []
   },
   "source": [
    "## 2. Data Preprocessing/ Exploratory Data Analysis\n",
    "\n",
    "This phase focuses on examining the data, making necessary adjustments for cleaning the dataset, and ensuring it adopts a format suitable for future analysis. It establishes a continuous loop between Exploratory Data Analysis and Data Preprocessing.\n",
    "\n",
    "To begin, the dataset originates as a complex, nested JSON file, and its original structure is not optimal for the intended model. You can view the original JSON file [here](http://https://raw.githubusercontent.com/brearenee/NLP-Project/main/dataset/StarTrekDialogue_v2.json) (it’s size is too large for the notebook)\n",
    "\n",
    "The dataset also contains extra data that isn't relevant to the analysis. Because of this, there's a need to parse through the file, transforming its structure to generate a more streamlined and practical dataframe. Given the objective of predicting lines exclusively from \"The Next Generation,\" data from other series will be removed to refine the dataset.\n",
    "\n"
   ]
  },
  {
   "cell_type": "code",
   "execution_count": 1,
   "id": "29c8b071",
   "metadata": {
    "execution": {
     "iopub.execute_input": "2023-11-26T18:10:45.308980Z",
     "iopub.status.busy": "2023-11-26T18:10:45.307991Z",
     "iopub.status.idle": "2023-11-26T18:10:49.789117Z",
     "shell.execute_reply": "2023-11-26T18:10:49.787500Z"
    },
    "papermill": {
     "duration": 4.497456,
     "end_time": "2023-11-26T18:10:49.792428",
     "exception": false,
     "start_time": "2023-11-26T18:10:45.294972",
     "status": "completed"
    },
    "tags": []
   },
   "outputs": [],
   "source": [
    "import pandas as pd\n",
    "import json\n",
    "import requests\n",
    "import nltk\n",
    "import matplotlib.pyplot as plt\n",
    "import seaborn as sns\n",
    "from nltk.corpus import stopwords\n",
    "from nltk.tokenize import word_tokenize\n",
    "from sklearn.feature_extraction.text import CountVectorizer"
   ]
  },
  {
   "cell_type": "code",
   "execution_count": 2,
   "id": "e04872f0",
   "metadata": {
    "execution": {
     "iopub.execute_input": "2023-11-26T18:10:49.816428Z",
     "iopub.status.busy": "2023-11-26T18:10:49.815602Z",
     "iopub.status.idle": "2023-11-26T18:10:52.587511Z",
     "shell.execute_reply": "2023-11-26T18:10:52.586098Z"
    },
    "papermill": {
     "duration": 2.787244,
     "end_time": "2023-11-26T18:10:52.590630",
     "exception": false,
     "start_time": "2023-11-26T18:10:49.803386",
     "status": "completed"
    },
    "tags": []
   },
   "outputs": [],
   "source": [
    "url = 'https://raw.githubusercontent.com/brearenee/NLP-Project/main/dataset/StarTrekDialogue_v2.json'\n",
    "response = requests.get(url)\n",
    "\n",
    "##This CodeBlock is thanks to ChatGPT :-) \n",
    "if response.status_code == 200:\n",
    "    json_data = json.loads(response.text)\n",
    "    lines = []\n",
    "    characters = []\n",
    "    episodes = []\n",
    "  \n",
    "    # extract the information from the JSON file for the \"TNG\" series\n",
    "    for series_name, series_data in json_data.items():\n",
    "        if series_name == \"TNG\": \n",
    "            for episode_name, episode_data in series_data.items():\n",
    "                for character_name, character_lines in episode_data.items():\n",
    "                    for line_text in character_lines:\n",
    "                        lines.append(line_text)\n",
    "                        characters.append(character_name)\n",
    "                        episodes.append(episode_name)\n",
    "                     \n",
    "    # Create a DataFrame from the extracted data\n",
    "    df = pd.DataFrame({\n",
    "        'Line': lines,\n",
    "        'Character': characters,\n",
    "        'Episode': episodes,\n",
    "    })\n",
    "\n",
    "    # Remove duplicate lines, keeping the first occurrence (preserving the original order)\n",
    "    df = df.drop_duplicates(subset='Line', keep='first')\n",
    "\n",
    "    # Reset the index of the DataFrame\n",
    "    df.reset_index(drop=True, inplace=True)\n",
    "\n",
    "else:\n",
    "    print(f\"Failed to retrieve data. Status code: {response.status_code}\")\n"
   ]
  },
  {
   "cell_type": "markdown",
   "id": "742a6396",
   "metadata": {
    "papermill": {
     "duration": 0.01,
     "end_time": "2023-11-26T18:10:52.610544",
     "exception": false,
     "start_time": "2023-11-26T18:10:52.600544",
     "status": "completed"
    },
    "tags": []
   },
   "source": [
    "Now that our JSON file is parsed, lets take a look at our dataframe. "
   ]
  },
  {
   "cell_type": "code",
   "execution_count": 3,
   "id": "a3d806d9",
   "metadata": {
    "execution": {
     "iopub.execute_input": "2023-11-26T18:10:52.633116Z",
     "iopub.status.busy": "2023-11-26T18:10:52.632682Z",
     "iopub.status.idle": "2023-11-26T18:10:52.656675Z",
     "shell.execute_reply": "2023-11-26T18:10:52.655357Z"
    },
    "papermill": {
     "duration": 0.039654,
     "end_time": "2023-11-26T18:10:52.659995",
     "exception": false,
     "start_time": "2023-11-26T18:10:52.620341",
     "status": "completed"
    },
    "tags": []
   },
   "outputs": [
    {
     "data": {
      "text/html": [
       "<div>\n",
       "<style scoped>\n",
       "    .dataframe tbody tr th:only-of-type {\n",
       "        vertical-align: middle;\n",
       "    }\n",
       "\n",
       "    .dataframe tbody tr th {\n",
       "        vertical-align: top;\n",
       "    }\n",
       "\n",
       "    .dataframe thead th {\n",
       "        text-align: right;\n",
       "    }\n",
       "</style>\n",
       "<table border=\"1\" class=\"dataframe\">\n",
       "  <thead>\n",
       "    <tr style=\"text-align: right;\">\n",
       "      <th></th>\n",
       "      <th>Line</th>\n",
       "      <th>Character</th>\n",
       "      <th>Episode</th>\n",
       "    </tr>\n",
       "  </thead>\n",
       "  <tbody>\n",
       "    <tr>\n",
       "      <th>0</th>\n",
       "      <td>You will agree, Data, that Starfleet's\\r order...</td>\n",
       "      <td>PICARD</td>\n",
       "      <td>tng_000</td>\n",
       "    </tr>\n",
       "    <tr>\n",
       "      <th>1</th>\n",
       "      <td>As simple as that.</td>\n",
       "      <td>PICARD</td>\n",
       "      <td>tng_000</td>\n",
       "    </tr>\n",
       "    <tr>\n",
       "      <th>2</th>\n",
       "      <td>It's hardly simple, Data, to negotiate a frien...</td>\n",
       "      <td>PICARD</td>\n",
       "      <td>tng_000</td>\n",
       "    </tr>\n",
       "    <tr>\n",
       "      <th>3</th>\n",
       "      <td>Data, how can you be programmed as a virtual e...</td>\n",
       "      <td>PICARD</td>\n",
       "      <td>tng_000</td>\n",
       "    </tr>\n",
       "    <tr>\n",
       "      <th>4</th>\n",
       "      <td>It means to spy, to sneak.</td>\n",
       "      <td>PICARD</td>\n",
       "      <td>tng_000</td>\n",
       "    </tr>\n",
       "    <tr>\n",
       "      <th>...</th>\n",
       "      <td>...</td>\n",
       "      <td>...</td>\n",
       "      <td>...</td>\n",
       "    </tr>\n",
       "    <tr>\n",
       "      <th>95</th>\n",
       "      <td>My crew and I need a bit more information\\r be...</td>\n",
       "      <td>PICARD</td>\n",
       "      <td>tng_000</td>\n",
       "    </tr>\n",
       "    <tr>\n",
       "      <th>96</th>\n",
       "      <td>Good, since we admire what we've seen of your ...</td>\n",
       "      <td>PICARD</td>\n",
       "      <td>tng_000</td>\n",
       "    </tr>\n",
       "    <tr>\n",
       "      <th>97</th>\n",
       "      <td>Counsellor? What is it?</td>\n",
       "      <td>PICARD</td>\n",
       "      <td>tng_000</td>\n",
       "    </tr>\n",
       "    <tr>\n",
       "      <th>98</th>\n",
       "      <td>Yes. No secrets here if we're to be all to be ...</td>\n",
       "      <td>PICARD</td>\n",
       "      <td>tng_000</td>\n",
       "    </tr>\n",
       "    <tr>\n",
       "      <th>99</th>\n",
       "      <td>The source of this, Groppler. Do you have any ...</td>\n",
       "      <td>PICARD</td>\n",
       "      <td>tng_000</td>\n",
       "    </tr>\n",
       "  </tbody>\n",
       "</table>\n",
       "<p>100 rows × 3 columns</p>\n",
       "</div>"
      ],
      "text/plain": [
       "                                                 Line Character  Episode\n",
       "0   You will agree, Data, that Starfleet's\\r order...    PICARD  tng_000\n",
       "1                                  As simple as that.    PICARD  tng_000\n",
       "2   It's hardly simple, Data, to negotiate a frien...    PICARD  tng_000\n",
       "3   Data, how can you be programmed as a virtual e...    PICARD  tng_000\n",
       "4                          It means to spy, to sneak.    PICARD  tng_000\n",
       "..                                                ...       ...      ...\n",
       "95  My crew and I need a bit more information\\r be...    PICARD  tng_000\n",
       "96  Good, since we admire what we've seen of your ...    PICARD  tng_000\n",
       "97                            Counsellor? What is it?    PICARD  tng_000\n",
       "98  Yes. No secrets here if we're to be all to be ...    PICARD  tng_000\n",
       "99  The source of this, Groppler. Do you have any ...    PICARD  tng_000\n",
       "\n",
       "[100 rows x 3 columns]"
      ]
     },
     "execution_count": 3,
     "metadata": {},
     "output_type": "execute_result"
    }
   ],
   "source": [
    "df.head(100)"
   ]
  },
  {
   "cell_type": "markdown",
   "id": "1547eacb",
   "metadata": {
    "papermill": {
     "duration": 0.010025,
     "end_time": "2023-11-26T18:10:52.680368",
     "exception": false,
     "start_time": "2023-11-26T18:10:52.670343",
     "status": "completed"
    },
    "tags": []
   },
   "source": [
    "Lets now explore the Characters field to see what characters exist in our dataframe. "
   ]
  },
  {
   "cell_type": "code",
   "execution_count": 4,
   "id": "3f182b1f",
   "metadata": {
    "execution": {
     "iopub.execute_input": "2023-11-26T18:10:52.704031Z",
     "iopub.status.busy": "2023-11-26T18:10:52.703622Z",
     "iopub.status.idle": "2023-11-26T18:10:52.719866Z",
     "shell.execute_reply": "2023-11-26T18:10:52.718587Z"
    },
    "papermill": {
     "duration": 0.031707,
     "end_time": "2023-11-26T18:10:52.722538",
     "exception": false,
     "start_time": "2023-11-26T18:10:52.690831",
     "status": "completed"
    },
    "tags": []
   },
   "outputs": [
    {
     "name": "stdout",
     "output_type": "stream",
     "text": [
      "['PICARD', 'DATA', 'TROI', 'TORRES', 'WORF', 'Q', 'TASHA', \"O'BRIEN\", 'BAILIFF', 'SOLDIER', 'ZORN', 'RIKER', 'WESLEY', 'CRUSHER', 'LAFORGE', 'MCCOY', 'ENSIGN', 'COMPUTER', 'SECURITY', 'CREW', 'WOMAN', 'MAN', 'SHIMODA', 'MACDOUGAL', 'CREWMAN', 'LUTAN', 'HAGON', 'YAREENA', 'CHIEF', 'TARR', 'LETEK', 'MORDOC', 'KAYRON', 'PORTAL', 'KOSINSKI', 'ARGYLE', 'TRAVELLER', 'MAMAN', 'SELAY', 'GEORDI', 'ANTICAN', 'SINGH', 'RIVAN', 'LIATOR', 'EDO', 'BOY', 'GIRL', 'OFFICER', 'MEDIATOR 2', 'MEDIATOR', 'BEVERLY', 'MEDIC', 'BOK', 'KAZAGO', 'RATA', 'VOICES', 'VOICE', 'FACE', 'STEVEN', 'VICTORIA', 'WYATT', 'LWAXANA', 'VALEDA', 'WRENN', 'ARIANA', 'HOMN', 'SECRETARY', 'JESSICA', 'LEECH', 'WHALEN', 'VENDOR', 'BELL', 'MCNARY', 'JARADAN', 'POLICEMAN', 'SERGEANT', 'REDBLOCK', 'THUG', 'LORE', 'BEATA', 'ARIEL', 'TRENT', 'RAMSEY', 'QUINTEROS', 'ONE ZERO', 'ZERO ONE', 'ZERO ZERO', 'ONE ONE', 'MINUET', 'BASS', 'PIANO', 'STARBASE', 'JAMESON', 'KARNAS', 'ANNE', 'BERNARD', 'HARRY', 'RASHELLA', 'RADUE', 'KATIE', 'TOYA', 'LEDA', 'ACCOLAN', 'MELIAN', 'DUANA', 'CUSTODIAN', 'ALEXANDRA', 'MANDL', 'LUISA', 'BENSON', 'BENSEN', 'MALENCON', 'CREWWOMAN', 'JAKE', 'QUINN', 'REMMICK', 'OLIANA', \"T'SHANIK\", 'MORDOCK', 'CHANG', 'RONDON', 'MAN 2', 'KORRIS', 'KONMEL', 'NURSE', \"K'NERA\", 'GUARD', 'SALESMAN', \"T'SU\", 'RICE', 'LOGAN', 'SOLIS', \"T'JON\", 'ROMAS', 'SOBI', 'LANGOR', 'MARGAN', 'PRIETO', 'LYNCH', 'ARMUS', 'NURSE 2', 'DEAN', 'MANHEIM', 'EDOUARD', 'FRANCINE', 'GABRIELLE', 'JENICE', 'PICARD 2', 'DATA 2', 'DATA 3', 'DATA 1', 'KEEL', 'RIXX', 'TRYLA', 'SAVAR', 'AARON', 'RALPH', 'SONNY', 'CLARE', 'TEBOK', 'THEI', 'REPULSE', 'SICKBAY', 'GUINAN', 'PULASKI', 'DEALT', 'IAN', 'MISS GLADSTONE', 'HASKELL', 'NAGILUM', 'CLANCY', 'LESTRADE', 'PIE MAN', 'WHORE', 'MORIARTY', 'BOTH', 'RUFFIAN', 'OKONA', 'ROBINSON', 'COMIC', 'DEBIN', 'KUSHELL', 'BENZAN', 'YANAR', 'SCHOLAR', 'ADONIS', 'ALIEN 1', 'ALIEN 2', 'ALIEN 3', 'KAREEN', 'GRAVES', 'SELAR', 'TELAKA', 'LANTREE', 'KINGSLEY', 'TAGGERT', 'MENDON', 'KARGAN', 'TACTICS', 'KLAG', 'VEKMA', 'PHILLIPA', 'NAKAMURA', 'MADDOX', 'GIBSON', 'ANYA', 'SALIA', 'VARLEY', 'TARIS', 'DOCTOR', 'WILLIAMS', 'BELLBOY', 'CLERK', 'TEXAS', 'VANESSA', 'MICKEY D', 'CROUPIER', 'P2', 'HERBERT', 'KYLE', 'DAVIES', 'SARJENKA', 'HILDEBRANDT', 'ALANS', 'SONYA', 'BORG', 'GREBNEDLOG', 'REGINOD', 'SURGEON', 'PHYSIOLOGIST', 'DANILO', 'BRENNA', 'GRANGER', 'GRANGER 2', 'PILOT', 'MADELINE', 'SLADE', 'REX', 'ANTEDEANS', 'ANTEDEAN', 'CLANCEY', 'GROMEK', \"K'EHLEYR\", 'TACTICAL', \"K'TEMOC\", 'KOLRAMI', 'BURKE', 'NAGEL', 'BRACTOR', 'TACTICIAN', 'A', 'STUBBS', 'SHELIAK', 'HARITATH', 'KENTOR', 'GOSHEVEN', \"ARD'RIAN\", 'ALL', 'KEVIN', 'RISHON', 'BARRON', 'LIKO', 'OJI', 'OGAWA', 'FENTO', 'NURIA', 'HALI', 'JEREMY', 'DAD', 'MARLA', 'CHRISTY', 'GALEK SAR', 'LEAH', 'PATAHK', 'TOMALAK', 'BOCHRA', 'BHAVANI', 'MENDOZA', 'LEYOR', 'RAL', 'GOSS', 'ARRIDOR', 'MAROUK', 'YUTA', 'BRULL', 'VOLNOTH', 'TEMAREK', 'CHORGAN', 'BATES', 'SETAL', 'HADEN', 'JAROK', 'NAYROK', 'ZAYNAR', 'ROGA', 'WAGNOR', 'KATIK', 'ALEXANA', 'FINN', 'POLICE', 'GARIN', 'SCIENTIST', 'WAITRESS', 'Q2', 'KRAG', 'APGAR', 'MANUA', 'TAYNA', 'GARRETT', 'CASTILLO', 'KLINGON', 'LAL', 'HAFTEL', 'BALLARD', 'KURN', \"K'MPEC\", 'DURAS', 'KAHLEST', 'HARO', 'THOLL', 'ESOQQ', 'ALIEN 4', 'ALIEN 1+4', 'AJUR', 'BORATUS', 'VASH', 'JOVAL', 'SOVAK', 'DESOTO', 'TAM', 'ROMULAN', 'BARCLAY', 'DUFFY', 'HOLO-PICARD', 'HOLO-DATA', 'HOLO-LAFORGE', 'HOLO-RIKER', 'HOLO-TROI', 'VARRIA', 'FAJO', 'TOFF', 'MENDROSSEN', 'SAKKATH', 'SAREK', 'PERRIN', 'NIBOR', 'GRAX', 'FAREK', 'TOG', 'FERENGI', 'CHRISTI', 'TEMPLE', 'JOHN', 'SUNAD', 'HANSON', 'SHELBY', 'GLEASON', 'FEMALE', 'HELENA', 'SERGEY', 'RENE', 'MARIE', 'ROBERT', 'LOUIS', 'JACK', 'KOPF', 'WILLIE', 'SOONG', 'JONO', 'CONNOR', 'MOIRA', 'JEREMIAH', 'ENDAR', 'CONNAUGHT', 'QUAICE', 'TAN TSU', 'PASSER-BY', 'HAYNE', 'ISHARA', 'ALEXANDER', 'GOWRON', 'HUBBLE', 'JEAN-LUC', 'ETHAN', 'SONGI', 'DIRGO', 'ALLENBY', 'BROOKS', 'KEIKO', 'TECHNICIAN', \"T'PEL\", \"V'SAL\", 'MENDAK', 'MACET', 'DARO', 'WAITER', 'TELLE', 'MAXWELL', 'MARLEY', 'CLARK', 'JARED', 'ARDRA', \"FEK'LHR\", 'DEVIL', 'JOHNNY', 'MCKNIGHT', 'ALYSSA', 'TAVA', 'NILREM', 'BEREL', 'MIRASTA', 'DURKEN', 'KROLA', 'MALE', 'LANEL', 'RAGER', 'PAVLIK', 'HAGAN', 'ZAHEVA', 'PEEPLES', 'GILLESPIE', 'LIN', 'BREVELLE', 'SUSANNA', 'HICKMAN', 'GRAHAM', 'HOLO-SUZ', 'HEDRICK', 'ANAYA', 'LARSON', 'EINSTEIN', 'BROWER', 'ALIEN', 'TROI + VASH', 'SIR GUY', 'RABBLE', \"J'DAN\", 'SATIE', 'SABIN', 'TARSES', 'NELLEN', 'TIMICIN', \"B'TARDAT\", 'DARA', 'ODAN', 'LEKA', 'TAGGART', 'KALIN', 'LATHAL', 'KAREEL', 'LAFORGE + COMPUTER', 'KELL', 'TAIBAK', 'VAGH', 'JENNA', 'MILES', \"K'TAL\", 'TORAL', \"B'ETOR\", 'LURSA', 'MOVAR', 'HELMSMAN', 'HELM', 'SHANTHI', 'LARG', 'HOBSON', 'SELA', 'KULGE', 'DATHON', 'TAMARIAN', 'LEFLER', 'MOT', 'KENNELLY', 'RO', 'KEEVE', 'COLLINS', 'ORTA', 'DOLAK', 'CARMEN', 'MARR', 'CAPTAIN', 'PATTERSON', 'JAY GORDON', 'MONROE', 'MANDEL', 'MARISSA', 'ETANA', 'ROBIN', 'BRACKETT', \"B'IJIK\", \"K'VADA\", 'DOKACHIN', 'NERAL', 'PARDEK', 'LADY', 'ROMULAN 1', 'SPOCK', \"D'TAN\", 'AMARIE', 'WOMAN 2', 'OMAG', 'HOLO-SPOCK', 'VARIOUS', 'RASMUSSEN', 'MOSELEY', \"JA'DAR\", 'FELTON', 'TIMOTHY', 'HUTCHINSON', 'TEACHER', 'TARMIN', 'JEV', 'INAD', 'MARTIN', 'DAVIS', 'CONOR', 'HANNAH', 'CONOR + TROI', 'KRISTIN', 'MACDUFF', 'RUSSELL', 'SOREN', 'KRITE', 'NOOR', 'BATESON', 'BRAND', 'LOCARNO', 'BOOTHBY', 'CADET', 'SITO', 'HAJAR', 'SATELK', 'ALBERT', 'JUGGLER', 'YOUNG MAN', 'YOUNG WOMAN', 'POET', 'CAMPIO', 'ERKO', 'BRIAM', 'QOL', 'LENOR', 'KAMALA', 'MINER 1', 'MINER 2', 'MINER 3', 'ALRIK', 'CLARA', 'SUTTER', 'ISABELLA', 'MCDOWELL', 'MIROK', 'VAREL', 'BROSSMER', 'PAREM', 'ELINE', 'BATAI', 'ADMINISTRATOR', 'MERIBOR', 'BATAI JR', 'BEGGAR', 'GAMBLER', 'SEAMAN', 'NATIVE', 'CLEMENS', 'DOORMAN', 'REPORTER', 'CARMICHAEL', 'HAYES', 'TALMADGE', 'ALKAR', 'MAYLOR', 'SIMONS', 'JARTH', 'LIVA', 'JANEWAY', 'SCOTT', 'KANE', 'BARTEL', 'SHIPLEY', 'ENGINEER', 'KAMINER', 'AMANDA', 'LOTE', 'PICARD JR', 'RO JR', 'GUINAN JR', 'KEIKO JR', 'MOLLY', 'BERIK', 'MORTA', 'LURIN', 'CHILD', 'ELI', 'BANDITO', 'ANNIE', 'DATA-FRANK', 'DATA-ELI', 'DATA-MEXICAN', 'DATA-ANNIE', 'FARALLON', 'KELSO', 'PIERSON', 'NECHAYEV', 'JELLICO', 'SOLOK', 'LEMEC', 'MADRED', 'JIL ORRA', 'GENTLEMAN', 'COUNTESS', 'AQUIEL', 'TORAK', 'BARMAN', 'MORAG', \"N'VEK\", 'TORETH', 'DESEVE', 'MAURICE', 'MARTA', 'COREY', 'PENNY', 'NAUSICAAN 1', 'NAUSICAAN', 'BASHIR', 'SHREK', \"BA'EL\", \"L'KOR\", \"GI'RAL\", 'TOQ', 'TOKATH', 'ORTON', 'KELSEY', 'NEIL', 'KIROS', 'DEVOR', 'HUTCH', 'SATLER', 'POMET', 'PICARD + COMPUTER', 'NELLA', 'MARQUEZ', 'GALEN', 'OCETT', \"NU'DAQ\", 'HUMANOID', 'CROWD', 'SYRUS', 'MAVEK', 'JAYA', 'LIEUTENANT', 'SUNA', 'REYGA', \"T'PAN\", 'KURAK', 'CHRISTOPHER', \"JO'BRIL\", 'DIVOK', 'KOROTH', 'KAHLESS', 'TORIN', 'RIKER 2', 'PALMER', 'ROMULAN 2', 'ROMULAN 3', 'HAWKING', 'NEWTON', 'BOSUS', 'TAYAR', 'FRANKLIN', 'CROSIS', 'HUGH', 'TAITT', 'SALAZAR', 'POWELL', 'BARNABY', 'GOVAL', 'LOQUEL', 'BYLETH', 'VOVAL', 'ANNA', 'HOLT', 'SILVA', 'DR LA FORGE', 'BARTENDER', 'YRANAC', 'CHEKOTE', 'GIUSTI', 'BARAN', 'NARIK', 'VEKOR', 'TALLERA', 'SANDERS', 'YRANEC', 'KORAL', 'SATOK', 'WORKMAN', 'TYLER', 'FREUD', 'HEDRIL', 'MAQUES', 'KESTRA', 'KES', 'LORIN', 'MAURIC', 'PRYTT', 'AIDE', 'TROOPER', 'PRAK', 'RABAL', 'SEROVA', 'JULIANA', 'PRAN', 'AUDIENCE', 'NADOR', 'BLACKWELL', 'PRESSMAN', 'SIROL', 'VORIN', 'KATERAS', 'NIKOLAI', 'DOBARA', 'MATURIN', 'QUINT', 'RONIN', 'FELISA', 'LAVELLE', 'TAURIK', 'BEN', 'JORET', 'RAINER', 'GARVIN', 'GIA', 'TALUR', 'SKORAN', 'APPRENTICE', 'ERIC', 'DATA-IHAT', 'DATA-VICTIM', 'DATA-BOY', 'DATA-ELDER', 'DATA-MASAKA', 'NARA', 'KWAN', 'CALLOWAY', 'PIERCE', 'DERN', 'NECHEYEV', 'WAKASA', 'ANTHWARA', 'LAKANTA', 'GUL EVEK', 'INDIAN', 'TELAK', 'SINGER', 'MOLOR', 'ROBBER', \"K'MTAR\", 'QUARK', 'GORTA', 'YOG', 'JASON', 'BIRTA', 'RHODES', 'TOL', 'CONDUCTOR', 'RUSTIC', 'GANGSTER', 'SANTOS', 'MACIAS', 'KALITA', 'JESSEL', 'CHILTON', 'TOMOLAK', 'GAINES']\n"
     ]
    }
   ],
   "source": [
    "unique_characters = df['Character'].unique().tolist()\n",
    "\n",
    "# Display the list of unique characters\n",
    "print(unique_characters)"
   ]
  },
  {
   "cell_type": "markdown",
   "id": "420836b0",
   "metadata": {
    "papermill": {
     "duration": 0.010206,
     "end_time": "2023-11-26T18:10:52.744695",
     "exception": false,
     "start_time": "2023-11-26T18:10:52.734489",
     "status": "completed"
    },
    "tags": []
   },
   "source": [
    "As you can see, \"The Next Generation\" series has quite a few characters. Let's eliminate all of the outliers by removing characters that don't occur in more than 5 episodes. "
   ]
  },
  {
   "cell_type": "code",
   "execution_count": 5,
   "id": "f4ade939",
   "metadata": {
    "execution": {
     "iopub.execute_input": "2023-11-26T18:10:52.769410Z",
     "iopub.status.busy": "2023-11-26T18:10:52.768974Z",
     "iopub.status.idle": "2023-11-26T18:10:52.807639Z",
     "shell.execute_reply": "2023-11-26T18:10:52.804876Z"
    },
    "papermill": {
     "duration": 0.055144,
     "end_time": "2023-11-26T18:10:52.811130",
     "exception": false,
     "start_time": "2023-11-26T18:10:52.755986",
     "status": "completed"
    },
    "tags": []
   },
   "outputs": [
    {
     "name": "stdout",
     "output_type": "stream",
     "text": [
      "['PICARD', 'DATA', 'TROI', 'WORF', 'Q', 'TASHA', \"O'BRIEN\", 'RIKER', 'WESLEY', 'CRUSHER', 'LAFORGE', 'COMPUTER', 'SECURITY', 'WOMAN', 'MAN', 'CREWMAN', 'CHIEF', 'MEDIC', 'VOICE', 'LWAXANA', 'CREWWOMAN', 'NURSE', 'GUINAN', 'PULASKI', 'ALL', 'OGAWA', 'KLINGON', 'ROMULAN', 'ALEXANDER', 'KEIKO', 'RO']\n"
     ]
    }
   ],
   "source": [
    "episode_counts = df.groupby('Character')['Episode'].nunique()\n",
    "\n",
    "characters_to_keep = episode_counts[episode_counts > 5].index\n",
    "\n",
    "df = df[df['Character'].isin(characters_to_keep)]\n",
    "unique_characters = df['Character'].unique().tolist()\n",
    "\n",
    "\n",
    "print(unique_characters)"
   ]
  },
  {
   "cell_type": "markdown",
   "id": "695c7bed",
   "metadata": {
    "papermill": {
     "duration": 0.010125,
     "end_time": "2023-11-26T18:10:52.833162",
     "exception": false,
     "start_time": "2023-11-26T18:10:52.823037",
     "status": "completed"
    },
    "tags": []
   },
   "source": [
    "This result is a lot better, but there are still some fields in here like \"ALL\" \"BOTH\" or \"GIRL\" that dont correlate to one single character/species \n",
    "\n",
    "Lets check the character distribution\n"
   ]
  },
  {
   "cell_type": "code",
   "execution_count": 6,
   "id": "628ec064",
   "metadata": {
    "execution": {
     "iopub.execute_input": "2023-11-26T18:10:52.858646Z",
     "iopub.status.busy": "2023-11-26T18:10:52.858156Z",
     "iopub.status.idle": "2023-11-26T18:10:52.874767Z",
     "shell.execute_reply": "2023-11-26T18:10:52.873362Z"
    },
    "papermill": {
     "duration": 0.034662,
     "end_time": "2023-11-26T18:10:52.878626",
     "exception": false,
     "start_time": "2023-11-26T18:10:52.843964",
     "status": "completed"
    },
    "tags": []
   },
   "outputs": [
    {
     "data": {
      "text/plain": [
       "Character\n",
       "PICARD       10798\n",
       "RIKER         6454\n",
       "DATA          5699\n",
       "LAFORGE       4111\n",
       "WORF          3185\n",
       "CRUSHER       2944\n",
       "TROI          2856\n",
       "WESLEY        1206\n",
       "Q              535\n",
       "PULASKI        487\n",
       "TASHA          474\n",
       "COMPUTER       471\n",
       "O'BRIEN        440\n",
       "GUINAN         432\n",
       "LWAXANA        404\n",
       "RO             304\n",
       "ALEXANDER      156\n",
       "OGAWA          110\n",
       "KEIKO           78\n",
       "CREWMAN         51\n",
       "WOMAN           46\n",
       "NURSE           30\n",
       "CHIEF           28\n",
       "VOICE           27\n",
       "ROMULAN         25\n",
       "MAN             22\n",
       "CREWWOMAN       17\n",
       "SECURITY        15\n",
       "KLINGON         14\n",
       "ALL             13\n",
       "MEDIC            6\n",
       "Name: count, dtype: int64"
      ]
     },
     "execution_count": 6,
     "metadata": {},
     "output_type": "execute_result"
    }
   ],
   "source": [
    "df['Character'].value_counts()\n"
   ]
  },
  {
   "cell_type": "markdown",
   "id": "13c3f90d",
   "metadata": {
    "papermill": {
     "duration": 0.010517,
     "end_time": "2023-11-26T18:10:52.900793",
     "exception": false,
     "start_time": "2023-11-26T18:10:52.890276",
     "status": "completed"
    },
    "tags": []
   },
   "source": [
    "The chart provides a clear depiction of the number of lines attributed to each character in our dataset. Given the imbalance in this distribution, our next step involves addressing this by once again removing outliers.\n",
    "\n",
    "To achieve this, characters with fewer than 1000 lines will be removed. This allows us to retain characters that frequently appear, ensuring a substantial volume of lines for our model to gain insights and patterns from.\n"
   ]
  },
  {
   "cell_type": "code",
   "execution_count": 7,
   "id": "2fa8521f",
   "metadata": {
    "execution": {
     "iopub.execute_input": "2023-11-26T18:10:52.923964Z",
     "iopub.status.busy": "2023-11-26T18:10:52.923559Z",
     "iopub.status.idle": "2023-11-26T18:10:52.945948Z",
     "shell.execute_reply": "2023-11-26T18:10:52.944569Z"
    },
    "papermill": {
     "duration": 0.037555,
     "end_time": "2023-11-26T18:10:52.948941",
     "exception": false,
     "start_time": "2023-11-26T18:10:52.911386",
     "status": "completed"
    },
    "tags": []
   },
   "outputs": [],
   "source": [
    "character_counts = df['Character'].value_counts()\n",
    "\n",
    "characters_to_remove = character_counts[character_counts < 1000].index\n",
    "df = df[~df['Character'].isin(characters_to_remove)]\n"
   ]
  },
  {
   "cell_type": "markdown",
   "id": "817f47d6",
   "metadata": {
    "papermill": {
     "duration": 0.010798,
     "end_time": "2023-11-26T18:10:52.972825",
     "exception": false,
     "start_time": "2023-11-26T18:10:52.962027",
     "status": "completed"
    },
    "tags": []
   },
   "source": [
    "Lets take another look at our Character distribution now that we have removed the outliers"
   ]
  },
  {
   "cell_type": "code",
   "execution_count": 8,
   "id": "96879e9c",
   "metadata": {
    "execution": {
     "iopub.execute_input": "2023-11-26T18:10:52.997852Z",
     "iopub.status.busy": "2023-11-26T18:10:52.996512Z",
     "iopub.status.idle": "2023-11-26T18:10:53.640945Z",
     "shell.execute_reply": "2023-11-26T18:10:53.639516Z"
    },
    "papermill": {
     "duration": 0.65972,
     "end_time": "2023-11-26T18:10:53.643647",
     "exception": false,
     "start_time": "2023-11-26T18:10:52.983927",
     "status": "completed"
    },
    "tags": []
   },
   "outputs": [
    {
     "data": {
      "image/png": "[encoded data removed]",
      "text/plain": [
       "<Figure size 1000x600 with 1 Axes>"
      ]
     },
     "metadata": {},
     "output_type": "display_data"
    }
   ],
   "source": [
    "character_counts = df['Character'].value_counts()\n",
    "\n",
    "plt.figure(figsize=(10, 6))\n",
    "sns.barplot(x=character_counts.index, y=character_counts.values, palette=\"viridis\")\n",
    "plt.xlabel('Character')\n",
    "plt.ylabel('Number of Entries')\n",
    "plt.title('Character Distribution in the Dataset')\n",
    "plt.xticks(rotation=45, ha=\"right\")\n",
    "plt.tight_layout()\n",
    "plt.show()"
   ]
  },
  {
   "cell_type": "code",
   "execution_count": 9,
   "id": "27d3041c",
   "metadata": {
    "execution": {
     "iopub.execute_input": "2023-11-26T18:10:53.670297Z",
     "iopub.status.busy": "2023-11-26T18:10:53.669892Z",
     "iopub.status.idle": "2023-11-26T18:10:53.676824Z",
     "shell.execute_reply": "2023-11-26T18:10:53.675284Z"
    },
    "papermill": {
     "duration": 0.02293,
     "end_time": "2023-11-26T18:10:53.679532",
     "exception": false,
     "start_time": "2023-11-26T18:10:53.656602",
     "status": "completed"
    },
    "tags": []
   },
   "outputs": [
    {
     "name": "stdout",
     "output_type": "stream",
     "text": [
      "Character\n",
      "PICARD     10798\n",
      "RIKER       6454\n",
      "DATA        5699\n",
      "LAFORGE     4111\n",
      "WORF        3185\n",
      "CRUSHER     2944\n",
      "TROI        2856\n",
      "WESLEY      1206\n",
      "Name: count, dtype: int64\n"
     ]
    }
   ],
   "source": [
    "print(character_counts)"
   ]
  },
  {
   "cell_type": "markdown",
   "id": "8d074ad2",
   "metadata": {
    "papermill": {
     "duration": 0.011654,
     "end_time": "2023-11-26T18:10:53.702857",
     "exception": false,
     "start_time": "2023-11-26T18:10:53.691203",
     "status": "completed"
    },
    "tags": []
   },
   "source": [
    "## Tokenizing \n",
    "Before exploring our observations (lines), we'll initiate the tokenization process for the \"Lines\" field in our dataframe. This involves breaking down each sentence into individual tokens, enhancing the model's ability to interpret and analyze them.\n",
    "\n",
    "For the current phase, we're retaining stop words. There’s a chance they might hold stylistic nuances that are important for character prediction.  However, recognizing that our dataset is sourced from the internet, we'll enforce consistency by converting all text in the \"Line\" field to lowercase.\n"
   ]
  },
  {
   "cell_type": "code",
   "execution_count": 10,
   "id": "73a89a9e",
   "metadata": {
    "execution": {
     "iopub.execute_input": "2023-11-26T18:10:53.730315Z",
     "iopub.status.busy": "2023-11-26T18:10:53.729181Z",
     "iopub.status.idle": "2023-11-26T18:11:06.030425Z",
     "shell.execute_reply": "2023-11-26T18:11:06.029065Z"
    },
    "papermill": {
     "duration": 12.318308,
     "end_time": "2023-11-26T18:11:06.033608",
     "exception": false,
     "start_time": "2023-11-26T18:10:53.715300",
     "status": "completed"
    },
    "tags": []
   },
   "outputs": [
    {
     "name": "stdout",
     "output_type": "stream",
     "text": [
      "[nltk_data] Downloading package punkt to /usr/share/nltk_data...\n",
      "[nltk_data]   Package punkt is already up-to-date!\n"
     ]
    }
   ],
   "source": [
    "nltk.download('punkt')\n",
    "df['Line'] = df['Line'].apply(lambda x: word_tokenize(x.lower()))\n"
   ]
  },
  {
   "cell_type": "markdown",
   "id": "b73d5e05",
   "metadata": {
    "papermill": {
     "duration": 0.01184,
     "end_time": "2023-11-26T18:11:06.057382",
     "exception": false,
     "start_time": "2023-11-26T18:11:06.045542",
     "status": "completed"
    },
    "tags": []
   },
   "source": [
    "Lets print out the words/tokens that show up most. "
   ]
  },
  {
   "cell_type": "code",
   "execution_count": 11,
   "id": "9af068a6",
   "metadata": {
    "execution": {
     "iopub.execute_input": "2023-11-26T18:11:06.083498Z",
     "iopub.status.busy": "2023-11-26T18:11:06.083012Z",
     "iopub.status.idle": "2023-11-26T18:11:06.316806Z",
     "shell.execute_reply": "2023-11-26T18:11:06.315475Z"
    },
    "papermill": {
     "duration": 0.250057,
     "end_time": "2023-11-26T18:11:06.319735",
     "exception": false,
     "start_time": "2023-11-26T18:11:06.069678",
     "status": "completed"
    },
    "tags": []
   },
   "outputs": [
    {
     "name": "stdout",
     "output_type": "stream",
     "text": [
      "Top 20 Tokens:\n"
     ]
    },
    {
     "data": {
      "text/plain": [
       "Token\n",
       ".       52781\n",
       ",       25925\n",
       "the     19638\n",
       "to      15146\n",
       "i       14973\n",
       "you     12713\n",
       "?        9671\n",
       "a        9294\n",
       "it       8228\n",
       "of       7937\n",
       "is       7069\n",
       "that     6707\n",
       "we       6562\n",
       "'s       6159\n",
       "and      5186\n",
       "in       4767\n",
       "have     4663\n",
       "this     3921\n",
       "be       3784\n",
       "do       3759\n",
       "Name: count, dtype: int64"
      ]
     },
     "execution_count": 11,
     "metadata": {},
     "output_type": "execute_result"
    }
   ],
   "source": [
    "all_tokens = [token for sublist in df['Line'] for token in sublist]\n",
    "\n",
    "word_frequencies = pd.DataFrame({\n",
    "    'Token': all_tokens\n",
    "})\n",
    "\n",
    "top_words = word_frequencies['Token'].value_counts().head(20)\n",
    "\n",
    "print(\"Top 20 Tokens:\")\n",
    "top_words\n"
   ]
  },
  {
   "cell_type": "markdown",
   "id": "40a31677",
   "metadata": {
    "papermill": {
     "duration": 0.011902,
     "end_time": "2023-11-26T18:11:06.344848",
     "exception": false,
     "start_time": "2023-11-26T18:11:06.332946",
     "status": "completed"
    },
    "tags": []
   },
   "source": [
    "Upon inspection, you can see there’s a large presence of punctuation in our text. While these tokens are likely unhelpful, there’s a chance tokens like commas or question marks could contribute to speaking styles, enhancing character prediction in our models.  Because of this, punctuation will be retained in our dataset (for the time being)."
   ]
  },
  {
   "cell_type": "markdown",
   "id": "879ec578",
   "metadata": {
    "papermill": {
     "duration": 0.011724,
     "end_time": "2023-11-26T18:11:06.368626",
     "exception": false,
     "start_time": "2023-11-26T18:11:06.356902",
     "status": "completed"
    },
    "tags": []
   },
   "source": [
    "What's the vocabulary size? "
   ]
  },
  {
   "cell_type": "code",
   "execution_count": 12,
   "id": "60e381f2",
   "metadata": {
    "execution": {
     "iopub.execute_input": "2023-11-26T18:11:06.397063Z",
     "iopub.status.busy": "2023-11-26T18:11:06.396360Z",
     "iopub.status.idle": "2023-11-26T18:11:06.486043Z",
     "shell.execute_reply": "2023-11-26T18:11:06.484032Z"
    },
    "papermill": {
     "duration": 0.109043,
     "end_time": "2023-11-26T18:11:06.489460",
     "exception": false,
     "start_time": "2023-11-26T18:11:06.380417",
     "status": "completed"
    },
    "tags": []
   },
   "outputs": [
    {
     "name": "stdout",
     "output_type": "stream",
     "text": [
      "Vocabulary Size: 16123\n"
     ]
    }
   ],
   "source": [
    "vocabulary_size = len(set(word for tokens in df['Line'] for word in tokens))\n",
    "\n",
    "print(\"Vocabulary Size:\", vocabulary_size)"
   ]
  },
  {
   "cell_type": "markdown",
   "id": "f6f0d5f6",
   "metadata": {
    "papermill": {
     "duration": 0.012732,
     "end_time": "2023-11-26T18:11:06.514332",
     "exception": false,
     "start_time": "2023-11-26T18:11:06.501600",
     "status": "completed"
    },
    "tags": []
   },
   "source": [
    "Lets add a \"Line Length\" to a our dataframe, and print out a chart showing average line length per character. "
   ]
  },
  {
   "cell_type": "code",
   "execution_count": 13,
   "id": "e557de56",
   "metadata": {
    "execution": {
     "iopub.execute_input": "2023-11-26T18:11:06.542549Z",
     "iopub.status.busy": "2023-11-26T18:11:06.541188Z",
     "iopub.status.idle": "2023-11-26T18:11:06.915397Z",
     "shell.execute_reply": "2023-11-26T18:11:06.914027Z"
    },
    "papermill": {
     "duration": 0.39119,
     "end_time": "2023-11-26T18:11:06.918343",
     "exception": false,
     "start_time": "2023-11-26T18:11:06.527153",
     "status": "completed"
    },
    "tags": []
   },
   "outputs": [
    {
     "data": {
      "image/png": "[encoded data removed]",
      "text/plain": [
       "<Figure size 640x480 with 1 Axes>"
      ]
     },
     "metadata": {},
     "output_type": "display_data"
    }
   ],
   "source": [
    "\n",
    "df['Line Length'] = df['Line'].apply(len)\n",
    "avg_line_length_by_character = df.groupby('Character')['Line Length'].mean().reset_index()\n",
    "\n",
    "\n",
    "plt.bar(avg_line_length_by_character['Character'], avg_line_length_by_character['Line Length'])\n",
    "plt.xlabel('Character')\n",
    "plt.ylabel('Average Line Length')\n",
    "plt.title('Average Line Length (Tokens) by Character')\n",
    "plt.show()"
   ]
  },
  {
   "cell_type": "markdown",
   "id": "e02f6693",
   "metadata": {
    "papermill": {
     "duration": 0.012792,
     "end_time": "2023-11-26T18:11:06.943868",
     "exception": false,
     "start_time": "2023-11-26T18:11:06.931076",
     "status": "completed"
    },
    "tags": []
   },
   "source": [
    "I was surprised to see that overall, the average line length is consistent across the board.  Lets look at distribution of line length in general, where length is the number of tokens in a line. "
   ]
  },
  {
   "cell_type": "code",
   "execution_count": 14,
   "id": "f4a952d3",
   "metadata": {
    "execution": {
     "iopub.execute_input": "2023-11-26T18:11:06.972072Z",
     "iopub.status.busy": "2023-11-26T18:11:06.971640Z",
     "iopub.status.idle": "2023-11-26T18:11:07.364939Z",
     "shell.execute_reply": "2023-11-26T18:11:07.363548Z"
    },
    "papermill": {
     "duration": 0.410656,
     "end_time": "2023-11-26T18:11:07.367572",
     "exception": false,
     "start_time": "2023-11-26T18:11:06.956916",
     "status": "completed"
    },
    "tags": []
   },
   "outputs": [
    {
     "data": {
      "image/png": "[encoded data removed]",
      "text/plain": [
       "<Figure size 640x480 with 1 Axes>"
      ]
     },
     "metadata": {},
     "output_type": "display_data"
    }
   ],
   "source": [
    "plt.hist(df['Line Length'], bins=50, edgecolor='black')\n",
    "plt.xlabel('Line Length (Number of Tokens)')\n",
    "plt.ylabel('Frequency')\n",
    "plt.title('Distribution of Line Lengths')\n",
    "plt.show()"
   ]
  },
  {
   "cell_type": "markdown",
   "id": "7adb70f9",
   "metadata": {
    "papermill": {
     "duration": 0.013796,
     "end_time": "2023-11-26T18:11:07.394879",
     "exception": false,
     "start_time": "2023-11-26T18:11:07.381083",
     "status": "completed"
    },
    "tags": []
   },
   "source": [
    "For the most part, the length of each line is around 20 tokens. But lets see the outliers by filtering for lines over 200 tokens"
   ]
  },
  {
   "cell_type": "code",
   "execution_count": 15,
   "id": "d6b5d855",
   "metadata": {
    "execution": {
     "iopub.execute_input": "2023-11-26T18:11:07.426798Z",
     "iopub.status.busy": "2023-11-26T18:11:07.426331Z",
     "iopub.status.idle": "2023-11-26T18:11:07.441227Z",
     "shell.execute_reply": "2023-11-26T18:11:07.439887Z"
    },
    "papermill": {
     "duration": 0.032453,
     "end_time": "2023-11-26T18:11:07.443736",
     "exception": false,
     "start_time": "2023-11-26T18:11:07.411283",
     "status": "completed"
    },
    "tags": []
   },
   "outputs": [
    {
     "data": {
      "text/html": [
       "<div>\n",
       "<style scoped>\n",
       "    .dataframe tbody tr th:only-of-type {\n",
       "        vertical-align: middle;\n",
       "    }\n",
       "\n",
       "    .dataframe tbody tr th {\n",
       "        vertical-align: top;\n",
       "    }\n",
       "\n",
       "    .dataframe thead th {\n",
       "        text-align: right;\n",
       "    }\n",
       "</style>\n",
       "<table border=\"1\" class=\"dataframe\">\n",
       "  <thead>\n",
       "    <tr style=\"text-align: right;\">\n",
       "      <th></th>\n",
       "      <th>Character</th>\n",
       "      <th>Line Length</th>\n",
       "    </tr>\n",
       "  </thead>\n",
       "  <tbody>\n",
       "    <tr>\n",
       "      <th>12012</th>\n",
       "      <td>PICARD</td>\n",
       "      <td>236</td>\n",
       "    </tr>\n",
       "    <tr>\n",
       "      <th>27648</th>\n",
       "      <td>WESLEY</td>\n",
       "      <td>184</td>\n",
       "    </tr>\n",
       "    <tr>\n",
       "      <th>31991</th>\n",
       "      <td>CRUSHER</td>\n",
       "      <td>256</td>\n",
       "    </tr>\n",
       "    <tr>\n",
       "      <th>55976</th>\n",
       "      <td>PICARD</td>\n",
       "      <td>201</td>\n",
       "    </tr>\n",
       "  </tbody>\n",
       "</table>\n",
       "</div>"
      ],
      "text/plain": [
       "      Character  Line Length\n",
       "12012    PICARD          236\n",
       "27648    WESLEY          184\n",
       "31991   CRUSHER          256\n",
       "55976    PICARD          201"
      ]
     },
     "execution_count": 15,
     "metadata": {},
     "output_type": "execute_result"
    }
   ],
   "source": [
    "long_lines_df = df[df['Line Length'] > 175]\n",
    "\n",
    "long_lines_df[['Character','Line Length']]"
   ]
  },
  {
   "cell_type": "markdown",
   "id": "b8c0e2f9",
   "metadata": {
    "papermill": {
     "duration": 0.013042,
     "end_time": "2023-11-26T18:11:07.470837",
     "exception": false,
     "start_time": "2023-11-26T18:11:07.457795",
     "status": "completed"
    },
    "tags": []
   },
   "source": [
    "Looks like Picard is the most common one giving speeches, but Dr Crusher and her son Wesley also give a speech at some point during the series. "
   ]
  },
  {
   "cell_type": "markdown",
   "id": "32a860f4",
   "metadata": {
    "papermill": {
     "duration": 0.091467,
     "end_time": "2023-11-26T18:11:07.577165",
     "exception": false,
     "start_time": "2023-11-26T18:11:07.485698",
     "status": "completed"
    },
    "tags": []
   },
   "source": [
    "One last look at our dataframe with the tokenized lines and Line Length"
   ]
  },
  {
   "cell_type": "code",
   "execution_count": 16,
   "id": "3e715f6e",
   "metadata": {
    "execution": {
     "iopub.execute_input": "2023-11-26T18:11:07.606692Z",
     "iopub.status.busy": "2023-11-26T18:11:07.605955Z",
     "iopub.status.idle": "2023-11-26T18:11:07.624373Z",
     "shell.execute_reply": "2023-11-26T18:11:07.623171Z"
    },
    "papermill": {
     "duration": 0.036396,
     "end_time": "2023-11-26T18:11:07.627167",
     "exception": false,
     "start_time": "2023-11-26T18:11:07.590771",
     "status": "completed"
    },
    "tags": []
   },
   "outputs": [
    {
     "data": {
      "text/html": [
       "<div>\n",
       "<style scoped>\n",
       "    .dataframe tbody tr th:only-of-type {\n",
       "        vertical-align: middle;\n",
       "    }\n",
       "\n",
       "    .dataframe tbody tr th {\n",
       "        vertical-align: top;\n",
       "    }\n",
       "\n",
       "    .dataframe thead th {\n",
       "        text-align: right;\n",
       "    }\n",
       "</style>\n",
       "<table border=\"1\" class=\"dataframe\">\n",
       "  <thead>\n",
       "    <tr style=\"text-align: right;\">\n",
       "      <th></th>\n",
       "      <th>Line</th>\n",
       "      <th>Character</th>\n",
       "      <th>Episode</th>\n",
       "      <th>Line Length</th>\n",
       "    </tr>\n",
       "  </thead>\n",
       "  <tbody>\n",
       "    <tr>\n",
       "      <th>0</th>\n",
       "      <td>[you, will, agree, ,, data, ,, that, starfleet...</td>\n",
       "      <td>PICARD</td>\n",
       "      <td>tng_000</td>\n",
       "      <td>12</td>\n",
       "    </tr>\n",
       "    <tr>\n",
       "      <th>1</th>\n",
       "      <td>[as, simple, as, that, .]</td>\n",
       "      <td>PICARD</td>\n",
       "      <td>tng_000</td>\n",
       "      <td>5</td>\n",
       "    </tr>\n",
       "    <tr>\n",
       "      <th>2</th>\n",
       "      <td>[it, 's, hardly, simple, ,, data, ,, to, negot...</td>\n",
       "      <td>PICARD</td>\n",
       "      <td>tng_000</td>\n",
       "      <td>36</td>\n",
       "    </tr>\n",
       "    <tr>\n",
       "      <th>3</th>\n",
       "      <td>[data, ,, how, can, you, be, programmed, as, a...</td>\n",
       "      <td>PICARD</td>\n",
       "      <td>tng_000</td>\n",
       "      <td>22</td>\n",
       "    </tr>\n",
       "    <tr>\n",
       "      <th>4</th>\n",
       "      <td>[it, means, to, spy, ,, to, sneak, .]</td>\n",
       "      <td>PICARD</td>\n",
       "      <td>tng_000</td>\n",
       "      <td>8</td>\n",
       "    </tr>\n",
       "    <tr>\n",
       "      <th>5</th>\n",
       "      <td>[exactly, ,, yes, .]</td>\n",
       "      <td>PICARD</td>\n",
       "      <td>tng_000</td>\n",
       "      <td>4</td>\n",
       "    </tr>\n",
       "    <tr>\n",
       "      <th>6</th>\n",
       "      <td>[shut, off, that, damned, noise, ., go, to, ye...</td>\n",
       "      <td>PICARD</td>\n",
       "      <td>tng_000</td>\n",
       "      <td>11</td>\n",
       "    </tr>\n",
       "    <tr>\n",
       "      <th>7</th>\n",
       "      <td>[reverse, power, ,, full, stop, .]</td>\n",
       "      <td>PICARD</td>\n",
       "      <td>tng_000</td>\n",
       "      <td>6</td>\n",
       "    </tr>\n",
       "    <tr>\n",
       "      <th>8</th>\n",
       "      <td>[that, 's, quite, a, directive, ., would, you,...</td>\n",
       "      <td>PICARD</td>\n",
       "      <td>tng_000</td>\n",
       "      <td>14</td>\n",
       "    </tr>\n",
       "    <tr>\n",
       "      <th>9</th>\n",
       "      <td>[data, ,, call, medics, .]</td>\n",
       "      <td>PICARD</td>\n",
       "      <td>tng_000</td>\n",
       "      <td>5</td>\n",
       "    </tr>\n",
       "  </tbody>\n",
       "</table>\n",
       "</div>"
      ],
      "text/plain": [
       "                                                Line Character  Episode  \\\n",
       "0  [you, will, agree, ,, data, ,, that, starfleet...    PICARD  tng_000   \n",
       "1                          [as, simple, as, that, .]    PICARD  tng_000   \n",
       "2  [it, 's, hardly, simple, ,, data, ,, to, negot...    PICARD  tng_000   \n",
       "3  [data, ,, how, can, you, be, programmed, as, a...    PICARD  tng_000   \n",
       "4              [it, means, to, spy, ,, to, sneak, .]    PICARD  tng_000   \n",
       "5                               [exactly, ,, yes, .]    PICARD  tng_000   \n",
       "6  [shut, off, that, damned, noise, ., go, to, ye...    PICARD  tng_000   \n",
       "7                 [reverse, power, ,, full, stop, .]    PICARD  tng_000   \n",
       "8  [that, 's, quite, a, directive, ., would, you,...    PICARD  tng_000   \n",
       "9                         [data, ,, call, medics, .]    PICARD  tng_000   \n",
       "\n",
       "   Line Length  \n",
       "0           12  \n",
       "1            5  \n",
       "2           36  \n",
       "3           22  \n",
       "4            8  \n",
       "5            4  \n",
       "6           11  \n",
       "7            6  \n",
       "8           14  \n",
       "9            5  "
      ]
     },
     "execution_count": 16,
     "metadata": {},
     "output_type": "execute_result"
    }
   ],
   "source": [
    "df.head(10)"
   ]
  }
 ],
 "metadata": {
  "kaggle": {
   "accelerator": "none",
   "dataSources": [],
   "dockerImageVersionId": 30558,
   "isGpuEnabled": false,
   "isInternetEnabled": true,
   "language": "python",
   "sourceType": "notebook"
  },
  "kernelspec": {
   "display_name": "Python 3",
   "language": "python",
   "name": "python3"
  },
  "language_info": {
   "codemirror_mode": {
    "name": "ipython",
    "version": 3
   },
   "file_extension": ".py",
   "mimetype": "text/x-python",
   "name": "python",
   "nbconvert_exporter": "python",
   "pygments_lexer": "ipython3",
   "version": "3.10.12"
  },
  "papermill": {
   "default_parameters": {},
   "duration": 28.274663,
   "end_time": "2023-11-26T18:11:08.567080",
   "environment_variables": {},
   "exception": null,
   "input_path": "__notebook__.ipynb",
   "output_path": "__notebook__.ipynb",
   "parameters": {},
   "start_time": "2023-11-26T18:10:40.292417",
   "version": "2.4.0"
  }
 },
 "nbformat": 4,
 "nbformat_minor": 5
}
