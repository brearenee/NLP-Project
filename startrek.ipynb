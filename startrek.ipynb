{
 "cells": [
  {
   "cell_type": "markdown",
   "id": "bcb190cc",
   "metadata": {
    "papermill": {
     "duration": 0.006427,
     "end_time": "2023-11-11T19:07:57.424479",
     "exception": false,
     "start_time": "2023-11-11T19:07:57.418052",
     "status": "completed"
    },
    "tags": []
   },
   "source": [
    "# Project Part 1\n",
    "\n",
    "[![Kaggle](https://kaggle.com/static/images/open-in-kaggle.svg)](https://kaggle.com/kernels/welcome?src=https://github.com/brearenee/NLP-Project/blob/main/startrek.ipynb)\n",
    "\n",
    "[![Open In Colab](https://colab.research.google.com/assets/colab-badge.svg)](https://colab.research.google.com/github/sgeinitz/https://github.com/brearenee/NLP-Project/blob/main/startrek.ipynb)\n"
   ]
  },
  {
   "cell_type": "markdown",
   "id": "49618a47",
   "metadata": {
    "papermill": {
     "duration": 0.005779,
     "end_time": "2023-11-11T19:07:57.436475",
     "exception": false,
     "start_time": "2023-11-11T19:07:57.430696",
     "status": "completed"
    },
    "tags": []
   },
   "source": [
    "## 1. Introduction/Background\n",
    "In this notebook, I'll be working with a dataset containing dialogue transcripts from various Star Trek series episodes, which I found on [kaggle](http://http://https://www.kaggle.com/datasets/birkoruzicka/startrekdialoguetranscripts/data). This dataset provides a large amount of script lines, each accompanied by information on episode, series, and the character who delivered said line. \n",
    "\n",
    "The objective of this project is to build a model capable of predicting the character(y value) associated with a given line(x value) from the script from the series \"The Next Generation\".  This type of problem is known as Authorship attribution which is a more specific task of the text classification problem since model will need to learn patterns that are indicative of the speaking style of each character. \n",
    "\n",
    "These types of analysis can be difficult, but since the characters on Star Trek have such distinct personalities and speaking styles, I'm curious to see how well it can do. \n",
    "\n",
    "There are multiple different characters in Star Trek TNG, meaning the model's prediction ( y value) is one of many, resulting in a multi-classification type task. To simplify the model, I'll be narrowing the output down to the top 8 characters in the show. \n",
    "\n",
    "\n"
   ]
  },
  {
   "cell_type": "markdown",
   "id": "0c6bbf16",
   "metadata": {
    "papermill": {
     "duration": 0.005809,
     "end_time": "2023-11-11T19:07:57.448179",
     "exception": false,
     "start_time": "2023-11-11T19:07:57.442370",
     "status": "completed"
    },
    "tags": []
   },
   "source": [
    "## 2. Data Preprocessing/ Exploratory Data Analysis\n",
    "\n",
    "This part of the process involves looking at the data, and making adjustments as needed to clean the dataset and ensure its in a suitable format for analysis.  This creates a Exploratory Data Analysis to Data Preprocessing cycle. \n",
    "\n",
    "\n",
    "To start, the datasource I'm working with is initially structured as a highly nested JSON file, and it's original format isn't quite optimal for the model I'm trying to create. \n",
    "You can peek at the original JSON file [here](http://https://raw.githubusercontent.com/brearenee/NLP-Project/main/dataset/StarTrekDialogue_v2.json) (it's too large to load in this notebook)\n",
    "\n",
    "It also includes a lot of data I don't necessarily need. Becase of this, I'll need to parse through the file and transform it's structure to allow for a more useful dataframe. As I'm only trying to predict lines from \"The Next Generation\", I'll also be removing the other series from my dataset. \n",
    "\n"
   ]
  },
  {
   "cell_type": "code",
   "execution_count": 1,
   "id": "64845bb6",
   "metadata": {
    "execution": {
     "iopub.execute_input": "2023-11-11T19:07:57.463279Z",
     "iopub.status.busy": "2023-11-11T19:07:57.462920Z",
     "iopub.status.idle": "2023-11-11T19:08:00.789800Z",
     "shell.execute_reply": "2023-11-11T19:08:00.788413Z"
    },
    "papermill": {
     "duration": 3.336619,
     "end_time": "2023-11-11T19:08:00.792143",
     "exception": false,
     "start_time": "2023-11-11T19:07:57.455524",
     "status": "completed"
    },
    "tags": []
   },
   "outputs": [],
   "source": [
    "import pandas as pd\n",
    "import json\n",
    "import requests\n",
    "import nltk\n",
    "import matplotlib.pyplot as plt\n",
    "import seaborn as sns\n",
    "from nltk.corpus import stopwords\n",
    "from nltk.tokenize import word_tokenize\n",
    "from sklearn.feature_extraction.text import CountVectorizer"
   ]
  },
  {
   "cell_type": "code",
   "execution_count": 2,
   "id": "98673aa9",
   "metadata": {
    "execution": {
     "iopub.execute_input": "2023-11-11T19:08:00.806227Z",
     "iopub.status.busy": "2023-11-11T19:08:00.805738Z",
     "iopub.status.idle": "2023-11-11T19:08:01.273537Z",
     "shell.execute_reply": "2023-11-11T19:08:01.272339Z"
    },
    "papermill": {
     "duration": 0.477659,
     "end_time": "2023-11-11T19:08:01.276039",
     "exception": false,
     "start_time": "2023-11-11T19:08:00.798380",
     "status": "completed"
    },
    "tags": []
   },
   "outputs": [],
   "source": [
    "url = 'https://raw.githubusercontent.com/brearenee/NLP-Project/main/dataset/StarTrekDialogue_v2.json'\n",
    "response = requests.get(url)\n",
    "\n",
    "##This CodeBlock is thanks to ChatGPT :-) \n",
    "if response.status_code == 200:\n",
    "    json_data = json.loads(response.text)\n",
    "    lines = []\n",
    "    characters = []\n",
    "    episodes = []\n",
    "  \n",
    "    # extract the information from the JSON file for the \"TNG\" series\n",
    "    for series_name, series_data in json_data.items():\n",
    "        if series_name == \"TNG\": \n",
    "            for episode_name, episode_data in series_data.items():\n",
    "                for character_name, character_lines in episode_data.items():\n",
    "                    for line_text in character_lines:\n",
    "                        lines.append(line_text)\n",
    "                        characters.append(character_name)\n",
    "                        episodes.append(episode_name)\n",
    "                     \n",
    "    # Create a DataFrame from the extracted data\n",
    "    df = pd.DataFrame({\n",
    "        'Line': lines,\n",
    "        'Character': characters,\n",
    "        'Episode': episodes,\n",
    "    })\n",
    "\n",
    "    # Remove duplicate lines, keeping the first occurrence (preserving the original order)\n",
    "    df = df.drop_duplicates(subset='Line', keep='first')\n",
    "\n",
    "    # Reset the index of the DataFrame\n",
    "    df.reset_index(drop=True, inplace=True)\n",
    "\n",
    "else:\n",
    "    print(f\"Failed to retrieve data. Status code: {response.status_code}\")\n"
   ]
  },
  {
   "cell_type": "markdown",
   "id": "48269cdd",
   "metadata": {
    "papermill": {
     "duration": 0.005901,
     "end_time": "2023-11-11T19:08:01.288122",
     "exception": false,
     "start_time": "2023-11-11T19:08:01.282221",
     "status": "completed"
    },
    "tags": []
   },
   "source": [
    "Now that our JSON file is parsed, lets take a look at our dataframe. "
   ]
  },
  {
   "cell_type": "code",
   "execution_count": 3,
   "id": "63c05bb3",
   "metadata": {
    "execution": {
     "iopub.execute_input": "2023-11-11T19:08:01.301938Z",
     "iopub.status.busy": "2023-11-11T19:08:01.301537Z",
     "iopub.status.idle": "2023-11-11T19:08:01.321869Z",
     "shell.execute_reply": "2023-11-11T19:08:01.320530Z"
    },
    "papermill": {
     "duration": 0.029658,
     "end_time": "2023-11-11T19:08:01.323854",
     "exception": false,
     "start_time": "2023-11-11T19:08:01.294196",
     "status": "completed"
    },
    "tags": []
   },
   "outputs": [
    {
     "data": {
      "text/html": [
       "<div>\n",
       "<style scoped>\n",
       "    .dataframe tbody tr th:only-of-type {\n",
       "        vertical-align: middle;\n",
       "    }\n",
       "\n",
       "    .dataframe tbody tr th {\n",
       "        vertical-align: top;\n",
       "    }\n",
       "\n",
       "    .dataframe thead th {\n",
       "        text-align: right;\n",
       "    }\n",
       "</style>\n",
       "<table border=\"1\" class=\"dataframe\">\n",
       "  <thead>\n",
       "    <tr style=\"text-align: right;\">\n",
       "      <th></th>\n",
       "      <th>Line</th>\n",
       "      <th>Character</th>\n",
       "      <th>Episode</th>\n",
       "    </tr>\n",
       "  </thead>\n",
       "  <tbody>\n",
       "    <tr>\n",
       "      <th>0</th>\n",
       "      <td>You will agree, Data, that Starfleet's\\r order...</td>\n",
       "      <td>PICARD</td>\n",
       "      <td>tng_000</td>\n",
       "    </tr>\n",
       "    <tr>\n",
       "      <th>1</th>\n",
       "      <td>As simple as that.</td>\n",
       "      <td>PICARD</td>\n",
       "      <td>tng_000</td>\n",
       "    </tr>\n",
       "    <tr>\n",
       "      <th>2</th>\n",
       "      <td>It's hardly simple, Data, to negotiate a frien...</td>\n",
       "      <td>PICARD</td>\n",
       "      <td>tng_000</td>\n",
       "    </tr>\n",
       "    <tr>\n",
       "      <th>3</th>\n",
       "      <td>Data, how can you be programmed as a virtual e...</td>\n",
       "      <td>PICARD</td>\n",
       "      <td>tng_000</td>\n",
       "    </tr>\n",
       "    <tr>\n",
       "      <th>4</th>\n",
       "      <td>It means to spy, to sneak.</td>\n",
       "      <td>PICARD</td>\n",
       "      <td>tng_000</td>\n",
       "    </tr>\n",
       "    <tr>\n",
       "      <th>...</th>\n",
       "      <td>...</td>\n",
       "      <td>...</td>\n",
       "      <td>...</td>\n",
       "    </tr>\n",
       "    <tr>\n",
       "      <th>95</th>\n",
       "      <td>My crew and I need a bit more information\\r be...</td>\n",
       "      <td>PICARD</td>\n",
       "      <td>tng_000</td>\n",
       "    </tr>\n",
       "    <tr>\n",
       "      <th>96</th>\n",
       "      <td>Good, since we admire what we've seen of your ...</td>\n",
       "      <td>PICARD</td>\n",
       "      <td>tng_000</td>\n",
       "    </tr>\n",
       "    <tr>\n",
       "      <th>97</th>\n",
       "      <td>Counsellor? What is it?</td>\n",
       "      <td>PICARD</td>\n",
       "      <td>tng_000</td>\n",
       "    </tr>\n",
       "    <tr>\n",
       "      <th>98</th>\n",
       "      <td>Yes. No secrets here if we're to be all to be ...</td>\n",
       "      <td>PICARD</td>\n",
       "      <td>tng_000</td>\n",
       "    </tr>\n",
       "    <tr>\n",
       "      <th>99</th>\n",
       "      <td>The source of this, Groppler. Do you have any ...</td>\n",
       "      <td>PICARD</td>\n",
       "      <td>tng_000</td>\n",
       "    </tr>\n",
       "  </tbody>\n",
       "</table>\n",
       "<p>100 rows × 3 columns</p>\n",
       "</div>"
      ],
      "text/plain": [
       "                                                 Line Character  Episode\n",
       "0   You will agree, Data, that Starfleet's\\r order...    PICARD  tng_000\n",
       "1                                  As simple as that.    PICARD  tng_000\n",
       "2   It's hardly simple, Data, to negotiate a frien...    PICARD  tng_000\n",
       "3   Data, how can you be programmed as a virtual e...    PICARD  tng_000\n",
       "4                          It means to spy, to sneak.    PICARD  tng_000\n",
       "..                                                ...       ...      ...\n",
       "95  My crew and I need a bit more information\\r be...    PICARD  tng_000\n",
       "96  Good, since we admire what we've seen of your ...    PICARD  tng_000\n",
       "97                            Counsellor? What is it?    PICARD  tng_000\n",
       "98  Yes. No secrets here if we're to be all to be ...    PICARD  tng_000\n",
       "99  The source of this, Groppler. Do you have any ...    PICARD  tng_000\n",
       "\n",
       "[100 rows x 3 columns]"
      ]
     },
     "execution_count": 3,
     "metadata": {},
     "output_type": "execute_result"
    }
   ],
   "source": [
    "df.head(100)"
   ]
  },
  {
   "cell_type": "markdown",
   "id": "2b08a8d7",
   "metadata": {
    "papermill": {
     "duration": 0.005995,
     "end_time": "2023-11-11T19:08:01.336314",
     "exception": false,
     "start_time": "2023-11-11T19:08:01.330319",
     "status": "completed"
    },
    "tags": []
   },
   "source": [
    "lets explore the Characters field to see what Characters exist in our dataframe. "
   ]
  },
  {
   "cell_type": "code",
   "execution_count": 4,
   "id": "3ea2e13c",
   "metadata": {
    "execution": {
     "iopub.execute_input": "2023-11-11T19:08:01.350488Z",
     "iopub.status.busy": "2023-11-11T19:08:01.350134Z",
     "iopub.status.idle": "2023-11-11T19:08:01.365119Z",
     "shell.execute_reply": "2023-11-11T19:08:01.363145Z"
    },
    "papermill": {
     "duration": 0.024646,
     "end_time": "2023-11-11T19:08:01.367096",
     "exception": false,
     "start_time": "2023-11-11T19:08:01.342450",
     "status": "completed"
    },
    "tags": []
   },
   "outputs": [
    {
     "name": "stdout",
     "output_type": "stream",
     "text": [
      "['PICARD', 'DATA', 'TROI', 'TORRES', 'WORF', 'Q', 'TASHA', \"O'BRIEN\", 'BAILIFF', 'SOLDIER', 'ZORN', 'RIKER', 'WESLEY', 'CRUSHER', 'LAFORGE', 'MCCOY', 'ENSIGN', 'COMPUTER', 'SECURITY', 'CREW', 'WOMAN', 'MAN', 'SHIMODA', 'MACDOUGAL', 'CREWMAN', 'LUTAN', 'HAGON', 'YAREENA', 'CHIEF', 'TARR', 'LETEK', 'MORDOC', 'KAYRON', 'PORTAL', 'KOSINSKI', 'ARGYLE', 'TRAVELLER', 'MAMAN', 'SELAY', 'GEORDI', 'ANTICAN', 'SINGH', 'RIVAN', 'LIATOR', 'EDO', 'BOY', 'GIRL', 'OFFICER', 'MEDIATOR 2', 'MEDIATOR', 'BEVERLY', 'MEDIC', 'BOK', 'KAZAGO', 'RATA', 'VOICES', 'VOICE', 'FACE', 'STEVEN', 'VICTORIA', 'WYATT', 'LWAXANA', 'VALEDA', 'WRENN', 'ARIANA', 'HOMN', 'SECRETARY', 'JESSICA', 'LEECH', 'WHALEN', 'VENDOR', 'BELL', 'MCNARY', 'JARADAN', 'POLICEMAN', 'SERGEANT', 'REDBLOCK', 'THUG', 'LORE', 'BEATA', 'ARIEL', 'TRENT', 'RAMSEY', 'QUINTEROS', 'ONE ZERO', 'ZERO ONE', 'ZERO ZERO', 'ONE ONE', 'MINUET', 'BASS', 'PIANO', 'STARBASE', 'JAMESON', 'KARNAS', 'ANNE', 'BERNARD', 'HARRY', 'RASHELLA', 'RADUE', 'KATIE', 'TOYA', 'LEDA', 'ACCOLAN', 'MELIAN', 'DUANA', 'CUSTODIAN', 'ALEXANDRA', 'MANDL', 'LUISA', 'BENSON', 'BENSEN', 'MALENCON', 'CREWWOMAN', 'JAKE', 'QUINN', 'REMMICK', 'OLIANA', \"T'SHANIK\", 'MORDOCK', 'CHANG', 'RONDON', 'MAN 2', 'KORRIS', 'KONMEL', 'NURSE', \"K'NERA\", 'GUARD', 'SALESMAN', \"T'SU\", 'RICE', 'LOGAN', 'SOLIS', \"T'JON\", 'ROMAS', 'SOBI', 'LANGOR', 'MARGAN', 'PRIETO', 'LYNCH', 'ARMUS', 'NURSE 2', 'DEAN', 'MANHEIM', 'EDOUARD', 'FRANCINE', 'GABRIELLE', 'JENICE', 'PICARD 2', 'DATA 2', 'DATA 3', 'DATA 1', 'KEEL', 'RIXX', 'TRYLA', 'SAVAR', 'AARON', 'RALPH', 'SONNY', 'CLARE', 'TEBOK', 'THEI', 'REPULSE', 'SICKBAY', 'GUINAN', 'PULASKI', 'DEALT', 'IAN', 'MISS GLADSTONE', 'HASKELL', 'NAGILUM', 'CLANCY', 'LESTRADE', 'PIE MAN', 'WHORE', 'MORIARTY', 'BOTH', 'RUFFIAN', 'OKONA', 'ROBINSON', 'COMIC', 'DEBIN', 'KUSHELL', 'BENZAN', 'YANAR', 'SCHOLAR', 'ADONIS', 'ALIEN 1', 'ALIEN 2', 'ALIEN 3', 'KAREEN', 'GRAVES', 'SELAR', 'TELAKA', 'LANTREE', 'KINGSLEY', 'TAGGERT', 'MENDON', 'KARGAN', 'TACTICS', 'KLAG', 'VEKMA', 'PHILLIPA', 'NAKAMURA', 'MADDOX', 'GIBSON', 'ANYA', 'SALIA', 'VARLEY', 'TARIS', 'DOCTOR', 'WILLIAMS', 'BELLBOY', 'CLERK', 'TEXAS', 'VANESSA', 'MICKEY D', 'CROUPIER', 'P2', 'HERBERT', 'KYLE', 'DAVIES', 'SARJENKA', 'HILDEBRANDT', 'ALANS', 'SONYA', 'BORG', 'GREBNEDLOG', 'REGINOD', 'SURGEON', 'PHYSIOLOGIST', 'DANILO', 'BRENNA', 'GRANGER', 'GRANGER 2', 'PILOT', 'MADELINE', 'SLADE', 'REX', 'ANTEDEANS', 'ANTEDEAN', 'CLANCEY', 'GROMEK', \"K'EHLEYR\", 'TACTICAL', \"K'TEMOC\", 'KOLRAMI', 'BURKE', 'NAGEL', 'BRACTOR', 'TACTICIAN', 'A', 'STUBBS', 'SHELIAK', 'HARITATH', 'KENTOR', 'GOSHEVEN', \"ARD'RIAN\", 'ALL', 'KEVIN', 'RISHON', 'BARRON', 'LIKO', 'OJI', 'OGAWA', 'FENTO', 'NURIA', 'HALI', 'JEREMY', 'DAD', 'MARLA', 'CHRISTY', 'GALEK SAR', 'LEAH', 'PATAHK', 'TOMALAK', 'BOCHRA', 'BHAVANI', 'MENDOZA', 'LEYOR', 'RAL', 'GOSS', 'ARRIDOR', 'MAROUK', 'YUTA', 'BRULL', 'VOLNOTH', 'TEMAREK', 'CHORGAN', 'BATES', 'SETAL', 'HADEN', 'JAROK', 'NAYROK', 'ZAYNAR', 'ROGA', 'WAGNOR', 'KATIK', 'ALEXANA', 'FINN', 'POLICE', 'GARIN', 'SCIENTIST', 'WAITRESS', 'Q2', 'KRAG', 'APGAR', 'MANUA', 'TAYNA', 'GARRETT', 'CASTILLO', 'KLINGON', 'LAL', 'HAFTEL', 'BALLARD', 'KURN', \"K'MPEC\", 'DURAS', 'KAHLEST', 'HARO', 'THOLL', 'ESOQQ', 'ALIEN 4', 'ALIEN 1+4', 'AJUR', 'BORATUS', 'VASH', 'JOVAL', 'SOVAK', 'DESOTO', 'TAM', 'ROMULAN', 'BARCLAY', 'DUFFY', 'HOLO-PICARD', 'HOLO-DATA', 'HOLO-LAFORGE', 'HOLO-RIKER', 'HOLO-TROI', 'VARRIA', 'FAJO', 'TOFF', 'MENDROSSEN', 'SAKKATH', 'SAREK', 'PERRIN', 'NIBOR', 'GRAX', 'FAREK', 'TOG', 'FERENGI', 'CHRISTI', 'TEMPLE', 'JOHN', 'SUNAD', 'HANSON', 'SHELBY', 'GLEASON', 'FEMALE', 'HELENA', 'SERGEY', 'RENE', 'MARIE', 'ROBERT', 'LOUIS', 'JACK', 'KOPF', 'WILLIE', 'SOONG', 'JONO', 'CONNOR', 'MOIRA', 'JEREMIAH', 'ENDAR', 'CONNAUGHT', 'QUAICE', 'TAN TSU', 'PASSER-BY', 'HAYNE', 'ISHARA', 'ALEXANDER', 'GOWRON', 'HUBBLE', 'JEAN-LUC', 'ETHAN', 'SONGI', 'DIRGO', 'ALLENBY', 'BROOKS', 'KEIKO', 'TECHNICIAN', \"T'PEL\", \"V'SAL\", 'MENDAK', 'MACET', 'DARO', 'WAITER', 'TELLE', 'MAXWELL', 'MARLEY', 'CLARK', 'JARED', 'ARDRA', \"FEK'LHR\", 'DEVIL', 'JOHNNY', 'MCKNIGHT', 'ALYSSA', 'TAVA', 'NILREM', 'BEREL', 'MIRASTA', 'DURKEN', 'KROLA', 'MALE', 'LANEL', 'RAGER', 'PAVLIK', 'HAGAN', 'ZAHEVA', 'PEEPLES', 'GILLESPIE', 'LIN', 'BREVELLE', 'SUSANNA', 'HICKMAN', 'GRAHAM', 'HOLO-SUZ', 'HEDRICK', 'ANAYA', 'LARSON', 'EINSTEIN', 'BROWER', 'ALIEN', 'TROI + VASH', 'SIR GUY', 'RABBLE', \"J'DAN\", 'SATIE', 'SABIN', 'TARSES', 'NELLEN', 'TIMICIN', \"B'TARDAT\", 'DARA', 'ODAN', 'LEKA', 'TAGGART', 'KALIN', 'LATHAL', 'KAREEL', 'LAFORGE + COMPUTER', 'KELL', 'TAIBAK', 'VAGH', 'JENNA', 'MILES', \"K'TAL\", 'TORAL', \"B'ETOR\", 'LURSA', 'MOVAR', 'HELMSMAN', 'HELM', 'SHANTHI', 'LARG', 'HOBSON', 'SELA', 'KULGE', 'DATHON', 'TAMARIAN', 'LEFLER', 'MOT', 'KENNELLY', 'RO', 'KEEVE', 'COLLINS', 'ORTA', 'DOLAK', 'CARMEN', 'MARR', 'CAPTAIN', 'PATTERSON', 'JAY GORDON', 'MONROE', 'MANDEL', 'MARISSA', 'ETANA', 'ROBIN', 'BRACKETT', \"B'IJIK\", \"K'VADA\", 'DOKACHIN', 'NERAL', 'PARDEK', 'LADY', 'ROMULAN 1', 'SPOCK', \"D'TAN\", 'AMARIE', 'WOMAN 2', 'OMAG', 'HOLO-SPOCK', 'VARIOUS', 'RASMUSSEN', 'MOSELEY', \"JA'DAR\", 'FELTON', 'TIMOTHY', 'HUTCHINSON', 'TEACHER', 'TARMIN', 'JEV', 'INAD', 'MARTIN', 'DAVIS', 'CONOR', 'HANNAH', 'CONOR + TROI', 'KRISTIN', 'MACDUFF', 'RUSSELL', 'SOREN', 'KRITE', 'NOOR', 'BATESON', 'BRAND', 'LOCARNO', 'BOOTHBY', 'CADET', 'SITO', 'HAJAR', 'SATELK', 'ALBERT', 'JUGGLER', 'YOUNG MAN', 'YOUNG WOMAN', 'POET', 'CAMPIO', 'ERKO', 'BRIAM', 'QOL', 'LENOR', 'KAMALA', 'MINER 1', 'MINER 2', 'MINER 3', 'ALRIK', 'CLARA', 'SUTTER', 'ISABELLA', 'MCDOWELL', 'MIROK', 'VAREL', 'BROSSMER', 'PAREM', 'ELINE', 'BATAI', 'ADMINISTRATOR', 'MERIBOR', 'BATAI JR', 'BEGGAR', 'GAMBLER', 'SEAMAN', 'NATIVE', 'CLEMENS', 'DOORMAN', 'REPORTER', 'CARMICHAEL', 'HAYES', 'TALMADGE', 'ALKAR', 'MAYLOR', 'SIMONS', 'JARTH', 'LIVA', 'JANEWAY', 'SCOTT', 'KANE', 'BARTEL', 'SHIPLEY', 'ENGINEER', 'KAMINER', 'AMANDA', 'LOTE', 'PICARD JR', 'RO JR', 'GUINAN JR', 'KEIKO JR', 'MOLLY', 'BERIK', 'MORTA', 'LURIN', 'CHILD', 'ELI', 'BANDITO', 'ANNIE', 'DATA-FRANK', 'DATA-ELI', 'DATA-MEXICAN', 'DATA-ANNIE', 'FARALLON', 'KELSO', 'PIERSON', 'NECHAYEV', 'JELLICO', 'SOLOK', 'LEMEC', 'MADRED', 'JIL ORRA', 'GENTLEMAN', 'COUNTESS', 'AQUIEL', 'TORAK', 'BARMAN', 'MORAG', \"N'VEK\", 'TORETH', 'DESEVE', 'MAURICE', 'MARTA', 'COREY', 'PENNY', 'NAUSICAAN 1', 'NAUSICAAN', 'BASHIR', 'SHREK', \"BA'EL\", \"L'KOR\", \"GI'RAL\", 'TOQ', 'TOKATH', 'ORTON', 'KELSEY', 'NEIL', 'KIROS', 'DEVOR', 'HUTCH', 'SATLER', 'POMET', 'PICARD + COMPUTER', 'NELLA', 'MARQUEZ', 'GALEN', 'OCETT', \"NU'DAQ\", 'HUMANOID', 'CROWD', 'SYRUS', 'MAVEK', 'JAYA', 'LIEUTENANT', 'SUNA', 'REYGA', \"T'PAN\", 'KURAK', 'CHRISTOPHER', \"JO'BRIL\", 'DIVOK', 'KOROTH', 'KAHLESS', 'TORIN', 'RIKER 2', 'PALMER', 'ROMULAN 2', 'ROMULAN 3', 'HAWKING', 'NEWTON', 'BOSUS', 'TAYAR', 'FRANKLIN', 'CROSIS', 'HUGH', 'TAITT', 'SALAZAR', 'POWELL', 'BARNABY', 'GOVAL', 'LOQUEL', 'BYLETH', 'VOVAL', 'ANNA', 'HOLT', 'SILVA', 'DR LA FORGE', 'BARTENDER', 'YRANAC', 'CHEKOTE', 'GIUSTI', 'BARAN', 'NARIK', 'VEKOR', 'TALLERA', 'SANDERS', 'YRANEC', 'KORAL', 'SATOK', 'WORKMAN', 'TYLER', 'FREUD', 'HEDRIL', 'MAQUES', 'KESTRA', 'KES', 'LORIN', 'MAURIC', 'PRYTT', 'AIDE', 'TROOPER', 'PRAK', 'RABAL', 'SEROVA', 'JULIANA', 'PRAN', 'AUDIENCE', 'NADOR', 'BLACKWELL', 'PRESSMAN', 'SIROL', 'VORIN', 'KATERAS', 'NIKOLAI', 'DOBARA', 'MATURIN', 'QUINT', 'RONIN', 'FELISA', 'LAVELLE', 'TAURIK', 'BEN', 'JORET', 'RAINER', 'GARVIN', 'GIA', 'TALUR', 'SKORAN', 'APPRENTICE', 'ERIC', 'DATA-IHAT', 'DATA-VICTIM', 'DATA-BOY', 'DATA-ELDER', 'DATA-MASAKA', 'NARA', 'KWAN', 'CALLOWAY', 'PIERCE', 'DERN', 'NECHEYEV', 'WAKASA', 'ANTHWARA', 'LAKANTA', 'GUL EVEK', 'INDIAN', 'TELAK', 'SINGER', 'MOLOR', 'ROBBER', \"K'MTAR\", 'QUARK', 'GORTA', 'YOG', 'JASON', 'BIRTA', 'RHODES', 'TOL', 'CONDUCTOR', 'RUSTIC', 'GANGSTER', 'SANTOS', 'MACIAS', 'KALITA', 'JESSEL', 'CHILTON', 'TOMOLAK', 'GAINES']\n"
     ]
    }
   ],
   "source": [
    "unique_characters = df['Character'].unique().tolist()\n",
    "\n",
    "# Display the list of unique characters\n",
    "print(unique_characters)"
   ]
  },
  {
   "cell_type": "markdown",
   "id": "bbadf5d5",
   "metadata": {
    "papermill": {
     "duration": 0.006256,
     "end_time": "2023-11-11T19:08:01.380117",
     "exception": false,
     "start_time": "2023-11-11T19:08:01.373861",
     "status": "completed"
    },
    "tags": []
   },
   "source": [
    "As you can see, this is pretty messy, as this series has quite a few one-off characters. Let's eliminate all of the outliers by removing characters that don't occur in more than 5 episodes. "
   ]
  },
  {
   "cell_type": "code",
   "execution_count": 5,
   "id": "d04019cd",
   "metadata": {
    "execution": {
     "iopub.execute_input": "2023-11-11T19:08:01.394996Z",
     "iopub.status.busy": "2023-11-11T19:08:01.394676Z",
     "iopub.status.idle": "2023-11-11T19:08:01.421572Z",
     "shell.execute_reply": "2023-11-11T19:08:01.420662Z"
    },
    "papermill": {
     "duration": 0.037024,
     "end_time": "2023-11-11T19:08:01.423670",
     "exception": false,
     "start_time": "2023-11-11T19:08:01.386646",
     "status": "completed"
    },
    "tags": []
   },
   "outputs": [
    {
     "name": "stdout",
     "output_type": "stream",
     "text": [
      "['PICARD', 'DATA', 'TROI', 'WORF', 'Q', 'TASHA', \"O'BRIEN\", 'RIKER', 'WESLEY', 'CRUSHER', 'LAFORGE', 'COMPUTER', 'SECURITY', 'WOMAN', 'MAN', 'CREWMAN', 'CHIEF', 'MEDIC', 'VOICE', 'LWAXANA', 'CREWWOMAN', 'NURSE', 'GUINAN', 'PULASKI', 'ALL', 'OGAWA', 'KLINGON', 'ROMULAN', 'ALEXANDER', 'KEIKO', 'RO']\n"
     ]
    }
   ],
   "source": [
    "episode_counts = df.groupby('Character')['Episode'].nunique()\n",
    "\n",
    "characters_to_keep = episode_counts[episode_counts > 5].index\n",
    "\n",
    "df = df[df['Character'].isin(characters_to_keep)]\n",
    "unique_characters = df['Character'].unique().tolist()\n",
    "\n",
    "\n",
    "print(unique_characters)"
   ]
  },
  {
   "cell_type": "markdown",
   "id": "bdddef09",
   "metadata": {
    "papermill": {
     "duration": 0.006499,
     "end_time": "2023-11-11T19:08:01.437101",
     "exception": false,
     "start_time": "2023-11-11T19:08:01.430602",
     "status": "completed"
    },
    "tags": []
   },
   "source": [
    "This result is a lot better, but there are still some fields in here like \"ALL\" \"BOTH\" or \"GIRL\" that dont correlate to one single character/species \n",
    "\n",
    "lets check the character distribution\n"
   ]
  },
  {
   "cell_type": "code",
   "execution_count": 6,
   "id": "c370dc9a",
   "metadata": {
    "execution": {
     "iopub.execute_input": "2023-11-11T19:08:01.452040Z",
     "iopub.status.busy": "2023-11-11T19:08:01.451685Z",
     "iopub.status.idle": "2023-11-11T19:08:01.462776Z",
     "shell.execute_reply": "2023-11-11T19:08:01.461786Z"
    },
    "papermill": {
     "duration": 0.020677,
     "end_time": "2023-11-11T19:08:01.464478",
     "exception": false,
     "start_time": "2023-11-11T19:08:01.443801",
     "status": "completed"
    },
    "tags": []
   },
   "outputs": [
    {
     "data": {
      "text/plain": [
       "Character\n",
       "PICARD       10798\n",
       "RIKER         6454\n",
       "DATA          5699\n",
       "LAFORGE       4111\n",
       "WORF          3185\n",
       "CRUSHER       2944\n",
       "TROI          2856\n",
       "WESLEY        1206\n",
       "Q              535\n",
       "PULASKI        487\n",
       "TASHA          474\n",
       "COMPUTER       471\n",
       "O'BRIEN        440\n",
       "GUINAN         432\n",
       "LWAXANA        404\n",
       "RO             304\n",
       "ALEXANDER      156\n",
       "OGAWA          110\n",
       "KEIKO           78\n",
       "CREWMAN         51\n",
       "WOMAN           46\n",
       "NURSE           30\n",
       "CHIEF           28\n",
       "VOICE           27\n",
       "ROMULAN         25\n",
       "MAN             22\n",
       "CREWWOMAN       17\n",
       "SECURITY        15\n",
       "KLINGON         14\n",
       "ALL             13\n",
       "MEDIC            6\n",
       "Name: count, dtype: int64"
      ]
     },
     "execution_count": 6,
     "metadata": {},
     "output_type": "execute_result"
    }
   ],
   "source": [
    "df['Character'].value_counts()\n"
   ]
  },
  {
   "cell_type": "markdown",
   "id": "d60381ce",
   "metadata": {
    "papermill": {
     "duration": 0.006447,
     "end_time": "2023-11-11T19:08:01.477885",
     "exception": false,
     "start_time": "2023-11-11T19:08:01.471438",
     "status": "completed"
    },
    "tags": []
   },
   "source": [
    "This shows how many lines each character has in our dataset.  Since this distribution is so uneven, lets once again remove the outliers.  \n",
    "\n",
    "We will do this by eliminating those characters with less than 1000 lines. "
   ]
  },
  {
   "cell_type": "code",
   "execution_count": 7,
   "id": "fccc6511",
   "metadata": {
    "execution": {
     "iopub.execute_input": "2023-11-11T19:08:01.491990Z",
     "iopub.status.busy": "2023-11-11T19:08:01.491627Z",
     "iopub.status.idle": "2023-11-11T19:08:01.504443Z",
     "shell.execute_reply": "2023-11-11T19:08:01.502849Z"
    },
    "papermill": {
     "duration": 0.022802,
     "end_time": "2023-11-11T19:08:01.506957",
     "exception": false,
     "start_time": "2023-11-11T19:08:01.484155",
     "status": "completed"
    },
    "tags": []
   },
   "outputs": [],
   "source": [
    "character_counts = df['Character'].value_counts()\n",
    "\n",
    "characters_to_remove = character_counts[character_counts < 1000].index\n",
    "df = df[~df['Character'].isin(characters_to_remove)]\n"
   ]
  },
  {
   "cell_type": "markdown",
   "id": "296cf293",
   "metadata": {
    "papermill": {
     "duration": 0.006023,
     "end_time": "2023-11-11T19:08:01.519751",
     "exception": false,
     "start_time": "2023-11-11T19:08:01.513728",
     "status": "completed"
    },
    "tags": []
   },
   "source": [
    "and lets once again take a look at our Character distribution now that we have removed the outliers"
   ]
  },
  {
   "cell_type": "code",
   "execution_count": 8,
   "id": "2ae8e120",
   "metadata": {
    "execution": {
     "iopub.execute_input": "2023-11-11T19:08:01.534262Z",
     "iopub.status.busy": "2023-11-11T19:08:01.533898Z",
     "iopub.status.idle": "2023-11-11T19:08:01.943697Z",
     "shell.execute_reply": "2023-11-11T19:08:01.942635Z"
    },
    "papermill": {
     "duration": 0.419958,
     "end_time": "2023-11-11T19:08:01.945910",
     "exception": false,
     "start_time": "2023-11-11T19:08:01.525952",
     "status": "completed"
    },
    "tags": []
   },
   "outputs": [
    {
     "data": {
      "image/png": "[encoded data removed]",
      "text/plain": [
       "<Figure size 1000x600 with 1 Axes>"
      ]
     },
     "metadata": {},
     "output_type": "display_data"
    }
   ],
   "source": [
    "character_counts = df['Character'].value_counts()\n",
    "\n",
    "plt.figure(figsize=(10, 6))\n",
    "sns.barplot(x=character_counts.index, y=character_counts.values, palette=\"viridis\")\n",
    "plt.xlabel('Character')\n",
    "plt.ylabel('Number of Entries')\n",
    "plt.title('Character Distribution in the Dataset')\n",
    "plt.xticks(rotation=45, ha=\"right\")\n",
    "plt.tight_layout()\n",
    "plt.show()"
   ]
  },
  {
   "cell_type": "code",
   "execution_count": 9,
   "id": "d9305c13",
   "metadata": {
    "execution": {
     "iopub.execute_input": "2023-11-11T19:08:01.962988Z",
     "iopub.status.busy": "2023-11-11T19:08:01.962004Z",
     "iopub.status.idle": "2023-11-11T19:08:01.969347Z",
     "shell.execute_reply": "2023-11-11T19:08:01.967785Z"
    },
    "papermill": {
     "duration": 0.017893,
     "end_time": "2023-11-11T19:08:01.971239",
     "exception": false,
     "start_time": "2023-11-11T19:08:01.953346",
     "status": "completed"
    },
    "tags": []
   },
   "outputs": [
    {
     "name": "stdout",
     "output_type": "stream",
     "text": [
      "Character\n",
      "PICARD     10798\n",
      "RIKER       6454\n",
      "DATA        5699\n",
      "LAFORGE     4111\n",
      "WORF        3185\n",
      "CRUSHER     2944\n",
      "TROI        2856\n",
      "WESLEY      1206\n",
      "Name: count, dtype: int64\n"
     ]
    }
   ],
   "source": [
    "print(character_counts)"
   ]
  },
  {
   "cell_type": "markdown",
   "id": "27410ece",
   "metadata": {
    "papermill": {
     "duration": 0.006726,
     "end_time": "2023-11-11T19:08:01.985126",
     "exception": false,
     "start_time": "2023-11-11T19:08:01.978400",
     "status": "completed"
    },
    "tags": []
   },
   "source": [
    "## Tokenizing \n",
    "Before we explore our Observations/Lines, lets tokenize the \"Lines\" field in our dataframe.  This breaks each sentence down into various tokens so the model can interpret them better. \n",
    "\n",
    "For now I'm going to leave stop words in, because theres a chance they might have some stylistic nuances that help predicit the character. \n",
    "But because this dataset is scraped from the internet, I'm going to lowercase all of the text in the Line field to keep consistencies. "
   ]
  },
  {
   "cell_type": "code",
   "execution_count": 10,
   "id": "f20da92a",
   "metadata": {
    "execution": {
     "iopub.execute_input": "2023-11-11T19:08:02.001942Z",
     "iopub.status.busy": "2023-11-11T19:08:02.000828Z",
     "iopub.status.idle": "2023-11-11T19:08:08.424325Z",
     "shell.execute_reply": "2023-11-11T19:08:08.422553Z"
    },
    "papermill": {
     "duration": 6.434418,
     "end_time": "2023-11-11T19:08:08.426645",
     "exception": false,
     "start_time": "2023-11-11T19:08:01.992227",
     "status": "completed"
    },
    "tags": []
   },
   "outputs": [
    {
     "name": "stdout",
     "output_type": "stream",
     "text": [
      "[nltk_data] Downloading package punkt to /usr/share/nltk_data...\n",
      "[nltk_data]   Package punkt is already up-to-date!\n"
     ]
    }
   ],
   "source": [
    "nltk.download('punkt')\n",
    "df['Line'] = df['Line'].apply(lambda x: word_tokenize(x.lower()))\n"
   ]
  },
  {
   "cell_type": "markdown",
   "id": "b12bab76",
   "metadata": {
    "papermill": {
     "duration": 0.007238,
     "end_time": "2023-11-11T19:08:08.441481",
     "exception": false,
     "start_time": "2023-11-11T19:08:08.434243",
     "status": "completed"
    },
    "tags": []
   },
   "source": [
    "Lets print out the words/tokens that show up most. "
   ]
  },
  {
   "cell_type": "code",
   "execution_count": 11,
   "id": "b885b576",
   "metadata": {
    "execution": {
     "iopub.execute_input": "2023-11-11T19:08:08.458221Z",
     "iopub.status.busy": "2023-11-11T19:08:08.457857Z",
     "iopub.status.idle": "2023-11-11T19:08:08.580267Z",
     "shell.execute_reply": "2023-11-11T19:08:08.579357Z"
    },
    "papermill": {
     "duration": 0.132979,
     "end_time": "2023-11-11T19:08:08.582012",
     "exception": false,
     "start_time": "2023-11-11T19:08:08.449033",
     "status": "completed"
    },
    "tags": []
   },
   "outputs": [
    {
     "name": "stdout",
     "output_type": "stream",
     "text": [
      "Top 5 words:\n",
      "Word\n",
      ".       52781\n",
      ",       25925\n",
      "the     19638\n",
      "to      15146\n",
      "i       14973\n",
      "you     12713\n",
      "?        9671\n",
      "a        9294\n",
      "it       8228\n",
      "of       7937\n",
      "is       7069\n",
      "that     6707\n",
      "we       6562\n",
      "'s       6159\n",
      "and      5186\n",
      "in       4767\n",
      "have     4663\n",
      "this     3921\n",
      "be       3784\n",
      "do       3759\n",
      "Name: count, dtype: int64\n"
     ]
    }
   ],
   "source": [
    "# Assuming 'df' is your DataFrame with a column 'Tokenized_Lines'\n",
    "# Make sure you have the necessary libraries and data loaded\n",
    "\n",
    "# Flatten the list of lists to a single list of tokens\n",
    "all_tokens = [token for sublist in df['Line'] for token in sublist]\n",
    "\n",
    "# Create a DataFrame with word frequencies\n",
    "word_frequencies = pd.DataFrame({\n",
    "    'Word': all_tokens\n",
    "})\n",
    "\n",
    "# Get the top 5 words\n",
    "top_words = word_frequencies['Word'].value_counts().head(20)\n",
    "\n",
    "# Display the top 5 words\n",
    "print(\"Top 5 words:\")\n",
    "print(top_words)\n"
   ]
  },
  {
   "cell_type": "markdown",
   "id": "d959a75b",
   "metadata": {
    "papermill": {
     "duration": 0.007211,
     "end_time": "2023-11-11T19:08:08.596557",
     "exception": false,
     "start_time": "2023-11-11T19:08:08.589346",
     "status": "completed"
    },
    "tags": []
   },
   "source": [
    "As we can see, there's a lot of punctuation. But there's a chance that commas and question marks might help predict a Character due to style of speaking, so these punctuation styles will stay in for now. "
   ]
  },
  {
   "cell_type": "markdown",
   "id": "3373dd2a",
   "metadata": {
    "papermill": {
     "duration": 0.006921,
     "end_time": "2023-11-11T19:08:08.610777",
     "exception": false,
     "start_time": "2023-11-11T19:08:08.603856",
     "status": "completed"
    },
    "tags": []
   },
   "source": [
    "What's the vocabulary size? "
   ]
  },
  {
   "cell_type": "code",
   "execution_count": 12,
   "id": "0c34fdf2",
   "metadata": {
    "execution": {
     "iopub.execute_input": "2023-11-11T19:08:08.627332Z",
     "iopub.status.busy": "2023-11-11T19:08:08.627030Z",
     "iopub.status.idle": "2023-11-11T19:08:08.690637Z",
     "shell.execute_reply": "2023-11-11T19:08:08.689180Z"
    },
    "papermill": {
     "duration": 0.074371,
     "end_time": "2023-11-11T19:08:08.692707",
     "exception": false,
     "start_time": "2023-11-11T19:08:08.618336",
     "status": "completed"
    },
    "tags": []
   },
   "outputs": [
    {
     "name": "stdout",
     "output_type": "stream",
     "text": [
      "Vocabulary Size: 16123\n"
     ]
    }
   ],
   "source": [
    "vocabulary_size = len(set(word for tokens in df['Line'] for word in tokens))\n",
    "\n",
    "print(\"Vocabulary Size:\", vocabulary_size)"
   ]
  },
  {
   "cell_type": "markdown",
   "id": "fccc494c",
   "metadata": {
    "papermill": {
     "duration": 0.007433,
     "end_time": "2023-11-11T19:08:08.707807",
     "exception": false,
     "start_time": "2023-11-11T19:08:08.700374",
     "status": "completed"
    },
    "tags": []
   },
   "source": [
    "Lets add a \"Line Length\" to a our dataframe, and print out a chart showing average line length per character. "
   ]
  },
  {
   "cell_type": "code",
   "execution_count": 13,
   "id": "c43d4dbf",
   "metadata": {
    "execution": {
     "iopub.execute_input": "2023-11-11T19:08:08.724336Z",
     "iopub.status.busy": "2023-11-11T19:08:08.723876Z",
     "iopub.status.idle": "2023-11-11T19:08:08.968369Z",
     "shell.execute_reply": "2023-11-11T19:08:08.967021Z"
    },
    "papermill": {
     "duration": 0.255833,
     "end_time": "2023-11-11T19:08:08.971079",
     "exception": false,
     "start_time": "2023-11-11T19:08:08.715246",
     "status": "completed"
    },
    "tags": []
   },
   "outputs": [
    {
     "data": {
      "image/png": "[encoded data removed]",
      "text/plain": [
       "<Figure size 640x480 with 1 Axes>"
      ]
     },
     "metadata": {},
     "output_type": "display_data"
    }
   ],
   "source": [
    "\n",
    "df['Line Length'] = df['Line'].apply(len)\n",
    "avg_line_length_by_character = df.groupby('Character')['Line Length'].mean().reset_index()\n",
    "\n",
    "\n",
    "plt.bar(avg_line_length_by_character['Character'], avg_line_length_by_character['Line Length'])\n",
    "plt.xlabel('Character')\n",
    "plt.ylabel('Average Line Length')\n",
    "plt.title('Average Line Length by Character')\n",
    "plt.show()"
   ]
  },
  {
   "cell_type": "markdown",
   "id": "4dfc289c",
   "metadata": {
    "papermill": {
     "duration": 0.007463,
     "end_time": "2023-11-11T19:08:08.986517",
     "exception": false,
     "start_time": "2023-11-11T19:08:08.979054",
     "status": "completed"
    },
    "tags": []
   },
   "source": [
    "I was surprised to see that overall, the average line length is consistent across the board.  Lets look at distribution of line length in general, where length is the number of tokens in a line. "
   ]
  },
  {
   "cell_type": "code",
   "execution_count": 14,
   "id": "de193e5f",
   "metadata": {
    "execution": {
     "iopub.execute_input": "2023-11-11T19:08:09.003649Z",
     "iopub.status.busy": "2023-11-11T19:08:09.003246Z",
     "iopub.status.idle": "2023-11-11T19:08:09.254952Z",
     "shell.execute_reply": "2023-11-11T19:08:09.253684Z"
    },
    "papermill": {
     "duration": 0.263332,
     "end_time": "2023-11-11T19:08:09.257497",
     "exception": false,
     "start_time": "2023-11-11T19:08:08.994165",
     "status": "completed"
    },
    "tags": []
   },
   "outputs": [
    {
     "data": {
      "image/png": "[encoded data removed]",
      "text/plain": [
       "<Figure size 640x480 with 1 Axes>"
      ]
     },
     "metadata": {},
     "output_type": "display_data"
    }
   ],
   "source": [
    "plt.hist(df['Line Length'], bins=50, edgecolor='black')\n",
    "plt.xlabel('Line Length (Number of Tokens)')\n",
    "plt.ylabel('Frequency')\n",
    "plt.title('Distribution of Line Lengths')\n",
    "plt.show()"
   ]
  },
  {
   "cell_type": "markdown",
   "id": "d27f2865",
   "metadata": {
    "papermill": {
     "duration": 0.007705,
     "end_time": "2023-11-11T19:08:09.273902",
     "exception": false,
     "start_time": "2023-11-11T19:08:09.266197",
     "status": "completed"
    },
    "tags": []
   },
   "source": [
    "For the most part, the length of each line is around 20 tokens. But lets see the outliers, whos responsible for giving speeches in this show. \n",
    "\n",
    "Lets filter by lines over 200 tokens"
   ]
  },
  {
   "cell_type": "code",
   "execution_count": 15,
   "id": "75c291d6",
   "metadata": {
    "execution": {
     "iopub.execute_input": "2023-11-11T19:08:09.291636Z",
     "iopub.status.busy": "2023-11-11T19:08:09.291230Z",
     "iopub.status.idle": "2023-11-11T19:08:09.304549Z",
     "shell.execute_reply": "2023-11-11T19:08:09.303116Z"
    },
    "papermill": {
     "duration": 0.024528,
     "end_time": "2023-11-11T19:08:09.306461",
     "exception": false,
     "start_time": "2023-11-11T19:08:09.281933",
     "status": "completed"
    },
    "tags": []
   },
   "outputs": [
    {
     "data": {
      "text/html": [
       "<div>\n",
       "<style scoped>\n",
       "    .dataframe tbody tr th:only-of-type {\n",
       "        vertical-align: middle;\n",
       "    }\n",
       "\n",
       "    .dataframe tbody tr th {\n",
       "        vertical-align: top;\n",
       "    }\n",
       "\n",
       "    .dataframe thead th {\n",
       "        text-align: right;\n",
       "    }\n",
       "</style>\n",
       "<table border=\"1\" class=\"dataframe\">\n",
       "  <thead>\n",
       "    <tr style=\"text-align: right;\">\n",
       "      <th></th>\n",
       "      <th>Character</th>\n",
       "      <th>Line Length</th>\n",
       "    </tr>\n",
       "  </thead>\n",
       "  <tbody>\n",
       "    <tr>\n",
       "      <th>12012</th>\n",
       "      <td>PICARD</td>\n",
       "      <td>236</td>\n",
       "    </tr>\n",
       "    <tr>\n",
       "      <th>27648</th>\n",
       "      <td>WESLEY</td>\n",
       "      <td>184</td>\n",
       "    </tr>\n",
       "    <tr>\n",
       "      <th>31991</th>\n",
       "      <td>CRUSHER</td>\n",
       "      <td>256</td>\n",
       "    </tr>\n",
       "    <tr>\n",
       "      <th>55976</th>\n",
       "      <td>PICARD</td>\n",
       "      <td>201</td>\n",
       "    </tr>\n",
       "  </tbody>\n",
       "</table>\n",
       "</div>"
      ],
      "text/plain": [
       "      Character  Line Length\n",
       "12012    PICARD          236\n",
       "27648    WESLEY          184\n",
       "31991   CRUSHER          256\n",
       "55976    PICARD          201"
      ]
     },
     "execution_count": 15,
     "metadata": {},
     "output_type": "execute_result"
    }
   ],
   "source": [
    "long_lines_df = df[df['Line Length'] > 175]\n",
    "\n",
    "long_lines_df[['Character','Line Length']]"
   ]
  },
  {
   "cell_type": "markdown",
   "id": "474765e1",
   "metadata": {
    "papermill": {
     "duration": 0.007771,
     "end_time": "2023-11-11T19:08:09.322442",
     "exception": false,
     "start_time": "2023-11-11T19:08:09.314671",
     "status": "completed"
    },
    "tags": []
   },
   "source": [
    "Looks like Picard is the most common one giving speeches, but Dr Crusher and her sone Wesley also give a speech. "
   ]
  },
  {
   "cell_type": "markdown",
   "id": "e855d3b2",
   "metadata": {
    "papermill": {
     "duration": 0.007642,
     "end_time": "2023-11-11T19:08:09.337937",
     "exception": false,
     "start_time": "2023-11-11T19:08:09.330295",
     "status": "completed"
    },
    "tags": []
   },
   "source": [
    "One last look at our dataframe with the tokenized lines and Line Length"
   ]
  },
  {
   "cell_type": "code",
   "execution_count": 16,
   "id": "3e0f41b0",
   "metadata": {
    "execution": {
     "iopub.execute_input": "2023-11-11T19:08:09.409479Z",
     "iopub.status.busy": "2023-11-11T19:08:09.409114Z",
     "iopub.status.idle": "2023-11-11T19:08:09.424305Z",
     "shell.execute_reply": "2023-11-11T19:08:09.423005Z"
    },
    "papermill": {
     "duration": 0.027356,
     "end_time": "2023-11-11T19:08:09.426999",
     "exception": false,
     "start_time": "2023-11-11T19:08:09.399643",
     "status": "completed"
    },
    "tags": []
   },
   "outputs": [
    {
     "data": {
      "text/html": [
       "<div>\n",
       "<style scoped>\n",
       "    .dataframe tbody tr th:only-of-type {\n",
       "        vertical-align: middle;\n",
       "    }\n",
       "\n",
       "    .dataframe tbody tr th {\n",
       "        vertical-align: top;\n",
       "    }\n",
       "\n",
       "    .dataframe thead th {\n",
       "        text-align: right;\n",
       "    }\n",
       "</style>\n",
       "<table border=\"1\" class=\"dataframe\">\n",
       "  <thead>\n",
       "    <tr style=\"text-align: right;\">\n",
       "      <th></th>\n",
       "      <th>Line</th>\n",
       "      <th>Character</th>\n",
       "      <th>Episode</th>\n",
       "      <th>Line Length</th>\n",
       "    </tr>\n",
       "  </thead>\n",
       "  <tbody>\n",
       "    <tr>\n",
       "      <th>0</th>\n",
       "      <td>[you, will, agree, ,, data, ,, that, starfleet...</td>\n",
       "      <td>PICARD</td>\n",
       "      <td>tng_000</td>\n",
       "      <td>12</td>\n",
       "    </tr>\n",
       "    <tr>\n",
       "      <th>1</th>\n",
       "      <td>[as, simple, as, that, .]</td>\n",
       "      <td>PICARD</td>\n",
       "      <td>tng_000</td>\n",
       "      <td>5</td>\n",
       "    </tr>\n",
       "    <tr>\n",
       "      <th>2</th>\n",
       "      <td>[it, 's, hardly, simple, ,, data, ,, to, negot...</td>\n",
       "      <td>PICARD</td>\n",
       "      <td>tng_000</td>\n",
       "      <td>36</td>\n",
       "    </tr>\n",
       "    <tr>\n",
       "      <th>3</th>\n",
       "      <td>[data, ,, how, can, you, be, programmed, as, a...</td>\n",
       "      <td>PICARD</td>\n",
       "      <td>tng_000</td>\n",
       "      <td>22</td>\n",
       "    </tr>\n",
       "    <tr>\n",
       "      <th>4</th>\n",
       "      <td>[it, means, to, spy, ,, to, sneak, .]</td>\n",
       "      <td>PICARD</td>\n",
       "      <td>tng_000</td>\n",
       "      <td>8</td>\n",
       "    </tr>\n",
       "    <tr>\n",
       "      <th>5</th>\n",
       "      <td>[exactly, ,, yes, .]</td>\n",
       "      <td>PICARD</td>\n",
       "      <td>tng_000</td>\n",
       "      <td>4</td>\n",
       "    </tr>\n",
       "    <tr>\n",
       "      <th>6</th>\n",
       "      <td>[shut, off, that, damned, noise, ., go, to, ye...</td>\n",
       "      <td>PICARD</td>\n",
       "      <td>tng_000</td>\n",
       "      <td>11</td>\n",
       "    </tr>\n",
       "    <tr>\n",
       "      <th>7</th>\n",
       "      <td>[reverse, power, ,, full, stop, .]</td>\n",
       "      <td>PICARD</td>\n",
       "      <td>tng_000</td>\n",
       "      <td>6</td>\n",
       "    </tr>\n",
       "    <tr>\n",
       "      <th>8</th>\n",
       "      <td>[that, 's, quite, a, directive, ., would, you,...</td>\n",
       "      <td>PICARD</td>\n",
       "      <td>tng_000</td>\n",
       "      <td>14</td>\n",
       "    </tr>\n",
       "    <tr>\n",
       "      <th>9</th>\n",
       "      <td>[data, ,, call, medics, .]</td>\n",
       "      <td>PICARD</td>\n",
       "      <td>tng_000</td>\n",
       "      <td>5</td>\n",
       "    </tr>\n",
       "  </tbody>\n",
       "</table>\n",
       "</div>"
      ],
      "text/plain": [
       "                                                Line Character  Episode  \\\n",
       "0  [you, will, agree, ,, data, ,, that, starfleet...    PICARD  tng_000   \n",
       "1                          [as, simple, as, that, .]    PICARD  tng_000   \n",
       "2  [it, 's, hardly, simple, ,, data, ,, to, negot...    PICARD  tng_000   \n",
       "3  [data, ,, how, can, you, be, programmed, as, a...    PICARD  tng_000   \n",
       "4              [it, means, to, spy, ,, to, sneak, .]    PICARD  tng_000   \n",
       "5                               [exactly, ,, yes, .]    PICARD  tng_000   \n",
       "6  [shut, off, that, damned, noise, ., go, to, ye...    PICARD  tng_000   \n",
       "7                 [reverse, power, ,, full, stop, .]    PICARD  tng_000   \n",
       "8  [that, 's, quite, a, directive, ., would, you,...    PICARD  tng_000   \n",
       "9                         [data, ,, call, medics, .]    PICARD  tng_000   \n",
       "\n",
       "   Line Length  \n",
       "0           12  \n",
       "1            5  \n",
       "2           36  \n",
       "3           22  \n",
       "4            8  \n",
       "5            4  \n",
       "6           11  \n",
       "7            6  \n",
       "8           14  \n",
       "9            5  "
      ]
     },
     "execution_count": 16,
     "metadata": {},
     "output_type": "execute_result"
    }
   ],
   "source": [
    "df.head(10)"
   ]
  }
 ],
 "metadata": {
  "kernelspec": {
   "display_name": "Python 3",
   "language": "python",
   "name": "python3"
  },
  "language_info": {
   "codemirror_mode": {
    "name": "ipython",
    "version": 3
   },
   "file_extension": ".py",
   "mimetype": "text/x-python",
   "name": "python",
   "nbconvert_exporter": "python",
   "pygments_lexer": "ipython3",
   "version": "3.10.12"
  },
  "papermill": {
   "default_parameters": {},
   "duration": 16.379703,
   "end_time": "2023-11-11T19:08:10.257909",
   "environment_variables": {},
   "exception": null,
   "input_path": "__notebook__.ipynb",
   "output_path": "__notebook__.ipynb",
   "parameters": {},
   "start_time": "2023-11-11T19:07:53.878206",
   "version": "2.4.0"
  }
 },
 "nbformat": 4,
 "nbformat_minor": 5
}
