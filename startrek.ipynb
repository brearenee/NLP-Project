{
 "cells": [
  {
   "cell_type": "markdown",
   "id": "99eced8a",
   "metadata": {
    "papermill": {
     "duration": 0.009417,
     "end_time": "2023-11-11T17:26:44.453931",
     "exception": false,
     "start_time": "2023-11-11T17:26:44.444514",
     "status": "completed"
    },
    "tags": []
   },
   "source": [
    "# Project Part 1\n",
    "\n",
    "[![Kaggle](https://kaggle.com/static/images/open-in-kaggle.svg)](https://kaggle.com/kernels/welcome?src=https://github.com/brearenee/NLP-Project/blob/main/startrek.ipynb)\n",
    "\n",
    "[![Open In Colab](https://colab.research.google.com/assets/colab-badge.svg)](https://colab.research.google.com/github/sgeinitz/https://github.com/brearenee/NLP-Project/blob/main/startrek.ipynb)\n"
   ]
  },
  {
   "cell_type": "markdown",
   "id": "f63e4a77",
   "metadata": {
    "papermill": {
     "duration": 0.006816,
     "end_time": "2023-11-11T17:26:44.468024",
     "exception": false,
     "start_time": "2023-11-11T17:26:44.461208",
     "status": "completed"
    },
    "tags": []
   },
   "source": [
    "## 1. Introduction/Background\n",
    "In this notebook, I'll be working with a dataset containing dialogue transcripts from various Star Trek series episodes, which I found on [kaggle](http://http://https://www.kaggle.com/datasets/birkoruzicka/startrekdialoguetranscripts/data). This dataset provides a large amount of script lines, each accompanied by information on episode, seriess, and the character who delivered said line. \n",
    "\n",
    "The objective of this project is to build a model capable of predicting the reoccuring character associated with a given line from the script from the series \"The Next Generation\".  This type of problem is known as Speaker Identification and i'll be treating it as a text classification problem since model will need to learn patterns that are indicative of the speaking style of each character. Since there are multiple different characters which occur in this dataset, the end result is a multi-class classification task. \n",
    "\n",
    "\n",
    "\n",
    "\n",
    "\n",
    "\n",
    "\n",
    "\n",
    "\n"
   ]
  },
  {
   "cell_type": "markdown",
   "id": "c3c215d3",
   "metadata": {
    "papermill": {
     "duration": 0.006706,
     "end_time": "2023-11-11T17:26:44.481874",
     "exception": false,
     "start_time": "2023-11-11T17:26:44.475168",
     "status": "completed"
    },
    "tags": []
   },
   "source": [
    "## 2. Data Preprocessing/ Exploratory Data Analysis\n",
    "\n",
    "This part of the process involves looking at the data, and making adjustments as needed to clean the dataset and ensure its in a suitable format for analysis.  This creates a Exploratory Data Analysis to Data Preprocessing cycle. \n",
    "\n",
    "\n",
    "To start, the datasource I'm working with is initially structured as a highly nested JSON file, and it's original format isn't quite optimal for the model I'm trying to create. \n",
    "You can peek at the original JSON file [here](http://https://raw.githubusercontent.com/brearenee/NLP-Project/main/dataset/StarTrekDialogue_v2.json) (it's too large to load in this notebook)\n",
    "\n",
    "It also includes a lot of data I don't necessarily need. Becase of this, I'll need to parse through the file and transform it's structure to allow for a more useful dataframe. As I'm only trying to predict lines from \"The Next Generation\", I'll also be removing the other series from my dataset. \n",
    "\n"
   ]
  },
  {
   "cell_type": "code",
   "execution_count": 1,
   "id": "d18d3367",
   "metadata": {
    "execution": {
     "iopub.execute_input": "2023-11-11T17:26:44.498275Z",
     "iopub.status.busy": "2023-11-11T17:26:44.497497Z",
     "iopub.status.idle": "2023-11-11T17:26:45.565885Z",
     "shell.execute_reply": "2023-11-11T17:26:45.564737Z"
    },
    "papermill": {
     "duration": 1.079845,
     "end_time": "2023-11-11T17:26:45.568719",
     "exception": false,
     "start_time": "2023-11-11T17:26:44.488874",
     "status": "completed"
    },
    "tags": []
   },
   "outputs": [],
   "source": [
    "import pandas as pd\n",
    "import json\n",
    "import requests\n"
   ]
  },
  {
   "cell_type": "code",
   "execution_count": null,
   "id": "9bd7f15a",
   "metadata": {
    "papermill": {
     "duration": 0.006988,
     "end_time": "2023-11-11T17:26:45.583331",
     "exception": false,
     "start_time": "2023-11-11T17:26:45.576343",
     "status": "completed"
    },
    "tags": []
   },
   "outputs": [],
   "source": []
  },
  {
   "cell_type": "code",
   "execution_count": 2,
   "id": "fe54321b",
   "metadata": {
    "execution": {
     "iopub.execute_input": "2023-11-11T17:26:45.599829Z",
     "iopub.status.busy": "2023-11-11T17:26:45.599227Z",
     "iopub.status.idle": "2023-11-11T17:26:48.110660Z",
     "shell.execute_reply": "2023-11-11T17:26:48.109296Z"
    },
    "papermill": {
     "duration": 2.5233,
     "end_time": "2023-11-11T17:26:48.113817",
     "exception": false,
     "start_time": "2023-11-11T17:26:45.590517",
     "status": "completed"
    },
    "tags": []
   },
   "outputs": [],
   "source": [
    "url = 'https://raw.githubusercontent.com/brearenee/NLP-Project/main/dataset/StarTrekDialogue_v2.json'\n",
    "\n",
    "# Make a GET request to the URL\n",
    "response = requests.get(url)\n",
    "\n",
    "# Check if the request was successful (status code 200)\n",
    "if response.status_code == 200:\n",
    "    # Load JSON data from the response\n",
    "    json_data = json.loads(response.text)\n",
    "\n",
    "    # Extract lines, characters, episodes, and series\n",
    "    lines = []\n",
    "    characters = []\n",
    "    episodes = []\n",
    "  \n",
    "\n",
    "    # extract the information from the JSON file for the \"TNG\" series\n",
    "    for series_name, series_data in json_data.items():\n",
    "        if series_name == \"TNG\":  # Only consider data from the \"TNG\" series\n",
    "            for episode_name, episode_data in series_data.items():\n",
    "                for character_name, character_lines in episode_data.items():\n",
    "                    for line_text in character_lines:\n",
    "                        lines.append(line_text)\n",
    "                        characters.append(character_name)\n",
    "                        episodes.append(episode_name)\n",
    "                     \n",
    "\n",
    "    # Create a DataFrame from the extracted data\n",
    "    df = pd.DataFrame({\n",
    "        'Line': lines,\n",
    "        'Character': characters,\n",
    "        'Episode': episodes,\n",
    "    })\n",
    "\n",
    "    # Remove duplicate lines, keeping the first occurrence (preserving the original order)\n",
    "    df = df.drop_duplicates(subset='Line', keep='first')\n",
    "\n",
    "    # Reset the index of the DataFrame\n",
    "    df.reset_index(drop=True, inplace=True)\n",
    "\n",
    "else:\n",
    "    print(f\"Failed to retrieve data. Status code: {response.status_code}\")\n"
   ]
  },
  {
   "cell_type": "markdown",
   "id": "4844ac61",
   "metadata": {
    "papermill": {
     "duration": 0.007137,
     "end_time": "2023-11-11T17:26:48.128862",
     "exception": false,
     "start_time": "2023-11-11T17:26:48.121725",
     "status": "completed"
    },
    "tags": []
   },
   "source": [
    "Lets take a look at all of the characters in this Star Trek series"
   ]
  },
  {
   "cell_type": "code",
   "execution_count": 3,
   "id": "a9b074d1",
   "metadata": {
    "execution": {
     "iopub.execute_input": "2023-11-11T17:26:48.145810Z",
     "iopub.status.busy": "2023-11-11T17:26:48.145354Z",
     "iopub.status.idle": "2023-11-11T17:26:48.161140Z",
     "shell.execute_reply": "2023-11-11T17:26:48.159854Z"
    },
    "papermill": {
     "duration": 0.027475,
     "end_time": "2023-11-11T17:26:48.163985",
     "exception": false,
     "start_time": "2023-11-11T17:26:48.136510",
     "status": "completed"
    },
    "tags": []
   },
   "outputs": [
    {
     "name": "stdout",
     "output_type": "stream",
     "text": [
      "['PICARD', 'DATA', 'TROI', 'TORRES', 'WORF', 'Q', 'TASHA', \"O'BRIEN\", 'BAILIFF', 'SOLDIER', 'ZORN', 'RIKER', 'WESLEY', 'CRUSHER', 'LAFORGE', 'MCCOY', 'ENSIGN', 'COMPUTER', 'SECURITY', 'CREW', 'WOMAN', 'MAN', 'SHIMODA', 'MACDOUGAL', 'CREWMAN', 'LUTAN', 'HAGON', 'YAREENA', 'CHIEF', 'TARR', 'LETEK', 'MORDOC', 'KAYRON', 'PORTAL', 'KOSINSKI', 'ARGYLE', 'TRAVELLER', 'MAMAN', 'SELAY', 'GEORDI', 'ANTICAN', 'SINGH', 'RIVAN', 'LIATOR', 'EDO', 'BOY', 'GIRL', 'OFFICER', 'MEDIATOR 2', 'MEDIATOR', 'BEVERLY', 'MEDIC', 'BOK', 'KAZAGO', 'RATA', 'VOICES', 'VOICE', 'FACE', 'STEVEN', 'VICTORIA', 'WYATT', 'LWAXANA', 'VALEDA', 'WRENN', 'ARIANA', 'HOMN', 'SECRETARY', 'JESSICA', 'LEECH', 'WHALEN', 'VENDOR', 'BELL', 'MCNARY', 'JARADAN', 'POLICEMAN', 'SERGEANT', 'REDBLOCK', 'THUG', 'LORE', 'BEATA', 'ARIEL', 'TRENT', 'RAMSEY', 'QUINTEROS', 'ONE ZERO', 'ZERO ONE', 'ZERO ZERO', 'ONE ONE', 'MINUET', 'BASS', 'PIANO', 'STARBASE', 'JAMESON', 'KARNAS', 'ANNE', 'BERNARD', 'HARRY', 'RASHELLA', 'RADUE', 'KATIE', 'TOYA', 'LEDA', 'ACCOLAN', 'MELIAN', 'DUANA', 'CUSTODIAN', 'ALEXANDRA', 'MANDL', 'LUISA', 'BENSON', 'BENSEN', 'MALENCON', 'CREWWOMAN', 'JAKE', 'QUINN', 'REMMICK', 'OLIANA', \"T'SHANIK\", 'MORDOCK', 'CHANG', 'RONDON', 'MAN 2', 'KORRIS', 'KONMEL', 'NURSE', \"K'NERA\", 'GUARD', 'SALESMAN', \"T'SU\", 'RICE', 'LOGAN', 'SOLIS', \"T'JON\", 'ROMAS', 'SOBI', 'LANGOR', 'MARGAN', 'PRIETO', 'LYNCH', 'ARMUS', 'NURSE 2', 'DEAN', 'MANHEIM', 'EDOUARD', 'FRANCINE', 'GABRIELLE', 'JENICE', 'PICARD 2', 'DATA 2', 'DATA 3', 'DATA 1', 'KEEL', 'RIXX', 'TRYLA', 'SAVAR', 'AARON', 'RALPH', 'SONNY', 'CLARE', 'TEBOK', 'THEI', 'REPULSE', 'SICKBAY', 'GUINAN', 'PULASKI', 'DEALT', 'IAN', 'MISS GLADSTONE', 'HASKELL', 'NAGILUM', 'CLANCY', 'LESTRADE', 'PIE MAN', 'WHORE', 'MORIARTY', 'BOTH', 'RUFFIAN', 'OKONA', 'ROBINSON', 'COMIC', 'DEBIN', 'KUSHELL', 'BENZAN', 'YANAR', 'SCHOLAR', 'ADONIS', 'ALIEN 1', 'ALIEN 2', 'ALIEN 3', 'KAREEN', 'GRAVES', 'SELAR', 'TELAKA', 'LANTREE', 'KINGSLEY', 'TAGGERT', 'MENDON', 'KARGAN', 'TACTICS', 'KLAG', 'VEKMA', 'PHILLIPA', 'NAKAMURA', 'MADDOX', 'GIBSON', 'ANYA', 'SALIA', 'VARLEY', 'TARIS', 'DOCTOR', 'WILLIAMS', 'BELLBOY', 'CLERK', 'TEXAS', 'VANESSA', 'MICKEY D', 'CROUPIER', 'P2', 'HERBERT', 'KYLE', 'DAVIES', 'SARJENKA', 'HILDEBRANDT', 'ALANS', 'SONYA', 'BORG', 'GREBNEDLOG', 'REGINOD', 'SURGEON', 'PHYSIOLOGIST', 'DANILO', 'BRENNA', 'GRANGER', 'GRANGER 2', 'PILOT', 'MADELINE', 'SLADE', 'REX', 'ANTEDEANS', 'ANTEDEAN', 'CLANCEY', 'GROMEK', \"K'EHLEYR\", 'TACTICAL', \"K'TEMOC\", 'KOLRAMI', 'BURKE', 'NAGEL', 'BRACTOR', 'TACTICIAN', 'A', 'STUBBS', 'SHELIAK', 'HARITATH', 'KENTOR', 'GOSHEVEN', \"ARD'RIAN\", 'ALL', 'KEVIN', 'RISHON', 'BARRON', 'LIKO', 'OJI', 'OGAWA', 'FENTO', 'NURIA', 'HALI', 'JEREMY', 'DAD', 'MARLA', 'CHRISTY', 'GALEK SAR', 'LEAH', 'PATAHK', 'TOMALAK', 'BOCHRA', 'BHAVANI', 'MENDOZA', 'LEYOR', 'RAL', 'GOSS', 'ARRIDOR', 'MAROUK', 'YUTA', 'BRULL', 'VOLNOTH', 'TEMAREK', 'CHORGAN', 'BATES', 'SETAL', 'HADEN', 'JAROK', 'NAYROK', 'ZAYNAR', 'ROGA', 'WAGNOR', 'KATIK', 'ALEXANA', 'FINN', 'POLICE', 'GARIN', 'SCIENTIST', 'WAITRESS', 'Q2', 'KRAG', 'APGAR', 'MANUA', 'TAYNA', 'GARRETT', 'CASTILLO', 'KLINGON', 'LAL', 'HAFTEL', 'BALLARD', 'KURN', \"K'MPEC\", 'DURAS', 'KAHLEST', 'HARO', 'THOLL', 'ESOQQ', 'ALIEN 4', 'ALIEN 1+4', 'AJUR', 'BORATUS', 'VASH', 'JOVAL', 'SOVAK', 'DESOTO', 'TAM', 'ROMULAN', 'BARCLAY', 'DUFFY', 'HOLO-PICARD', 'HOLO-DATA', 'HOLO-LAFORGE', 'HOLO-RIKER', 'HOLO-TROI', 'VARRIA', 'FAJO', 'TOFF', 'MENDROSSEN', 'SAKKATH', 'SAREK', 'PERRIN', 'NIBOR', 'GRAX', 'FAREK', 'TOG', 'FERENGI', 'CHRISTI', 'TEMPLE', 'JOHN', 'SUNAD', 'HANSON', 'SHELBY', 'GLEASON', 'FEMALE', 'HELENA', 'SERGEY', 'RENE', 'MARIE', 'ROBERT', 'LOUIS', 'JACK', 'KOPF', 'WILLIE', 'SOONG', 'JONO', 'CONNOR', 'MOIRA', 'JEREMIAH', 'ENDAR', 'CONNAUGHT', 'QUAICE', 'TAN TSU', 'PASSER-BY', 'HAYNE', 'ISHARA', 'ALEXANDER', 'GOWRON', 'HUBBLE', 'JEAN-LUC', 'ETHAN', 'SONGI', 'DIRGO', 'ALLENBY', 'BROOKS', 'KEIKO', 'TECHNICIAN', \"T'PEL\", \"V'SAL\", 'MENDAK', 'MACET', 'DARO', 'WAITER', 'TELLE', 'MAXWELL', 'MARLEY', 'CLARK', 'JARED', 'ARDRA', \"FEK'LHR\", 'DEVIL', 'JOHNNY', 'MCKNIGHT', 'ALYSSA', 'TAVA', 'NILREM', 'BEREL', 'MIRASTA', 'DURKEN', 'KROLA', 'MALE', 'LANEL', 'RAGER', 'PAVLIK', 'HAGAN', 'ZAHEVA', 'PEEPLES', 'GILLESPIE', 'LIN', 'BREVELLE', 'SUSANNA', 'HICKMAN', 'GRAHAM', 'HOLO-SUZ', 'HEDRICK', 'ANAYA', 'LARSON', 'EINSTEIN', 'BROWER', 'ALIEN', 'TROI + VASH', 'SIR GUY', 'RABBLE', \"J'DAN\", 'SATIE', 'SABIN', 'TARSES', 'NELLEN', 'TIMICIN', \"B'TARDAT\", 'DARA', 'ODAN', 'LEKA', 'TAGGART', 'KALIN', 'LATHAL', 'KAREEL', 'LAFORGE + COMPUTER', 'KELL', 'TAIBAK', 'VAGH', 'JENNA', 'MILES', \"K'TAL\", 'TORAL', \"B'ETOR\", 'LURSA', 'MOVAR', 'HELMSMAN', 'HELM', 'SHANTHI', 'LARG', 'HOBSON', 'SELA', 'KULGE', 'DATHON', 'TAMARIAN', 'LEFLER', 'MOT', 'KENNELLY', 'RO', 'KEEVE', 'COLLINS', 'ORTA', 'DOLAK', 'CARMEN', 'MARR', 'CAPTAIN', 'PATTERSON', 'JAY GORDON', 'MONROE', 'MANDEL', 'MARISSA', 'ETANA', 'ROBIN', 'BRACKETT', \"B'IJIK\", \"K'VADA\", 'DOKACHIN', 'NERAL', 'PARDEK', 'LADY', 'ROMULAN 1', 'SPOCK', \"D'TAN\", 'AMARIE', 'WOMAN 2', 'OMAG', 'HOLO-SPOCK', 'VARIOUS', 'RASMUSSEN', 'MOSELEY', \"JA'DAR\", 'FELTON', 'TIMOTHY', 'HUTCHINSON', 'TEACHER', 'TARMIN', 'JEV', 'INAD', 'MARTIN', 'DAVIS', 'CONOR', 'HANNAH', 'CONOR + TROI', 'KRISTIN', 'MACDUFF', 'RUSSELL', 'SOREN', 'KRITE', 'NOOR', 'BATESON', 'BRAND', 'LOCARNO', 'BOOTHBY', 'CADET', 'SITO', 'HAJAR', 'SATELK', 'ALBERT', 'JUGGLER', 'YOUNG MAN', 'YOUNG WOMAN', 'POET', 'CAMPIO', 'ERKO', 'BRIAM', 'QOL', 'LENOR', 'KAMALA', 'MINER 1', 'MINER 2', 'MINER 3', 'ALRIK', 'CLARA', 'SUTTER', 'ISABELLA', 'MCDOWELL', 'MIROK', 'VAREL', 'BROSSMER', 'PAREM', 'ELINE', 'BATAI', 'ADMINISTRATOR', 'MERIBOR', 'BATAI JR', 'BEGGAR', 'GAMBLER', 'SEAMAN', 'NATIVE', 'CLEMENS', 'DOORMAN', 'REPORTER', 'CARMICHAEL', 'HAYES', 'TALMADGE', 'ALKAR', 'MAYLOR', 'SIMONS', 'JARTH', 'LIVA', 'JANEWAY', 'SCOTT', 'KANE', 'BARTEL', 'SHIPLEY', 'ENGINEER', 'KAMINER', 'AMANDA', 'LOTE', 'PICARD JR', 'RO JR', 'GUINAN JR', 'KEIKO JR', 'MOLLY', 'BERIK', 'MORTA', 'LURIN', 'CHILD', 'ELI', 'BANDITO', 'ANNIE', 'DATA-FRANK', 'DATA-ELI', 'DATA-MEXICAN', 'DATA-ANNIE', 'FARALLON', 'KELSO', 'PIERSON', 'NECHAYEV', 'JELLICO', 'SOLOK', 'LEMEC', 'MADRED', 'JIL ORRA', 'GENTLEMAN', 'COUNTESS', 'AQUIEL', 'TORAK', 'BARMAN', 'MORAG', \"N'VEK\", 'TORETH', 'DESEVE', 'MAURICE', 'MARTA', 'COREY', 'PENNY', 'NAUSICAAN 1', 'NAUSICAAN', 'BASHIR', 'SHREK', \"BA'EL\", \"L'KOR\", \"GI'RAL\", 'TOQ', 'TOKATH', 'ORTON', 'KELSEY', 'NEIL', 'KIROS', 'DEVOR', 'HUTCH', 'SATLER', 'POMET', 'PICARD + COMPUTER', 'NELLA', 'MARQUEZ', 'GALEN', 'OCETT', \"NU'DAQ\", 'HUMANOID', 'CROWD', 'SYRUS', 'MAVEK', 'JAYA', 'LIEUTENANT', 'SUNA', 'REYGA', \"T'PAN\", 'KURAK', 'CHRISTOPHER', \"JO'BRIL\", 'DIVOK', 'KOROTH', 'KAHLESS', 'TORIN', 'RIKER 2', 'PALMER', 'ROMULAN 2', 'ROMULAN 3', 'HAWKING', 'NEWTON', 'BOSUS', 'TAYAR', 'FRANKLIN', 'CROSIS', 'HUGH', 'TAITT', 'SALAZAR', 'POWELL', 'BARNABY', 'GOVAL', 'LOQUEL', 'BYLETH', 'VOVAL', 'ANNA', 'HOLT', 'SILVA', 'DR LA FORGE', 'BARTENDER', 'YRANAC', 'CHEKOTE', 'GIUSTI', 'BARAN', 'NARIK', 'VEKOR', 'TALLERA', 'SANDERS', 'YRANEC', 'KORAL', 'SATOK', 'WORKMAN', 'TYLER', 'FREUD', 'HEDRIL', 'MAQUES', 'KESTRA', 'KES', 'LORIN', 'MAURIC', 'PRYTT', 'AIDE', 'TROOPER', 'PRAK', 'RABAL', 'SEROVA', 'JULIANA', 'PRAN', 'AUDIENCE', 'NADOR', 'BLACKWELL', 'PRESSMAN', 'SIROL', 'VORIN', 'KATERAS', 'NIKOLAI', 'DOBARA', 'MATURIN', 'QUINT', 'RONIN', 'FELISA', 'LAVELLE', 'TAURIK', 'BEN', 'JORET', 'RAINER', 'GARVIN', 'GIA', 'TALUR', 'SKORAN', 'APPRENTICE', 'ERIC', 'DATA-IHAT', 'DATA-VICTIM', 'DATA-BOY', 'DATA-ELDER', 'DATA-MASAKA', 'NARA', 'KWAN', 'CALLOWAY', 'PIERCE', 'DERN', 'NECHEYEV', 'WAKASA', 'ANTHWARA', 'LAKANTA', 'GUL EVEK', 'INDIAN', 'TELAK', 'SINGER', 'MOLOR', 'ROBBER', \"K'MTAR\", 'QUARK', 'GORTA', 'YOG', 'JASON', 'BIRTA', 'RHODES', 'TOL', 'CONDUCTOR', 'RUSTIC', 'GANGSTER', 'SANTOS', 'MACIAS', 'KALITA', 'JESSEL', 'CHILTON', 'TOMOLAK', 'GAINES']\n"
     ]
    }
   ],
   "source": [
    "unique_characters = df['Character'].unique().tolist()\n",
    "\n",
    "# Display the list of unique characters\n",
    "print(unique_characters)"
   ]
  },
  {
   "cell_type": "markdown",
   "id": "99ea5cf1",
   "metadata": {
    "papermill": {
     "duration": 0.00703,
     "end_time": "2023-11-11T17:26:48.178369",
     "exception": false,
     "start_time": "2023-11-11T17:26:48.171339",
     "status": "completed"
    },
    "tags": []
   },
   "source": [
    "As you can see, this is pretty messy, as this series has quite a few one-off characters. Let's eliminate all of the outliers by removing characters that don't occur in more than 5 episodes. "
   ]
  },
  {
   "cell_type": "code",
   "execution_count": 4,
   "id": "8b0ceaf5",
   "metadata": {
    "execution": {
     "iopub.execute_input": "2023-11-11T17:26:48.195001Z",
     "iopub.status.busy": "2023-11-11T17:26:48.194589Z",
     "iopub.status.idle": "2023-11-11T17:26:48.233166Z",
     "shell.execute_reply": "2023-11-11T17:26:48.231669Z"
    },
    "papermill": {
     "duration": 0.050085,
     "end_time": "2023-11-11T17:26:48.235850",
     "exception": false,
     "start_time": "2023-11-11T17:26:48.185765",
     "status": "completed"
    },
    "tags": []
   },
   "outputs": [
    {
     "name": "stdout",
     "output_type": "stream",
     "text": [
      "['PICARD', 'DATA', 'TROI', 'WORF', 'Q', 'TASHA', \"O'BRIEN\", 'RIKER', 'WESLEY', 'CRUSHER', 'LAFORGE', 'COMPUTER', 'SECURITY', 'WOMAN', 'MAN', 'CREWMAN', 'CHIEF', 'MEDIC', 'VOICE', 'LWAXANA', 'CREWWOMAN', 'NURSE', 'GUINAN', 'PULASKI', 'ALL', 'OGAWA', 'KLINGON', 'ROMULAN', 'ALEXANDER', 'KEIKO', 'RO']\n"
     ]
    }
   ],
   "source": [
    "episode_counts = df.groupby('Character')['Episode'].nunique()\n",
    "\n",
    "characters_to_keep = episode_counts[episode_counts > 5].index\n",
    "\n",
    "df = df[df['Character'].isin(characters_to_keep)]\n",
    "unique_characters = df['Character'].unique().tolist()\n",
    "\n",
    "\n",
    "print(unique_characters)"
   ]
  },
  {
   "cell_type": "markdown",
   "id": "6edf9c5f",
   "metadata": {
    "papermill": {
     "duration": 0.007083,
     "end_time": "2023-11-11T17:26:48.250443",
     "exception": false,
     "start_time": "2023-11-11T17:26:48.243360",
     "status": "completed"
    },
    "tags": []
   },
   "source": [
    "This result is a lot better, but there are still some fields in here like \"ALL\" \"BOTH\" or \"GIRL\" that dont correlate to one single character/species - lets check the distribution\n"
   ]
  },
  {
   "cell_type": "code",
   "execution_count": 5,
   "id": "0242ee06",
   "metadata": {
    "execution": {
     "iopub.execute_input": "2023-11-11T17:26:48.267137Z",
     "iopub.status.busy": "2023-11-11T17:26:48.266736Z",
     "iopub.status.idle": "2023-11-11T17:26:48.281079Z",
     "shell.execute_reply": "2023-11-11T17:26:48.279663Z"
    },
    "papermill": {
     "duration": 0.025894,
     "end_time": "2023-11-11T17:26:48.283825",
     "exception": false,
     "start_time": "2023-11-11T17:26:48.257931",
     "status": "completed"
    },
    "tags": []
   },
   "outputs": [
    {
     "name": "stdout",
     "output_type": "stream",
     "text": [
      "Character\n",
      "PICARD       10798\n",
      "RIKER         6454\n",
      "DATA          5699\n",
      "LAFORGE       4111\n",
      "WORF          3185\n",
      "CRUSHER       2944\n",
      "TROI          2856\n",
      "WESLEY        1206\n",
      "Q              535\n",
      "PULASKI        487\n",
      "TASHA          474\n",
      "COMPUTER       471\n",
      "O'BRIEN        440\n",
      "GUINAN         432\n",
      "LWAXANA        404\n",
      "RO             304\n",
      "ALEXANDER      156\n",
      "OGAWA          110\n",
      "KEIKO           78\n",
      "CREWMAN         51\n",
      "WOMAN           46\n",
      "NURSE           30\n",
      "CHIEF           28\n",
      "VOICE           27\n",
      "ROMULAN         25\n",
      "MAN             22\n",
      "CREWWOMAN       17\n",
      "SECURITY        15\n",
      "KLINGON         14\n",
      "ALL             13\n",
      "MEDIC            6\n",
      "Name: count, dtype: int64\n"
     ]
    }
   ],
   "source": [
    "character_counts = df['Character'].value_counts()\n",
    "print(character_counts)"
   ]
  },
  {
   "cell_type": "markdown",
   "id": "f4cae3ae",
   "metadata": {
    "papermill": {
     "duration": 0.007195,
     "end_time": "2023-11-11T17:26:48.298570",
     "exception": false,
     "start_time": "2023-11-11T17:26:48.291375",
     "status": "completed"
    },
    "tags": []
   },
   "source": [
    "As we can see, this is still a pretty uneven data set. I'd like to once again remove the outliers. We will do this by eliminating those characters with less than 1000 lines. "
   ]
  },
  {
   "cell_type": "code",
   "execution_count": 6,
   "id": "3d0aa15c",
   "metadata": {
    "execution": {
     "iopub.execute_input": "2023-11-11T17:26:48.315871Z",
     "iopub.status.busy": "2023-11-11T17:26:48.315389Z",
     "iopub.status.idle": "2023-11-11T17:26:48.335655Z",
     "shell.execute_reply": "2023-11-11T17:26:48.334103Z"
    },
    "papermill": {
     "duration": 0.032816,
     "end_time": "2023-11-11T17:26:48.338919",
     "exception": false,
     "start_time": "2023-11-11T17:26:48.306103",
     "status": "completed"
    },
    "tags": []
   },
   "outputs": [],
   "source": [
    "character_counts = df['Character'].value_counts()\n",
    "\n",
    "\n",
    "characters_to_remove = character_counts[character_counts < 1000].index\n",
    "df = df[~df['Character'].isin(characters_to_remove)]\n"
   ]
  },
  {
   "cell_type": "markdown",
   "id": "06de8751",
   "metadata": {
    "papermill": {
     "duration": 0.007263,
     "end_time": "2023-11-11T17:26:48.353993",
     "exception": false,
     "start_time": "2023-11-11T17:26:48.346730",
     "status": "completed"
    },
    "tags": []
   },
   "source": [
    "let's take a look at our dataframe!  Compared to the original JSON file, this is much cleaner. "
   ]
  },
  {
   "cell_type": "code",
   "execution_count": 7,
   "id": "fca85146",
   "metadata": {
    "execution": {
     "iopub.execute_input": "2023-11-11T17:26:48.371063Z",
     "iopub.status.busy": "2023-11-11T17:26:48.370620Z",
     "iopub.status.idle": "2023-11-11T17:26:48.390398Z",
     "shell.execute_reply": "2023-11-11T17:26:48.388971Z"
    },
    "papermill": {
     "duration": 0.031902,
     "end_time": "2023-11-11T17:26:48.393479",
     "exception": false,
     "start_time": "2023-11-11T17:26:48.361577",
     "status": "completed"
    },
    "tags": []
   },
   "outputs": [
    {
     "data": {
      "text/html": [
       "<div>\n",
       "<style scoped>\n",
       "    .dataframe tbody tr th:only-of-type {\n",
       "        vertical-align: middle;\n",
       "    }\n",
       "\n",
       "    .dataframe tbody tr th {\n",
       "        vertical-align: top;\n",
       "    }\n",
       "\n",
       "    .dataframe thead th {\n",
       "        text-align: right;\n",
       "    }\n",
       "</style>\n",
       "<table border=\"1\" class=\"dataframe\">\n",
       "  <thead>\n",
       "    <tr style=\"text-align: right;\">\n",
       "      <th></th>\n",
       "      <th>Line</th>\n",
       "      <th>Character</th>\n",
       "      <th>Episode</th>\n",
       "    </tr>\n",
       "  </thead>\n",
       "  <tbody>\n",
       "    <tr>\n",
       "      <th>0</th>\n",
       "      <td>You will agree, Data, that Starfleet's\\r order...</td>\n",
       "      <td>PICARD</td>\n",
       "      <td>tng_000</td>\n",
       "    </tr>\n",
       "    <tr>\n",
       "      <th>1</th>\n",
       "      <td>As simple as that.</td>\n",
       "      <td>PICARD</td>\n",
       "      <td>tng_000</td>\n",
       "    </tr>\n",
       "    <tr>\n",
       "      <th>2</th>\n",
       "      <td>It's hardly simple, Data, to negotiate a frien...</td>\n",
       "      <td>PICARD</td>\n",
       "      <td>tng_000</td>\n",
       "    </tr>\n",
       "    <tr>\n",
       "      <th>3</th>\n",
       "      <td>Data, how can you be programmed as a virtual e...</td>\n",
       "      <td>PICARD</td>\n",
       "      <td>tng_000</td>\n",
       "    </tr>\n",
       "    <tr>\n",
       "      <th>4</th>\n",
       "      <td>It means to spy, to sneak.</td>\n",
       "      <td>PICARD</td>\n",
       "      <td>tng_000</td>\n",
       "    </tr>\n",
       "    <tr>\n",
       "      <th>5</th>\n",
       "      <td>Exactly, yes.</td>\n",
       "      <td>PICARD</td>\n",
       "      <td>tng_000</td>\n",
       "    </tr>\n",
       "    <tr>\n",
       "      <th>6</th>\n",
       "      <td>Shut off that damned noise. Go to Yellow Alert.</td>\n",
       "      <td>PICARD</td>\n",
       "      <td>tng_000</td>\n",
       "    </tr>\n",
       "    <tr>\n",
       "      <th>7</th>\n",
       "      <td>Reverse power, full stop.</td>\n",
       "      <td>PICARD</td>\n",
       "      <td>tng_000</td>\n",
       "    </tr>\n",
       "    <tr>\n",
       "      <th>8</th>\n",
       "      <td>That's quite a directive. Would you mind ident...</td>\n",
       "      <td>PICARD</td>\n",
       "      <td>tng_000</td>\n",
       "    </tr>\n",
       "    <tr>\n",
       "      <th>9</th>\n",
       "      <td>Data, call medics.</td>\n",
       "      <td>PICARD</td>\n",
       "      <td>tng_000</td>\n",
       "    </tr>\n",
       "  </tbody>\n",
       "</table>\n",
       "</div>"
      ],
      "text/plain": [
       "                                                Line Character  Episode\n",
       "0  You will agree, Data, that Starfleet's\\r order...    PICARD  tng_000\n",
       "1                                 As simple as that.    PICARD  tng_000\n",
       "2  It's hardly simple, Data, to negotiate a frien...    PICARD  tng_000\n",
       "3  Data, how can you be programmed as a virtual e...    PICARD  tng_000\n",
       "4                         It means to spy, to sneak.    PICARD  tng_000\n",
       "5                                      Exactly, yes.    PICARD  tng_000\n",
       "6    Shut off that damned noise. Go to Yellow Alert.    PICARD  tng_000\n",
       "7                          Reverse power, full stop.    PICARD  tng_000\n",
       "8  That's quite a directive. Would you mind ident...    PICARD  tng_000\n",
       "9                                 Data, call medics.    PICARD  tng_000"
      ]
     },
     "execution_count": 7,
     "metadata": {},
     "output_type": "execute_result"
    }
   ],
   "source": [
    "df.head(10)"
   ]
  },
  {
   "cell_type": "markdown",
   "id": "abafcede",
   "metadata": {
    "papermill": {
     "duration": 0.007673,
     "end_time": "2023-11-11T17:26:48.409259",
     "exception": false,
     "start_time": "2023-11-11T17:26:48.401586",
     "status": "completed"
    },
    "tags": []
   },
   "source": [
    "and lets take a look at our Character distribution now that we have removed the outliers"
   ]
  },
  {
   "cell_type": "code",
   "execution_count": 8,
   "id": "0e63f022",
   "metadata": {
    "execution": {
     "iopub.execute_input": "2023-11-11T17:26:48.427804Z",
     "iopub.status.busy": "2023-11-11T17:26:48.427376Z",
     "iopub.status.idle": "2023-11-11T17:26:50.716801Z",
     "shell.execute_reply": "2023-11-11T17:26:50.715522Z"
    },
    "papermill": {
     "duration": 2.302109,
     "end_time": "2023-11-11T17:26:50.719890",
     "exception": false,
     "start_time": "2023-11-11T17:26:48.417781",
     "status": "completed"
    },
    "tags": []
   },
   "outputs": [
    {
     "data": {
      "image/png": "[encoded data removed]",
      "text/plain": [
       "<Figure size 1000x600 with 1 Axes>"
      ]
     },
     "metadata": {},
     "output_type": "display_data"
    }
   ],
   "source": [
    "import matplotlib.pyplot as plt\n",
    "import seaborn as sns\n",
    "\n",
    "\n",
    "character_counts = df['Character'].value_counts()\n",
    "\n",
    "\n",
    "plt.figure(figsize=(10, 6))\n",
    "sns.barplot(x=character_counts.index, y=character_counts.values, palette=\"viridis\")\n",
    "plt.xlabel('Character')\n",
    "plt.ylabel('Number of Entries')\n",
    "plt.title('Character Distribution in the Dataset')\n",
    "plt.xticks(rotation=45, ha=\"right\")\n",
    "plt.tight_layout()\n",
    "plt.show()"
   ]
  },
  {
   "cell_type": "code",
   "execution_count": 9,
   "id": "6c1e229d",
   "metadata": {
    "execution": {
     "iopub.execute_input": "2023-11-11T17:26:50.740593Z",
     "iopub.status.busy": "2023-11-11T17:26:50.739778Z",
     "iopub.status.idle": "2023-11-11T17:26:50.745668Z",
     "shell.execute_reply": "2023-11-11T17:26:50.744772Z"
    },
    "papermill": {
     "duration": 0.019222,
     "end_time": "2023-11-11T17:26:50.748070",
     "exception": false,
     "start_time": "2023-11-11T17:26:50.728848",
     "status": "completed"
    },
    "tags": []
   },
   "outputs": [
    {
     "name": "stdout",
     "output_type": "stream",
     "text": [
      "Character\n",
      "PICARD     10798\n",
      "RIKER       6454\n",
      "DATA        5699\n",
      "LAFORGE     4111\n",
      "WORF        3185\n",
      "CRUSHER     2944\n",
      "TROI        2856\n",
      "WESLEY      1206\n",
      "Name: count, dtype: int64\n"
     ]
    }
   ],
   "source": [
    "print(character_counts)"
   ]
  },
  {
   "cell_type": "markdown",
   "id": "6d77aff8",
   "metadata": {
    "papermill": {
     "duration": 0.008439,
     "end_time": "2023-11-11T17:26:50.765555",
     "exception": false,
     "start_time": "2023-11-11T17:26:50.757116",
     "status": "completed"
    },
    "tags": []
   },
   "source": [
    "The dataset is still unbalanced, but at least the outliers are gone and we are only left with the top 8 main characters of the show.  \n",
    "\n",
    "Now lets check the average line length"
   ]
  },
  {
   "cell_type": "code",
   "execution_count": 10,
   "id": "3d44379f",
   "metadata": {
    "execution": {
     "iopub.execute_input": "2023-11-11T17:26:50.785317Z",
     "iopub.status.busy": "2023-11-11T17:26:50.784688Z",
     "iopub.status.idle": "2023-11-11T17:26:51.588407Z",
     "shell.execute_reply": "2023-11-11T17:26:51.587028Z"
    },
    "papermill": {
     "duration": 0.816807,
     "end_time": "2023-11-11T17:26:51.591246",
     "exception": false,
     "start_time": "2023-11-11T17:26:50.774439",
     "status": "completed"
    },
    "tags": []
   },
   "outputs": [
    {
     "data": {
      "image/png": "[encoded data removed]",
      "text/plain": [
       "<Figure size 1000x600 with 1 Axes>"
      ]
     },
     "metadata": {},
     "output_type": "display_data"
    },
    {
     "name": "stdout",
     "output_type": "stream",
     "text": [
      "Average Line Length: 71.16 characters\n"
     ]
    }
   ],
   "source": [
    "\n",
    "df['Line_Length'] = df['Line'].apply(len)\n",
    "\n",
    "\n",
    "average_line_length = df['Line_Length'].mean()\n",
    "\n",
    "\n",
    "plt.figure(figsize=(10, 6))\n",
    "sns.histplot(df['Line_Length'], bins=50, kde=True, color='skyblue')\n",
    "plt.axvline(average_line_length, color='red', linestyle='dashed', linewidth=2, label=f'Average Length: {average_line_length:.2f}')\n",
    "plt.xlabel('Line Length')\n",
    "plt.ylabel('Frequency')\n",
    "plt.title('Distribution of Line Lengths in the Dataset')\n",
    "plt.legend()\n",
    "plt.show()\n",
    "\n",
    "\n",
    "print(f'Average Line Length: {average_line_length:.2f} characters')\n"
   ]
  },
  {
   "cell_type": "code",
   "execution_count": 11,
   "id": "236ce864",
   "metadata": {
    "execution": {
     "iopub.execute_input": "2023-11-11T17:26:51.613956Z",
     "iopub.status.busy": "2023-11-11T17:26:51.613501Z",
     "iopub.status.idle": "2023-11-11T17:26:51.646985Z",
     "shell.execute_reply": "2023-11-11T17:26:51.645460Z"
    },
    "papermill": {
     "duration": 0.047624,
     "end_time": "2023-11-11T17:26:51.649465",
     "exception": false,
     "start_time": "2023-11-11T17:26:51.601841",
     "status": "completed"
    },
    "tags": []
   },
   "outputs": [
    {
     "name": "stdout",
     "output_type": "stream",
     "text": [
      "                                                    Line Character  Episode  \\\n",
      "2086   Oh, they're already underway. I have an announ...    PICARD  tng_005   \n",
      "4452   When you spoke of the prisoners, you used the ...     RIKER  tng_012   \n",
      "12012  You see, he's met two of your three criteria f...    PICARD  tng_033   \n",
      "31553  I am deeply concerned by what is happening her...    PICARD  tng_093   \n",
      "31991  You know, Deanna, the first man I ever loved u...   CRUSHER  tng_095   \n",
      "38853  You even sat in my chair. I was annoyed. Presu...    PICARD  tng_117   \n",
      "55976  I understand your concerns, Lieutenant, and I ...    PICARD  tng_175   \n",
      "\n",
      "       Line_Length  \n",
      "2086           907  \n",
      "4452           821  \n",
      "12012         1097  \n",
      "31553          850  \n",
      "31991         1090  \n",
      "38853          828  \n",
      "55976          878  \n"
     ]
    }
   ],
   "source": [
    "long_lines = df[df['Line'].apply(len) > 800]\n",
    "\n",
    "# Display the lines\n",
    "print(long_lines)\n"
   ]
  },
  {
   "cell_type": "markdown",
   "id": "abecac5f",
   "metadata": {
    "papermill": {
     "duration": 0.009032,
     "end_time": "2023-11-11T17:26:51.668053",
     "exception": false,
     "start_time": "2023-11-11T17:26:51.659021",
     "status": "completed"
    },
    "tags": []
   },
   "source": [
    "Most of the lines are pretty short, but Picard, Ricker, and Crusher seem to give a couple of speeches here and there. "
   ]
  }
 ],
 "metadata": {
  "kernelspec": {
   "display_name": "Python 3",
   "language": "python",
   "name": "python3"
  },
  "language_info": {
   "codemirror_mode": {
    "name": "ipython",
    "version": 3
   },
   "file_extension": ".py",
   "mimetype": "text/x-python",
   "name": "python",
   "nbconvert_exporter": "python",
   "pygments_lexer": "ipython3",
   "version": "3.10.12"
  },
  "papermill": {
   "default_parameters": {},
   "duration": 12.326389,
   "end_time": "2023-11-11T17:26:52.300157",
   "environment_variables": {},
   "exception": null,
   "input_path": "__notebook__.ipynb",
   "output_path": "__notebook__.ipynb",
   "parameters": {},
   "start_time": "2023-11-11T17:26:39.973768",
   "version": "2.4.0"
  }
 },
 "nbformat": 4,
 "nbformat_minor": 5
}
