{
 "cells": [
  {
   "cell_type": "markdown",
   "id": "9c595361",
   "metadata": {
    "papermill": {
     "duration": 0.005189,
     "end_time": "2023-11-11T18:54:10.953557",
     "exception": false,
     "start_time": "2023-11-11T18:54:10.948368",
     "status": "completed"
    },
    "tags": []
   },
   "source": [
    "# Project Part 1\n",
    "\n",
    "[![Kaggle](https://kaggle.com/static/images/open-in-kaggle.svg)](https://kaggle.com/kernels/welcome?src=https://github.com/brearenee/NLP-Project/blob/main/startrek.ipynb)\n",
    "\n",
    "[![Open In Colab](https://colab.research.google.com/assets/colab-badge.svg)](https://colab.research.google.com/github/sgeinitz/https://github.com/brearenee/NLP-Project/blob/main/startrek.ipynb)\n"
   ]
  },
  {
   "cell_type": "markdown",
   "id": "46a68977",
   "metadata": {
    "papermill": {
     "duration": 0.004223,
     "end_time": "2023-11-11T18:54:10.962373",
     "exception": false,
     "start_time": "2023-11-11T18:54:10.958150",
     "status": "completed"
    },
    "tags": []
   },
   "source": [
    "## 1. Introduction/Background\n",
    "In this notebook, I'll be working with a dataset containing dialogue transcripts from various Star Trek series episodes, which I found on [kaggle](http://http://https://www.kaggle.com/datasets/birkoruzicka/startrekdialoguetranscripts/data). This dataset provides a large amount of script lines, each accompanied by information on episode, series, and the character who delivered said line. \n",
    "\n",
    "The objective of this project is to build a model capable of predicting the character(y value) associated with a given line(x value) from the script from the series \"The Next Generation\".  This type of problem is known as Authorship attribution which is a more specific task of the text classification problem since model will need to learn patterns that are indicative of the speaking style of each character. \n",
    "\n",
    "These types of analysis can be difficult, but since the characters on Star Trek have such distinct personalities and speaking styles, I'm curious to see how well it can do. \n",
    "\n",
    "There are multiple different characters in Star Trek TNG, meaning the model's prediction ( y value) is one of many, resulting in a multi-classification type task. To simplify the model, I'll be narrowing the output down to the top 8 characters in the show. \n",
    "\n",
    "\n"
   ]
  },
  {
   "cell_type": "markdown",
   "id": "436dd413",
   "metadata": {
    "papermill": {
     "duration": 0.004311,
     "end_time": "2023-11-11T18:54:10.971198",
     "exception": false,
     "start_time": "2023-11-11T18:54:10.966887",
     "status": "completed"
    },
    "tags": []
   },
   "source": [
    "## 2. Data Preprocessing/ Exploratory Data Analysis\n",
    "\n",
    "This part of the process involves looking at the data, and making adjustments as needed to clean the dataset and ensure its in a suitable format for analysis.  This creates a Exploratory Data Analysis to Data Preprocessing cycle. \n",
    "\n",
    "\n",
    "To start, the datasource I'm working with is initially structured as a highly nested JSON file, and it's original format isn't quite optimal for the model I'm trying to create. \n",
    "You can peek at the original JSON file [here](http://https://raw.githubusercontent.com/brearenee/NLP-Project/main/dataset/StarTrekDialogue_v2.json) (it's too large to load in this notebook)\n",
    "\n",
    "It also includes a lot of data I don't necessarily need. Becase of this, I'll need to parse through the file and transform it's structure to allow for a more useful dataframe. As I'm only trying to predict lines from \"The Next Generation\", I'll also be removing the other series from my dataset. \n",
    "\n"
   ]
  },
  {
   "cell_type": "code",
   "execution_count": 1,
   "id": "399c71a7",
   "metadata": {
    "execution": {
     "iopub.execute_input": "2023-11-11T18:54:10.982191Z",
     "iopub.status.busy": "2023-11-11T18:54:10.981850Z",
     "iopub.status.idle": "2023-11-11T18:54:14.281480Z",
     "shell.execute_reply": "2023-11-11T18:54:14.280162Z"
    },
    "papermill": {
     "duration": 3.307988,
     "end_time": "2023-11-11T18:54:14.283800",
     "exception": false,
     "start_time": "2023-11-11T18:54:10.975812",
     "status": "completed"
    },
    "tags": []
   },
   "outputs": [],
   "source": [
    "import pandas as pd\n",
    "import json\n",
    "import requests\n",
    "import nltk\n",
    "import matplotlib.pyplot as plt\n",
    "import seaborn as sns\n",
    "from nltk.corpus import stopwords\n",
    "from nltk.tokenize import word_tokenize\n",
    "from sklearn.feature_extraction.text import CountVectorizer"
   ]
  },
  {
   "cell_type": "code",
   "execution_count": 2,
   "id": "096b345e",
   "metadata": {
    "execution": {
     "iopub.execute_input": "2023-11-11T18:54:14.295450Z",
     "iopub.status.busy": "2023-11-11T18:54:14.294339Z",
     "iopub.status.idle": "2023-11-11T18:54:16.535686Z",
     "shell.execute_reply": "2023-11-11T18:54:16.533786Z"
    },
    "papermill": {
     "duration": 2.249673,
     "end_time": "2023-11-11T18:54:16.538288",
     "exception": false,
     "start_time": "2023-11-11T18:54:14.288615",
     "status": "completed"
    },
    "tags": []
   },
   "outputs": [],
   "source": [
    "url = 'https://raw.githubusercontent.com/brearenee/NLP-Project/main/dataset/StarTrekDialogue_v2.json'\n",
    "response = requests.get(url)\n",
    "\n",
    "##This CodeBlock is thanks to ChatGPT :-) \n",
    "if response.status_code == 200:\n",
    "    json_data = json.loads(response.text)\n",
    "    lines = []\n",
    "    characters = []\n",
    "    episodes = []\n",
    "  \n",
    "    # extract the information from the JSON file for the \"TNG\" series\n",
    "    for series_name, series_data in json_data.items():\n",
    "        if series_name == \"TNG\": \n",
    "            for episode_name, episode_data in series_data.items():\n",
    "                for character_name, character_lines in episode_data.items():\n",
    "                    for line_text in character_lines:\n",
    "                        lines.append(line_text)\n",
    "                        characters.append(character_name)\n",
    "                        episodes.append(episode_name)\n",
    "                     \n",
    "    # Create a DataFrame from the extracted data\n",
    "    df = pd.DataFrame({\n",
    "        'Line': lines,\n",
    "        'Character': characters,\n",
    "        'Episode': episodes,\n",
    "    })\n",
    "\n",
    "    # Remove duplicate lines, keeping the first occurrence (preserving the original order)\n",
    "    df = df.drop_duplicates(subset='Line', keep='first')\n",
    "\n",
    "    # Reset the index of the DataFrame\n",
    "    df.reset_index(drop=True, inplace=True)\n",
    "\n",
    "else:\n",
    "    print(f\"Failed to retrieve data. Status code: {response.status_code}\")\n"
   ]
  },
  {
   "cell_type": "markdown",
   "id": "6f5aec80",
   "metadata": {
    "papermill": {
     "duration": 0.004684,
     "end_time": "2023-11-11T18:54:16.548109",
     "exception": false,
     "start_time": "2023-11-11T18:54:16.543425",
     "status": "completed"
    },
    "tags": []
   },
   "source": [
    "Now that our JSON file is parsed, lets take a look at our dataframe. "
   ]
  },
  {
   "cell_type": "code",
   "execution_count": 3,
   "id": "0ffee8cd",
   "metadata": {
    "execution": {
     "iopub.execute_input": "2023-11-11T18:54:16.558732Z",
     "iopub.status.busy": "2023-11-11T18:54:16.558372Z",
     "iopub.status.idle": "2023-11-11T18:54:16.577734Z",
     "shell.execute_reply": "2023-11-11T18:54:16.576745Z"
    },
    "papermill": {
     "duration": 0.027187,
     "end_time": "2023-11-11T18:54:16.579812",
     "exception": false,
     "start_time": "2023-11-11T18:54:16.552625",
     "status": "completed"
    },
    "tags": []
   },
   "outputs": [
    {
     "data": {
      "text/html": [
       "<div>\n",
       "<style scoped>\n",
       "    .dataframe tbody tr th:only-of-type {\n",
       "        vertical-align: middle;\n",
       "    }\n",
       "\n",
       "    .dataframe tbody tr th {\n",
       "        vertical-align: top;\n",
       "    }\n",
       "\n",
       "    .dataframe thead th {\n",
       "        text-align: right;\n",
       "    }\n",
       "</style>\n",
       "<table border=\"1\" class=\"dataframe\">\n",
       "  <thead>\n",
       "    <tr style=\"text-align: right;\">\n",
       "      <th></th>\n",
       "      <th>Line</th>\n",
       "      <th>Character</th>\n",
       "      <th>Episode</th>\n",
       "    </tr>\n",
       "  </thead>\n",
       "  <tbody>\n",
       "    <tr>\n",
       "      <th>0</th>\n",
       "      <td>You will agree, Data, that Starfleet's\\r order...</td>\n",
       "      <td>PICARD</td>\n",
       "      <td>tng_000</td>\n",
       "    </tr>\n",
       "    <tr>\n",
       "      <th>1</th>\n",
       "      <td>As simple as that.</td>\n",
       "      <td>PICARD</td>\n",
       "      <td>tng_000</td>\n",
       "    </tr>\n",
       "    <tr>\n",
       "      <th>2</th>\n",
       "      <td>It's hardly simple, Data, to negotiate a frien...</td>\n",
       "      <td>PICARD</td>\n",
       "      <td>tng_000</td>\n",
       "    </tr>\n",
       "    <tr>\n",
       "      <th>3</th>\n",
       "      <td>Data, how can you be programmed as a virtual e...</td>\n",
       "      <td>PICARD</td>\n",
       "      <td>tng_000</td>\n",
       "    </tr>\n",
       "    <tr>\n",
       "      <th>4</th>\n",
       "      <td>It means to spy, to sneak.</td>\n",
       "      <td>PICARD</td>\n",
       "      <td>tng_000</td>\n",
       "    </tr>\n",
       "    <tr>\n",
       "      <th>...</th>\n",
       "      <td>...</td>\n",
       "      <td>...</td>\n",
       "      <td>...</td>\n",
       "    </tr>\n",
       "    <tr>\n",
       "      <th>95</th>\n",
       "      <td>My crew and I need a bit more information\\r be...</td>\n",
       "      <td>PICARD</td>\n",
       "      <td>tng_000</td>\n",
       "    </tr>\n",
       "    <tr>\n",
       "      <th>96</th>\n",
       "      <td>Good, since we admire what we've seen of your ...</td>\n",
       "      <td>PICARD</td>\n",
       "      <td>tng_000</td>\n",
       "    </tr>\n",
       "    <tr>\n",
       "      <th>97</th>\n",
       "      <td>Counsellor? What is it?</td>\n",
       "      <td>PICARD</td>\n",
       "      <td>tng_000</td>\n",
       "    </tr>\n",
       "    <tr>\n",
       "      <th>98</th>\n",
       "      <td>Yes. No secrets here if we're to be all to be ...</td>\n",
       "      <td>PICARD</td>\n",
       "      <td>tng_000</td>\n",
       "    </tr>\n",
       "    <tr>\n",
       "      <th>99</th>\n",
       "      <td>The source of this, Groppler. Do you have any ...</td>\n",
       "      <td>PICARD</td>\n",
       "      <td>tng_000</td>\n",
       "    </tr>\n",
       "  </tbody>\n",
       "</table>\n",
       "<p>100 rows × 3 columns</p>\n",
       "</div>"
      ],
      "text/plain": [
       "                                                 Line Character  Episode\n",
       "0   You will agree, Data, that Starfleet's\\r order...    PICARD  tng_000\n",
       "1                                  As simple as that.    PICARD  tng_000\n",
       "2   It's hardly simple, Data, to negotiate a frien...    PICARD  tng_000\n",
       "3   Data, how can you be programmed as a virtual e...    PICARD  tng_000\n",
       "4                          It means to spy, to sneak.    PICARD  tng_000\n",
       "..                                                ...       ...      ...\n",
       "95  My crew and I need a bit more information\\r be...    PICARD  tng_000\n",
       "96  Good, since we admire what we've seen of your ...    PICARD  tng_000\n",
       "97                            Counsellor? What is it?    PICARD  tng_000\n",
       "98  Yes. No secrets here if we're to be all to be ...    PICARD  tng_000\n",
       "99  The source of this, Groppler. Do you have any ...    PICARD  tng_000\n",
       "\n",
       "[100 rows x 3 columns]"
      ]
     },
     "execution_count": 3,
     "metadata": {},
     "output_type": "execute_result"
    }
   ],
   "source": [
    "df.head(100)"
   ]
  },
  {
   "cell_type": "markdown",
   "id": "2818ea59",
   "metadata": {
    "papermill": {
     "duration": 0.004797,
     "end_time": "2023-11-11T18:54:16.589731",
     "exception": false,
     "start_time": "2023-11-11T18:54:16.584934",
     "status": "completed"
    },
    "tags": []
   },
   "source": [
    "lets explore the Characters field to see what Characters exist in our dataframe. "
   ]
  },
  {
   "cell_type": "code",
   "execution_count": 4,
   "id": "e1b19b9e",
   "metadata": {
    "execution": {
     "iopub.execute_input": "2023-11-11T18:54:16.602495Z",
     "iopub.status.busy": "2023-11-11T18:54:16.601041Z",
     "iopub.status.idle": "2023-11-11T18:54:16.614924Z",
     "shell.execute_reply": "2023-11-11T18:54:16.614043Z"
    },
    "papermill": {
     "duration": 0.022174,
     "end_time": "2023-11-11T18:54:16.616979",
     "exception": false,
     "start_time": "2023-11-11T18:54:16.594805",
     "status": "completed"
    },
    "tags": []
   },
   "outputs": [
    {
     "name": "stdout",
     "output_type": "stream",
     "text": [
      "['PICARD', 'DATA', 'TROI', 'TORRES', 'WORF', 'Q', 'TASHA', \"O'BRIEN\", 'BAILIFF', 'SOLDIER', 'ZORN', 'RIKER', 'WESLEY', 'CRUSHER', 'LAFORGE', 'MCCOY', 'ENSIGN', 'COMPUTER', 'SECURITY', 'CREW', 'WOMAN', 'MAN', 'SHIMODA', 'MACDOUGAL', 'CREWMAN', 'LUTAN', 'HAGON', 'YAREENA', 'CHIEF', 'TARR', 'LETEK', 'MORDOC', 'KAYRON', 'PORTAL', 'KOSINSKI', 'ARGYLE', 'TRAVELLER', 'MAMAN', 'SELAY', 'GEORDI', 'ANTICAN', 'SINGH', 'RIVAN', 'LIATOR', 'EDO', 'BOY', 'GIRL', 'OFFICER', 'MEDIATOR 2', 'MEDIATOR', 'BEVERLY', 'MEDIC', 'BOK', 'KAZAGO', 'RATA', 'VOICES', 'VOICE', 'FACE', 'STEVEN', 'VICTORIA', 'WYATT', 'LWAXANA', 'VALEDA', 'WRENN', 'ARIANA', 'HOMN', 'SECRETARY', 'JESSICA', 'LEECH', 'WHALEN', 'VENDOR', 'BELL', 'MCNARY', 'JARADAN', 'POLICEMAN', 'SERGEANT', 'REDBLOCK', 'THUG', 'LORE', 'BEATA', 'ARIEL', 'TRENT', 'RAMSEY', 'QUINTEROS', 'ONE ZERO', 'ZERO ONE', 'ZERO ZERO', 'ONE ONE', 'MINUET', 'BASS', 'PIANO', 'STARBASE', 'JAMESON', 'KARNAS', 'ANNE', 'BERNARD', 'HARRY', 'RASHELLA', 'RADUE', 'KATIE', 'TOYA', 'LEDA', 'ACCOLAN', 'MELIAN', 'DUANA', 'CUSTODIAN', 'ALEXANDRA', 'MANDL', 'LUISA', 'BENSON', 'BENSEN', 'MALENCON', 'CREWWOMAN', 'JAKE', 'QUINN', 'REMMICK', 'OLIANA', \"T'SHANIK\", 'MORDOCK', 'CHANG', 'RONDON', 'MAN 2', 'KORRIS', 'KONMEL', 'NURSE', \"K'NERA\", 'GUARD', 'SALESMAN', \"T'SU\", 'RICE', 'LOGAN', 'SOLIS', \"T'JON\", 'ROMAS', 'SOBI', 'LANGOR', 'MARGAN', 'PRIETO', 'LYNCH', 'ARMUS', 'NURSE 2', 'DEAN', 'MANHEIM', 'EDOUARD', 'FRANCINE', 'GABRIELLE', 'JENICE', 'PICARD 2', 'DATA 2', 'DATA 3', 'DATA 1', 'KEEL', 'RIXX', 'TRYLA', 'SAVAR', 'AARON', 'RALPH', 'SONNY', 'CLARE', 'TEBOK', 'THEI', 'REPULSE', 'SICKBAY', 'GUINAN', 'PULASKI', 'DEALT', 'IAN', 'MISS GLADSTONE', 'HASKELL', 'NAGILUM', 'CLANCY', 'LESTRADE', 'PIE MAN', 'WHORE', 'MORIARTY', 'BOTH', 'RUFFIAN', 'OKONA', 'ROBINSON', 'COMIC', 'DEBIN', 'KUSHELL', 'BENZAN', 'YANAR', 'SCHOLAR', 'ADONIS', 'ALIEN 1', 'ALIEN 2', 'ALIEN 3', 'KAREEN', 'GRAVES', 'SELAR', 'TELAKA', 'LANTREE', 'KINGSLEY', 'TAGGERT', 'MENDON', 'KARGAN', 'TACTICS', 'KLAG', 'VEKMA', 'PHILLIPA', 'NAKAMURA', 'MADDOX', 'GIBSON', 'ANYA', 'SALIA', 'VARLEY', 'TARIS', 'DOCTOR', 'WILLIAMS', 'BELLBOY', 'CLERK', 'TEXAS', 'VANESSA', 'MICKEY D', 'CROUPIER', 'P2', 'HERBERT', 'KYLE', 'DAVIES', 'SARJENKA', 'HILDEBRANDT', 'ALANS', 'SONYA', 'BORG', 'GREBNEDLOG', 'REGINOD', 'SURGEON', 'PHYSIOLOGIST', 'DANILO', 'BRENNA', 'GRANGER', 'GRANGER 2', 'PILOT', 'MADELINE', 'SLADE', 'REX', 'ANTEDEANS', 'ANTEDEAN', 'CLANCEY', 'GROMEK', \"K'EHLEYR\", 'TACTICAL', \"K'TEMOC\", 'KOLRAMI', 'BURKE', 'NAGEL', 'BRACTOR', 'TACTICIAN', 'A', 'STUBBS', 'SHELIAK', 'HARITATH', 'KENTOR', 'GOSHEVEN', \"ARD'RIAN\", 'ALL', 'KEVIN', 'RISHON', 'BARRON', 'LIKO', 'OJI', 'OGAWA', 'FENTO', 'NURIA', 'HALI', 'JEREMY', 'DAD', 'MARLA', 'CHRISTY', 'GALEK SAR', 'LEAH', 'PATAHK', 'TOMALAK', 'BOCHRA', 'BHAVANI', 'MENDOZA', 'LEYOR', 'RAL', 'GOSS', 'ARRIDOR', 'MAROUK', 'YUTA', 'BRULL', 'VOLNOTH', 'TEMAREK', 'CHORGAN', 'BATES', 'SETAL', 'HADEN', 'JAROK', 'NAYROK', 'ZAYNAR', 'ROGA', 'WAGNOR', 'KATIK', 'ALEXANA', 'FINN', 'POLICE', 'GARIN', 'SCIENTIST', 'WAITRESS', 'Q2', 'KRAG', 'APGAR', 'MANUA', 'TAYNA', 'GARRETT', 'CASTILLO', 'KLINGON', 'LAL', 'HAFTEL', 'BALLARD', 'KURN', \"K'MPEC\", 'DURAS', 'KAHLEST', 'HARO', 'THOLL', 'ESOQQ', 'ALIEN 4', 'ALIEN 1+4', 'AJUR', 'BORATUS', 'VASH', 'JOVAL', 'SOVAK', 'DESOTO', 'TAM', 'ROMULAN', 'BARCLAY', 'DUFFY', 'HOLO-PICARD', 'HOLO-DATA', 'HOLO-LAFORGE', 'HOLO-RIKER', 'HOLO-TROI', 'VARRIA', 'FAJO', 'TOFF', 'MENDROSSEN', 'SAKKATH', 'SAREK', 'PERRIN', 'NIBOR', 'GRAX', 'FAREK', 'TOG', 'FERENGI', 'CHRISTI', 'TEMPLE', 'JOHN', 'SUNAD', 'HANSON', 'SHELBY', 'GLEASON', 'FEMALE', 'HELENA', 'SERGEY', 'RENE', 'MARIE', 'ROBERT', 'LOUIS', 'JACK', 'KOPF', 'WILLIE', 'SOONG', 'JONO', 'CONNOR', 'MOIRA', 'JEREMIAH', 'ENDAR', 'CONNAUGHT', 'QUAICE', 'TAN TSU', 'PASSER-BY', 'HAYNE', 'ISHARA', 'ALEXANDER', 'GOWRON', 'HUBBLE', 'JEAN-LUC', 'ETHAN', 'SONGI', 'DIRGO', 'ALLENBY', 'BROOKS', 'KEIKO', 'TECHNICIAN', \"T'PEL\", \"V'SAL\", 'MENDAK', 'MACET', 'DARO', 'WAITER', 'TELLE', 'MAXWELL', 'MARLEY', 'CLARK', 'JARED', 'ARDRA', \"FEK'LHR\", 'DEVIL', 'JOHNNY', 'MCKNIGHT', 'ALYSSA', 'TAVA', 'NILREM', 'BEREL', 'MIRASTA', 'DURKEN', 'KROLA', 'MALE', 'LANEL', 'RAGER', 'PAVLIK', 'HAGAN', 'ZAHEVA', 'PEEPLES', 'GILLESPIE', 'LIN', 'BREVELLE', 'SUSANNA', 'HICKMAN', 'GRAHAM', 'HOLO-SUZ', 'HEDRICK', 'ANAYA', 'LARSON', 'EINSTEIN', 'BROWER', 'ALIEN', 'TROI + VASH', 'SIR GUY', 'RABBLE', \"J'DAN\", 'SATIE', 'SABIN', 'TARSES', 'NELLEN', 'TIMICIN', \"B'TARDAT\", 'DARA', 'ODAN', 'LEKA', 'TAGGART', 'KALIN', 'LATHAL', 'KAREEL', 'LAFORGE + COMPUTER', 'KELL', 'TAIBAK', 'VAGH', 'JENNA', 'MILES', \"K'TAL\", 'TORAL', \"B'ETOR\", 'LURSA', 'MOVAR', 'HELMSMAN', 'HELM', 'SHANTHI', 'LARG', 'HOBSON', 'SELA', 'KULGE', 'DATHON', 'TAMARIAN', 'LEFLER', 'MOT', 'KENNELLY', 'RO', 'KEEVE', 'COLLINS', 'ORTA', 'DOLAK', 'CARMEN', 'MARR', 'CAPTAIN', 'PATTERSON', 'JAY GORDON', 'MONROE', 'MANDEL', 'MARISSA', 'ETANA', 'ROBIN', 'BRACKETT', \"B'IJIK\", \"K'VADA\", 'DOKACHIN', 'NERAL', 'PARDEK', 'LADY', 'ROMULAN 1', 'SPOCK', \"D'TAN\", 'AMARIE', 'WOMAN 2', 'OMAG', 'HOLO-SPOCK', 'VARIOUS', 'RASMUSSEN', 'MOSELEY', \"JA'DAR\", 'FELTON', 'TIMOTHY', 'HUTCHINSON', 'TEACHER', 'TARMIN', 'JEV', 'INAD', 'MARTIN', 'DAVIS', 'CONOR', 'HANNAH', 'CONOR + TROI', 'KRISTIN', 'MACDUFF', 'RUSSELL', 'SOREN', 'KRITE', 'NOOR', 'BATESON', 'BRAND', 'LOCARNO', 'BOOTHBY', 'CADET', 'SITO', 'HAJAR', 'SATELK', 'ALBERT', 'JUGGLER', 'YOUNG MAN', 'YOUNG WOMAN', 'POET', 'CAMPIO', 'ERKO', 'BRIAM', 'QOL', 'LENOR', 'KAMALA', 'MINER 1', 'MINER 2', 'MINER 3', 'ALRIK', 'CLARA', 'SUTTER', 'ISABELLA', 'MCDOWELL', 'MIROK', 'VAREL', 'BROSSMER', 'PAREM', 'ELINE', 'BATAI', 'ADMINISTRATOR', 'MERIBOR', 'BATAI JR', 'BEGGAR', 'GAMBLER', 'SEAMAN', 'NATIVE', 'CLEMENS', 'DOORMAN', 'REPORTER', 'CARMICHAEL', 'HAYES', 'TALMADGE', 'ALKAR', 'MAYLOR', 'SIMONS', 'JARTH', 'LIVA', 'JANEWAY', 'SCOTT', 'KANE', 'BARTEL', 'SHIPLEY', 'ENGINEER', 'KAMINER', 'AMANDA', 'LOTE', 'PICARD JR', 'RO JR', 'GUINAN JR', 'KEIKO JR', 'MOLLY', 'BERIK', 'MORTA', 'LURIN', 'CHILD', 'ELI', 'BANDITO', 'ANNIE', 'DATA-FRANK', 'DATA-ELI', 'DATA-MEXICAN', 'DATA-ANNIE', 'FARALLON', 'KELSO', 'PIERSON', 'NECHAYEV', 'JELLICO', 'SOLOK', 'LEMEC', 'MADRED', 'JIL ORRA', 'GENTLEMAN', 'COUNTESS', 'AQUIEL', 'TORAK', 'BARMAN', 'MORAG', \"N'VEK\", 'TORETH', 'DESEVE', 'MAURICE', 'MARTA', 'COREY', 'PENNY', 'NAUSICAAN 1', 'NAUSICAAN', 'BASHIR', 'SHREK', \"BA'EL\", \"L'KOR\", \"GI'RAL\", 'TOQ', 'TOKATH', 'ORTON', 'KELSEY', 'NEIL', 'KIROS', 'DEVOR', 'HUTCH', 'SATLER', 'POMET', 'PICARD + COMPUTER', 'NELLA', 'MARQUEZ', 'GALEN', 'OCETT', \"NU'DAQ\", 'HUMANOID', 'CROWD', 'SYRUS', 'MAVEK', 'JAYA', 'LIEUTENANT', 'SUNA', 'REYGA', \"T'PAN\", 'KURAK', 'CHRISTOPHER', \"JO'BRIL\", 'DIVOK', 'KOROTH', 'KAHLESS', 'TORIN', 'RIKER 2', 'PALMER', 'ROMULAN 2', 'ROMULAN 3', 'HAWKING', 'NEWTON', 'BOSUS', 'TAYAR', 'FRANKLIN', 'CROSIS', 'HUGH', 'TAITT', 'SALAZAR', 'POWELL', 'BARNABY', 'GOVAL', 'LOQUEL', 'BYLETH', 'VOVAL', 'ANNA', 'HOLT', 'SILVA', 'DR LA FORGE', 'BARTENDER', 'YRANAC', 'CHEKOTE', 'GIUSTI', 'BARAN', 'NARIK', 'VEKOR', 'TALLERA', 'SANDERS', 'YRANEC', 'KORAL', 'SATOK', 'WORKMAN', 'TYLER', 'FREUD', 'HEDRIL', 'MAQUES', 'KESTRA', 'KES', 'LORIN', 'MAURIC', 'PRYTT', 'AIDE', 'TROOPER', 'PRAK', 'RABAL', 'SEROVA', 'JULIANA', 'PRAN', 'AUDIENCE', 'NADOR', 'BLACKWELL', 'PRESSMAN', 'SIROL', 'VORIN', 'KATERAS', 'NIKOLAI', 'DOBARA', 'MATURIN', 'QUINT', 'RONIN', 'FELISA', 'LAVELLE', 'TAURIK', 'BEN', 'JORET', 'RAINER', 'GARVIN', 'GIA', 'TALUR', 'SKORAN', 'APPRENTICE', 'ERIC', 'DATA-IHAT', 'DATA-VICTIM', 'DATA-BOY', 'DATA-ELDER', 'DATA-MASAKA', 'NARA', 'KWAN', 'CALLOWAY', 'PIERCE', 'DERN', 'NECHEYEV', 'WAKASA', 'ANTHWARA', 'LAKANTA', 'GUL EVEK', 'INDIAN', 'TELAK', 'SINGER', 'MOLOR', 'ROBBER', \"K'MTAR\", 'QUARK', 'GORTA', 'YOG', 'JASON', 'BIRTA', 'RHODES', 'TOL', 'CONDUCTOR', 'RUSTIC', 'GANGSTER', 'SANTOS', 'MACIAS', 'KALITA', 'JESSEL', 'CHILTON', 'TOMOLAK', 'GAINES']\n"
     ]
    }
   ],
   "source": [
    "unique_characters = df['Character'].unique().tolist()\n",
    "\n",
    "# Display the list of unique characters\n",
    "print(unique_characters)"
   ]
  },
  {
   "cell_type": "markdown",
   "id": "7b559f48",
   "metadata": {
    "papermill": {
     "duration": 0.00494,
     "end_time": "2023-11-11T18:54:16.627257",
     "exception": false,
     "start_time": "2023-11-11T18:54:16.622317",
     "status": "completed"
    },
    "tags": []
   },
   "source": [
    "As you can see, this is pretty messy, as this series has quite a few one-off characters. Let's eliminate all of the outliers by removing characters that don't occur in more than 5 episodes. "
   ]
  },
  {
   "cell_type": "code",
   "execution_count": 5,
   "id": "7b42703f",
   "metadata": {
    "execution": {
     "iopub.execute_input": "2023-11-11T18:54:16.639519Z",
     "iopub.status.busy": "2023-11-11T18:54:16.638610Z",
     "iopub.status.idle": "2023-11-11T18:54:16.666427Z",
     "shell.execute_reply": "2023-11-11T18:54:16.665445Z"
    },
    "papermill": {
     "duration": 0.036164,
     "end_time": "2023-11-11T18:54:16.668434",
     "exception": false,
     "start_time": "2023-11-11T18:54:16.632270",
     "status": "completed"
    },
    "tags": []
   },
   "outputs": [
    {
     "name": "stdout",
     "output_type": "stream",
     "text": [
      "['PICARD', 'DATA', 'TROI', 'WORF', 'Q', 'TASHA', \"O'BRIEN\", 'RIKER', 'WESLEY', 'CRUSHER', 'LAFORGE', 'COMPUTER', 'SECURITY', 'WOMAN', 'MAN', 'CREWMAN', 'CHIEF', 'MEDIC', 'VOICE', 'LWAXANA', 'CREWWOMAN', 'NURSE', 'GUINAN', 'PULASKI', 'ALL', 'OGAWA', 'KLINGON', 'ROMULAN', 'ALEXANDER', 'KEIKO', 'RO']\n"
     ]
    }
   ],
   "source": [
    "episode_counts = df.groupby('Character')['Episode'].nunique()\n",
    "\n",
    "characters_to_keep = episode_counts[episode_counts > 5].index\n",
    "\n",
    "df = df[df['Character'].isin(characters_to_keep)]\n",
    "unique_characters = df['Character'].unique().tolist()\n",
    "\n",
    "\n",
    "print(unique_characters)"
   ]
  },
  {
   "cell_type": "markdown",
   "id": "c2f78265",
   "metadata": {
    "papermill": {
     "duration": 0.004953,
     "end_time": "2023-11-11T18:54:16.678849",
     "exception": false,
     "start_time": "2023-11-11T18:54:16.673896",
     "status": "completed"
    },
    "tags": []
   },
   "source": [
    "This result is a lot better, but there are still some fields in here like \"ALL\" \"BOTH\" or \"GIRL\" that dont correlate to one single character/species \n",
    "\n",
    "lets check the character distribution\n"
   ]
  },
  {
   "cell_type": "code",
   "execution_count": 6,
   "id": "322f5581",
   "metadata": {
    "execution": {
     "iopub.execute_input": "2023-11-11T18:54:16.691509Z",
     "iopub.status.busy": "2023-11-11T18:54:16.691162Z",
     "iopub.status.idle": "2023-11-11T18:54:16.701284Z",
     "shell.execute_reply": "2023-11-11T18:54:16.700374Z"
    },
    "papermill": {
     "duration": 0.018628,
     "end_time": "2023-11-11T18:54:16.703176",
     "exception": false,
     "start_time": "2023-11-11T18:54:16.684548",
     "status": "completed"
    },
    "tags": []
   },
   "outputs": [
    {
     "data": {
      "text/plain": [
       "Character\n",
       "PICARD       10798\n",
       "RIKER         6454\n",
       "DATA          5699\n",
       "LAFORGE       4111\n",
       "WORF          3185\n",
       "CRUSHER       2944\n",
       "TROI          2856\n",
       "WESLEY        1206\n",
       "Q              535\n",
       "PULASKI        487\n",
       "TASHA          474\n",
       "COMPUTER       471\n",
       "O'BRIEN        440\n",
       "GUINAN         432\n",
       "LWAXANA        404\n",
       "RO             304\n",
       "ALEXANDER      156\n",
       "OGAWA          110\n",
       "KEIKO           78\n",
       "CREWMAN         51\n",
       "WOMAN           46\n",
       "NURSE           30\n",
       "CHIEF           28\n",
       "VOICE           27\n",
       "ROMULAN         25\n",
       "MAN             22\n",
       "CREWWOMAN       17\n",
       "SECURITY        15\n",
       "KLINGON         14\n",
       "ALL             13\n",
       "MEDIC            6\n",
       "Name: count, dtype: int64"
      ]
     },
     "execution_count": 6,
     "metadata": {},
     "output_type": "execute_result"
    }
   ],
   "source": [
    "df['Character'].value_counts()\n"
   ]
  },
  {
   "cell_type": "markdown",
   "id": "f59de437",
   "metadata": {
    "papermill": {
     "duration": 0.005003,
     "end_time": "2023-11-11T18:54:16.713760",
     "exception": false,
     "start_time": "2023-11-11T18:54:16.708757",
     "status": "completed"
    },
    "tags": []
   },
   "source": [
    "This shows how many lines each character has in our dataset.  Since this distribution is so uneven, lets once again remove the outliers.  \n",
    "\n",
    "We will do this by eliminating those characters with less than 1000 lines. "
   ]
  },
  {
   "cell_type": "code",
   "execution_count": 7,
   "id": "aabc9e82",
   "metadata": {
    "execution": {
     "iopub.execute_input": "2023-11-11T18:54:16.726748Z",
     "iopub.status.busy": "2023-11-11T18:54:16.725408Z",
     "iopub.status.idle": "2023-11-11T18:54:16.737445Z",
     "shell.execute_reply": "2023-11-11T18:54:16.736719Z"
    },
    "papermill": {
     "duration": 0.020695,
     "end_time": "2023-11-11T18:54:16.739746",
     "exception": false,
     "start_time": "2023-11-11T18:54:16.719051",
     "status": "completed"
    },
    "tags": []
   },
   "outputs": [],
   "source": [
    "character_counts = df['Character'].value_counts()\n",
    "\n",
    "characters_to_remove = character_counts[character_counts < 1000].index\n",
    "df = df[~df['Character'].isin(characters_to_remove)]\n"
   ]
  },
  {
   "cell_type": "markdown",
   "id": "6fc1a6a0",
   "metadata": {
    "papermill": {
     "duration": 0.004781,
     "end_time": "2023-11-11T18:54:16.750148",
     "exception": false,
     "start_time": "2023-11-11T18:54:16.745367",
     "status": "completed"
    },
    "tags": []
   },
   "source": [
    "and lets once again take a look at our Character distribution now that we have removed the outliers"
   ]
  },
  {
   "cell_type": "code",
   "execution_count": 8,
   "id": "ab73ed8b",
   "metadata": {
    "execution": {
     "iopub.execute_input": "2023-11-11T18:54:16.764569Z",
     "iopub.status.busy": "2023-11-11T18:54:16.764184Z",
     "iopub.status.idle": "2023-11-11T18:54:17.158788Z",
     "shell.execute_reply": "2023-11-11T18:54:17.157460Z"
    },
    "papermill": {
     "duration": 0.403902,
     "end_time": "2023-11-11T18:54:17.161026",
     "exception": false,
     "start_time": "2023-11-11T18:54:16.757124",
     "status": "completed"
    },
    "tags": []
   },
   "outputs": [
    {
     "data": {
      "image/png": "[encoded data removed]",
      "text/plain": [
       "<Figure size 1000x600 with 1 Axes>"
      ]
     },
     "metadata": {},
     "output_type": "display_data"
    }
   ],
   "source": [
    "character_counts = df['Character'].value_counts()\n",
    "\n",
    "plt.figure(figsize=(10, 6))\n",
    "sns.barplot(x=character_counts.index, y=character_counts.values, palette=\"viridis\")\n",
    "plt.xlabel('Character')\n",
    "plt.ylabel('Number of Entries')\n",
    "plt.title('Character Distribution in the Dataset')\n",
    "plt.xticks(rotation=45, ha=\"right\")\n",
    "plt.tight_layout()\n",
    "plt.show()"
   ]
  },
  {
   "cell_type": "code",
   "execution_count": 9,
   "id": "10f08bbf",
   "metadata": {
    "execution": {
     "iopub.execute_input": "2023-11-11T18:54:17.174131Z",
     "iopub.status.busy": "2023-11-11T18:54:17.173607Z",
     "iopub.status.idle": "2023-11-11T18:54:17.180275Z",
     "shell.execute_reply": "2023-11-11T18:54:17.178952Z"
    },
    "papermill": {
     "duration": 0.015451,
     "end_time": "2023-11-11T18:54:17.182189",
     "exception": false,
     "start_time": "2023-11-11T18:54:17.166738",
     "status": "completed"
    },
    "tags": []
   },
   "outputs": [
    {
     "name": "stdout",
     "output_type": "stream",
     "text": [
      "Character\n",
      "PICARD     10798\n",
      "RIKER       6454\n",
      "DATA        5699\n",
      "LAFORGE     4111\n",
      "WORF        3185\n",
      "CRUSHER     2944\n",
      "TROI        2856\n",
      "WESLEY      1206\n",
      "Name: count, dtype: int64\n"
     ]
    }
   ],
   "source": [
    "print(character_counts)"
   ]
  },
  {
   "cell_type": "markdown",
   "id": "f8ab3e59",
   "metadata": {
    "papermill": {
     "duration": 0.005429,
     "end_time": "2023-11-11T18:54:17.193626",
     "exception": false,
     "start_time": "2023-11-11T18:54:17.188197",
     "status": "completed"
    },
    "tags": []
   },
   "source": [
    "## Tokenizing \n",
    "Before we explore our Observations/Lines, lets tokenize the \"Lines\" field in our dataframe.  This breaks each sentence down into various tokens so the model can interpret them better. \n",
    "\n",
    "For now I'm going to leave stop words in, because theres a chance they might have some stylistic nuances that help predicit the character. \n",
    "But because this dataset is scraped from the internet, I'm going to lowercase all of the text in the Line field to keep consistencies. "
   ]
  },
  {
   "cell_type": "code",
   "execution_count": 10,
   "id": "36f877b3",
   "metadata": {
    "execution": {
     "iopub.execute_input": "2023-11-11T18:54:17.206559Z",
     "iopub.status.busy": "2023-11-11T18:54:17.206177Z",
     "iopub.status.idle": "2023-11-11T18:54:23.525403Z",
     "shell.execute_reply": "2023-11-11T18:54:23.523998Z"
    },
    "papermill": {
     "duration": 6.328632,
     "end_time": "2023-11-11T18:54:23.528024",
     "exception": false,
     "start_time": "2023-11-11T18:54:17.199392",
     "status": "completed"
    },
    "tags": []
   },
   "outputs": [
    {
     "name": "stdout",
     "output_type": "stream",
     "text": [
      "[nltk_data] Downloading package punkt to /usr/share/nltk_data...\n",
      "[nltk_data]   Package punkt is already up-to-date!\n"
     ]
    }
   ],
   "source": [
    "nltk.download('punkt')\n",
    "df['Line'] = df['Line'].apply(lambda x: word_tokenize(x.lower()))\n"
   ]
  },
  {
   "cell_type": "markdown",
   "id": "9a8d566a",
   "metadata": {
    "papermill": {
     "duration": 0.006544,
     "end_time": "2023-11-11T18:54:23.540811",
     "exception": false,
     "start_time": "2023-11-11T18:54:23.534267",
     "status": "completed"
    },
    "tags": []
   },
   "source": [
    "Lets print out the words/tokens that show up most. "
   ]
  },
  {
   "cell_type": "code",
   "execution_count": 11,
   "id": "ac3bdad3",
   "metadata": {
    "execution": {
     "iopub.execute_input": "2023-11-11T18:54:23.555813Z",
     "iopub.status.busy": "2023-11-11T18:54:23.555356Z",
     "iopub.status.idle": "2023-11-11T18:54:23.679320Z",
     "shell.execute_reply": "2023-11-11T18:54:23.678636Z"
    },
    "papermill": {
     "duration": 0.13441,
     "end_time": "2023-11-11T18:54:23.681400",
     "exception": false,
     "start_time": "2023-11-11T18:54:23.546990",
     "status": "completed"
    },
    "tags": []
   },
   "outputs": [
    {
     "name": "stdout",
     "output_type": "stream",
     "text": [
      "Top 5 words:\n",
      "Word\n",
      ".       52781\n",
      ",       25925\n",
      "the     19638\n",
      "to      15146\n",
      "i       14973\n",
      "you     12713\n",
      "?        9671\n",
      "a        9294\n",
      "it       8228\n",
      "of       7937\n",
      "is       7069\n",
      "that     6707\n",
      "we       6562\n",
      "'s       6159\n",
      "and      5186\n",
      "in       4767\n",
      "have     4663\n",
      "this     3921\n",
      "be       3784\n",
      "do       3759\n",
      "Name: count, dtype: int64\n"
     ]
    }
   ],
   "source": [
    "# Assuming 'df' is your DataFrame with a column 'Tokenized_Lines'\n",
    "# Make sure you have the necessary libraries and data loaded\n",
    "\n",
    "# Flatten the list of lists to a single list of tokens\n",
    "all_tokens = [token for sublist in df['Line'] for token in sublist]\n",
    "\n",
    "# Create a DataFrame with word frequencies\n",
    "word_frequencies = pd.DataFrame({\n",
    "    'Word': all_tokens\n",
    "})\n",
    "\n",
    "# Get the top 5 words\n",
    "top_words = word_frequencies['Word'].value_counts().head(20)\n",
    "\n",
    "# Display the top 5 words\n",
    "print(\"Top 5 words:\")\n",
    "print(top_words)\n"
   ]
  },
  {
   "cell_type": "markdown",
   "id": "c3891b57",
   "metadata": {
    "papermill": {
     "duration": 0.005571,
     "end_time": "2023-11-11T18:54:23.692956",
     "exception": false,
     "start_time": "2023-11-11T18:54:23.687385",
     "status": "completed"
    },
    "tags": []
   },
   "source": [
    "As we can see, there's a lot of punctuation. But there's a chance that commas and question marks might help predict a Character due to style of speaking, so these punctuation styles will stay in for now. "
   ]
  },
  {
   "cell_type": "markdown",
   "id": "cf09186f",
   "metadata": {
    "papermill": {
     "duration": 0.005502,
     "end_time": "2023-11-11T18:54:23.704102",
     "exception": false,
     "start_time": "2023-11-11T18:54:23.698600",
     "status": "completed"
    },
    "tags": []
   },
   "source": [
    "What's the vocabulary size? "
   ]
  },
  {
   "cell_type": "code",
   "execution_count": 12,
   "id": "e5d9f40c",
   "metadata": {
    "execution": {
     "iopub.execute_input": "2023-11-11T18:54:23.719250Z",
     "iopub.status.busy": "2023-11-11T18:54:23.718809Z",
     "iopub.status.idle": "2023-11-11T18:54:23.783063Z",
     "shell.execute_reply": "2023-11-11T18:54:23.780841Z"
    },
    "papermill": {
     "duration": 0.075061,
     "end_time": "2023-11-11T18:54:23.785096",
     "exception": false,
     "start_time": "2023-11-11T18:54:23.710035",
     "status": "completed"
    },
    "tags": []
   },
   "outputs": [
    {
     "name": "stdout",
     "output_type": "stream",
     "text": [
      "Vocabulary Size: 16123\n"
     ]
    }
   ],
   "source": [
    "vocabulary_size = len(set(word for tokens in df['Line'] for word in tokens))\n",
    "\n",
    "print(\"Vocabulary Size:\", vocabulary_size)"
   ]
  }
 ],
 "metadata": {
  "kernelspec": {
   "display_name": "Python 3",
   "language": "python",
   "name": "python3"
  },
  "language_info": {
   "codemirror_mode": {
    "name": "ipython",
    "version": 3
   },
   "file_extension": ".py",
   "mimetype": "text/x-python",
   "name": "python",
   "nbconvert_exporter": "python",
   "pygments_lexer": "ipython3",
   "version": "3.10.12"
  },
  "papermill": {
   "default_parameters": {},
   "duration": 17.102825,
   "end_time": "2023-11-11T18:54:24.512959",
   "environment_variables": {},
   "exception": null,
   "input_path": "__notebook__.ipynb",
   "output_path": "__notebook__.ipynb",
   "parameters": {},
   "start_time": "2023-11-11T18:54:07.410134",
   "version": "2.4.0"
  }
 },
 "nbformat": 4,
 "nbformat_minor": 5
}
