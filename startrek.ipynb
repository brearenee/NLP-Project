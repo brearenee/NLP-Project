{
 "cells": [
  {
   "cell_type": "markdown",
   "id": "ae3fd094",
   "metadata": {
    "papermill": {
     "duration": 0.007352,
     "end_time": "2023-11-11T17:02:25.148544",
     "exception": false,
     "start_time": "2023-11-11T17:02:25.141192",
     "status": "completed"
    },
    "tags": []
   },
   "source": [
    "# Project Part 1\n",
    "\n",
    "[![Kaggle](https://kaggle.com/static/images/open-in-kaggle.svg)](https://kaggle.com/kernels/welcome?src=https://github.com/brearenee/NLP-Project/blob/main/startrek.ipynb)\n",
    "\n",
    "[![Open In Colab](https://colab.research.google.com/assets/colab-badge.svg)](https://colab.research.google.com/github/sgeinitz/https://github.com/brearenee/NLP-Project/blob/main/startrek.ipynb)\n"
   ]
  },
  {
   "cell_type": "markdown",
   "id": "cedd6a6e",
   "metadata": {
    "papermill": {
     "duration": 0.004745,
     "end_time": "2023-11-11T17:02:25.158939",
     "exception": false,
     "start_time": "2023-11-11T17:02:25.154194",
     "status": "completed"
    },
    "tags": []
   },
   "source": [
    "## 1. Introduction/Background\n",
    "In this notebook, I'll be working with a dataset containing dialogue transcripts from various Star Trek series episodes, which I found on [kaggle](http://http://https://www.kaggle.com/datasets/birkoruzicka/startrekdialoguetranscripts/data). This dataset provides a large amount of script lines, each accompanied by information on episode, seriess, and the character who delivered said line. \n",
    "\n",
    "The objective of this project is to build a model capable of predicting the reoccuring character associated with a given line from the script from the series \"The Next Generation\".  This type of problem is known as Speaker Identification and i'll be treating it as a text classification problem since model will need to learn patterns that are indicative of the speaking style of each character. Since there are multiple different characters which occur in this dataset, the end result is a multi-class classification task. \n",
    "\n",
    "\n",
    "\n",
    "\n",
    "\n",
    "\n",
    "\n",
    "\n",
    "\n"
   ]
  },
  {
   "cell_type": "markdown",
   "id": "b289b48f",
   "metadata": {
    "papermill": {
     "duration": 0.00454,
     "end_time": "2023-11-11T17:02:25.168471",
     "exception": false,
     "start_time": "2023-11-11T17:02:25.163931",
     "status": "completed"
    },
    "tags": []
   },
   "source": [
    "## 2. Data Preprocessing\n",
    "\n",
    "The datasource I'm working with is initially structured as a highly nested JSON file, and it's original format isn't quite optimal for the model I'm trying to create.  It also includes a lot of data I don't necessarily need. Becase of this, I'll need to parse through the file and transform it's structure to allow for a more useful dataframe. As I'm only trying to predict lines from \"The Next Generation\", I'll also be removing the other series from my dataset. \n",
    "\n"
   ]
  },
  {
   "cell_type": "code",
   "execution_count": 1,
   "id": "de730fbb",
   "metadata": {
    "execution": {
     "iopub.execute_input": "2023-11-11T17:02:25.180402Z",
     "iopub.status.busy": "2023-11-11T17:02:25.179912Z",
     "iopub.status.idle": "2023-11-11T17:02:26.092458Z",
     "shell.execute_reply": "2023-11-11T17:02:26.090877Z"
    },
    "papermill": {
     "duration": 0.921952,
     "end_time": "2023-11-11T17:02:26.095325",
     "exception": false,
     "start_time": "2023-11-11T17:02:25.173373",
     "status": "completed"
    },
    "tags": []
   },
   "outputs": [],
   "source": [
    "# import all of the python modules/packages you'll need here\n",
    "import pandas as pd\n",
    "import json\n",
    "import requests\n",
    "# ..."
   ]
  },
  {
   "cell_type": "code",
   "execution_count": 2,
   "id": "e6505207",
   "metadata": {
    "execution": {
     "iopub.execute_input": "2023-11-11T17:02:26.107893Z",
     "iopub.status.busy": "2023-11-11T17:02:26.107326Z",
     "iopub.status.idle": "2023-11-11T17:02:26.876024Z",
     "shell.execute_reply": "2023-11-11T17:02:26.875090Z"
    },
    "papermill": {
     "duration": 0.778121,
     "end_time": "2023-11-11T17:02:26.878838",
     "exception": false,
     "start_time": "2023-11-11T17:02:26.100717",
     "status": "completed"
    },
    "tags": []
   },
   "outputs": [],
   "source": [
    "url = 'https://raw.githubusercontent.com/brearenee/NLP-Project/main/dataset/StarTrekDialogue.json'\n",
    "\n",
    "# Make a GET request to the URL\n",
    "response = requests.get(url)\n",
    "\n",
    "# Check if the request was successful (status code 200)\n",
    "if response.status_code == 200:\n",
    "    # Load JSON data from the response\n",
    "    json_data = json.loads(response.text)\n",
    "\n",
    "    # Extract lines, characters, episodes, and series\n",
    "    lines = []\n",
    "    characters = []\n",
    "    episodes = []\n",
    "  \n",
    "\n",
    "    # extract the information from the JSON file for the \"TNG\" series\n",
    "    for series_name, series_data in json_data.items():\n",
    "        if series_name == \"TNG\":  # Only consider data from the \"TNG\" series\n",
    "            for episode_name, episode_data in series_data.items():\n",
    "                for character_name, character_lines in episode_data.items():\n",
    "                    for line_text in character_lines:\n",
    "                        lines.append(line_text)\n",
    "                        characters.append(character_name)\n",
    "                        episodes.append(episode_name)\n",
    "                     \n",
    "\n",
    "    # Create a DataFrame from the extracted data\n",
    "    df = pd.DataFrame({\n",
    "        'Line': lines,\n",
    "        'Character': characters,\n",
    "        'Episode': episodes,\n",
    "    })\n",
    "\n",
    "    # Remove duplicate lines, keeping the first occurrence (preserving the original order)\n",
    "    df = df.drop_duplicates(subset='Line', keep='first')\n",
    "\n",
    "    # Reset the index of the DataFrame\n",
    "    df.reset_index(drop=True, inplace=True)\n",
    "\n",
    "else:\n",
    "    print(f\"Failed to retrieve data. Status code: {response.status_code}\")\n"
   ]
  },
  {
   "cell_type": "markdown",
   "id": "70e17c54",
   "metadata": {
    "papermill": {
     "duration": 0.004751,
     "end_time": "2023-11-11T17:02:26.888831",
     "exception": false,
     "start_time": "2023-11-11T17:02:26.884080",
     "status": "completed"
    },
    "tags": []
   },
   "source": [
    "Lets take a look at all of the characters in this Star Trek series"
   ]
  },
  {
   "cell_type": "code",
   "execution_count": 3,
   "id": "1560f28d",
   "metadata": {
    "execution": {
     "iopub.execute_input": "2023-11-11T17:02:26.900487Z",
     "iopub.status.busy": "2023-11-11T17:02:26.900098Z",
     "iopub.status.idle": "2023-11-11T17:02:26.917334Z",
     "shell.execute_reply": "2023-11-11T17:02:26.915987Z"
    },
    "papermill": {
     "duration": 0.0258,
     "end_time": "2023-11-11T17:02:26.919577",
     "exception": false,
     "start_time": "2023-11-11T17:02:26.893777",
     "status": "completed"
    },
    "tags": []
   },
   "outputs": [
    {
     "name": "stdout",
     "output_type": "stream",
     "text": [
      "['PICARD', 'DATA', 'TROI', 'TORRES', 'WORF', 'Q', 'TASHA', \"O'BRIEN\", 'BAILIFF', 'SOLDIER', 'ZORN', 'RIKER', 'WESLEY', 'CRUSHER', 'LAFORGE', 'MCCOY', 'ENSIGN', 'COMPUTER', 'SECURITY', 'CREW', 'WOMAN', 'MAN', 'CRUSHER:', 'SHIMODA', 'MACDOUGAL', 'CREWMAN', 'TROI: Bill.\\r RIKER', 'LUTAN', 'HAGON', 'PICARD: Absolutely not. This vaccine sample is a gift of life and we\\r are honoured at receiving it. Would you do us the additional honour of\\r now letting us entertain you?\\r LUTAN', 'YAREENA', 'CHIEF', 'TARR', 'LETEK', 'MORDOC', 'KAYRON', 'PORTAL', 'KOSINSKI', 'ARGYLE', 'TRAVELLER', 'MAMAN', 'WESLEY: Parts of him disappeared and then came back. Nobody else was\\r paying attention to him the first time.\\r RIKER', \"WESLEY: No! He's very weak. TRAVELLER\", 'SELAY', 'GEORDI', 'ANTICAN', 'SINGH', 'RIVAN', 'LIATOR', 'EDO', 'BOY', 'GIRL', 'OFFICER', 'MEDIATOR 2', 'MEDIATOR', 'BEVERLY', 'MEDIC', 'BOK', 'KAZAGO', 'RATA', 'VOICES', 'VOICE', 'FACE', 'STEVEN', 'VICTORIA', 'WYATT', 'LWAXANA', 'VALEDA', 'WRENN', 'ARIANA', 'HOMN', 'SECRETARY', 'JESSICA', 'LEECH', 'DATA: Computer', 'WHALEN', 'VENDOR', 'BELL', 'MCNARY', 'JARADAN', 'POLICEMAN', 'SERGEANT', 'REDBLOCK', 'THUG', 'LORE', 'BEATA:', 'BEATA', 'ARIEL', 'TRENT', 'PICARD:', 'RAMSEY', 'LAFORGE:', 'TASHA:', 'DATA:', 'PICARD: Indeed we do. Mister Data, set course for the Neutral Zone.\\r Warp six. DATA', 'QUINTEROS', 'ONE ZERO', 'ZERO ONE', 'ZERO ZERO', 'ONE ONE', 'MINUET', 'BASS', 'PIANO', 'STARBASE', 'JAMESON', 'KARNAS', 'ANNE', 'DATA: I am sorry, sir. That does not correspond with the information in\\r my tricorder, sir.\\r JAMESON', 'BERNARD', 'HARRY', 'RASHELLA', 'RADUE', 'KATIE', 'TOYA', 'LEDA', 'ACCOLAN', 'MELIAN', 'DUANA', 'CUSTODIAN', 'ALEXANDRA', 'MANDL', 'LUISA', 'BENSON', 'BENSEN', 'MALENCON', 'CREWWOMAN', 'JAKE', 'QUINN', 'REMMICK', 'OLIANA', \"T'SHANIK\", 'MORDOCK', 'CHANG', 'PICARD: And when I tell you, pull up hard.\\r JAKE', 'RONDON', 'MAN 2', 'KORRIS', 'KONMEL', 'NURSE', \"K'NERA\", 'GUARD', 'SALESMAN', \"T'SU\", 'RICE', \"PICARD: Ensign T'Su?\\r T'SU\", \"WORF: No use. It's gone again. SOLIS\", 'LOGAN', 'SOLIS', \"T'JON\", 'ROMAS', 'SOBI', 'LANGOR', 'MARGAN', 'PRIETO', 'LYNCH', 'ARMUS', 'NURSE 2', 'DEAN', 'MANHEIM', 'EDOUARD', 'FRANCINE', 'GABRIELLE', 'JENICE', 'PICARD 2', 'DATA 2', 'DATA 3', 'DATA 1', 'KEEL', 'RIXX', 'TRYLA', 'SAVAR', 'AARON', 'RALPH', 'SONNY', 'CLARE', 'TEBOK', 'THEI', 'REPULSE', 'SICKBAY', 'GUINAN', 'PULASKI', 'DEALT', 'IAN', 'MISS GLADSTONE', 'HASKELL', 'NAGILUM', 'CLANCY', 'LESTRADE', 'PULASKI: You see? LAFORGE', 'PIE MAN', 'WHORE', 'MORIARTY', 'BOTH', 'RUFFIAN', 'OKONA', 'ROBINSON', 'COMIC', 'DATA: Nothing makes me laugh. I wish to learn. COMIC', \"COMIC: It's probably best when you do something like this. Need a cigar\\r 'cos it's kind a prop kind of thing and you go like this and DATA\", 'DEBIN', 'KUSHELL', 'BENZAN', \"PICARD: No, they could fire until their lasers ran dry and they\\r wouldn't hurt the Enterprise. My predicament is what to do with you.\\r OKONA\", 'YANAR', 'SCHOLAR', 'ADONIS', 'ALIEN 1', 'ALIEN 2', 'ALIEN 3', 'KAREEN', 'GRAVES', 'SELAR', 'TELAKA', 'LANTREE', 'KINGSLEY', 'TAGGERT', 'MENDON', 'KARGAN', 'TACTICS', 'KLAG', 'VEKMA', 'PHILLIPA', 'NAKAMURA', 'MADDOX', \"PULASKI: I couldn't disagree more. We'll save that argument for another\\r day. DATA\", 'GIBSON', 'ANYA', 'SALIA', 'VARLEY', 'TARIS', \"LAFORGE: Okay. In the event of a breach of seal integrity there's an\\r emergency release system which dumps the antimatter.\\r DATA\", 'DOCTOR', 'WILLIAMS', 'BELLBOY', 'CLERK', 'TEXAS', 'VANESSA', 'MICKEY D', 'CROUPIER', 'P2', 'HERBERT', 'KYLE', 'DAVIES', 'SARJENKA', 'HILDEBRANDT', 'ALANS', 'SONYA', 'BORG', 'GREBNEDLOG', 'REGINOD', 'SURGEON', 'PHYSIOLOGIST', 'DANILO', 'BRENNA', 'GRANGER', 'GRANGER 2', 'PILOT', 'MADELINE', 'SLADE', 'REX', 'ANTEDEANS', 'ANTEDEAN', 'CLANCEY', 'GROMEK', \"K'EHLEYR\", 'TACTICAL', \"K'TEMOC\", 'KOLRAMI', 'BURKE', 'NAGEL', 'BRACTOR', 'TACTICIAN', 'A', 'STUBBS', 'SHELIAK', 'HARITATH', 'KENTOR', 'GOSHEVEN', \"ARD'RIAN\", 'ALL', 'KEVIN', 'RISHON', 'BARRON', 'LIKO', 'OJI', 'OGAWA', 'FENTO', 'NURIA', 'HALI', \"PICARD: Good. That's good. You see, my people once lived in caves. And\\r then we learned to build huts and, in time, to build ships like this\\r one.\\r NURIA\", 'JEREMY', 'DAD', 'MARLA', 'CHRISTY', 'GALEK SAR', 'LEAH', 'PATAHK', 'TOMALAK', 'BOCHRA', 'BHAVANI', 'MENDOZA', 'LEYOR', 'RAL', 'GOSS', 'ARRIDOR', 'MAROUK', 'YUTA', 'BRULL', 'VOLNOTH', 'TEMAREK', 'CHORGAN', 'BATES', 'PICARD;', 'SETAL', 'HADEN', 'JAROK', 'NAYROK', 'ZAYNAR', 'ROGA', 'WAGNOR', 'KATIK', 'ALEXANA', 'FINN', 'POLICE', 'GARIN', 'SCIENTIST', 'LAFORGE + DATA', 'WAITRESS', 'Q2', 'KRAG', 'APGAR', 'MANUA', 'TAYNA', 'GARRETT', 'CASTILLO', 'PICARD: Is there any possibility she could survive?\\r DATA', 'KLINGON', 'LAL', 'HAFTEL', 'BALLARD', 'KURN', \"K'MPEC\", 'DURAS', 'KAHLEST', 'HARO', 'THOLL', 'ESOQQ', 'ALIEN 4', 'ALIEN 1+4', 'AJUR', 'BORATUS', 'PIKER', 'PICARD + RIKER', 'VASH', 'JOVAL', 'SOVAK', 'DESOTO', 'TAM', 'TAM + TROI', 'ROMULAN', 'BARCLAY', 'DUFFY', 'HOLO-PICARD', 'HOLO-DATA', 'HOLO-LAFORGE', 'HOLO-RIKER', 'HOLO-TROI', 'VARRIA', 'FAJO', 'TOFF', 'MENDROSSEN', 'SAKKATH', 'SAREK', 'PERRIN', 'NIBOR', 'GRAX', 'FAREK', 'TOG', 'FERENGI', ')', 'CHRISTI', 'TEMPLE', 'JOHN', 'JOHN: Unfortunately, Captain, my memories begin the moment I woke up in\\r Sickbay. Doctor Crusher told me you think I was in some kind of battle.\\r PICARD', 'SUNAD', 'HANSON', 'SHELBY', 'GLEASON', 'FEMALE', 'HELENA', 'SERGEY', 'RENE', 'MARIE', 'ROBERT', 'LOUIS', 'JACK', 'KOPF', 'WILLIE', 'SOONG', 'JONO', 'CONNOR', 'MOIRA', 'JEREMIAH', 'ENDAR', 'CONNAUGHT', 'QUAICE', 'TAN TSU', 'PASSER-BY', 'HAYNE', 'ISHARA', 'ALEXANDER', 'GOWRON', 'HUBBLE', 'JEAN-LUC', 'RIKER: Well, if she was married to me, she had to be patient.\\r TROI', 'JEAN LUC', 'ETHAN', 'SONGI', 'DIRGO', 'ALLENBY', 'BROOKS', 'KEIKO', 'TECHNICIAN', \"T'PEL\", \"V'SAL\", 'MENDAK', 'MACET', 'DARO', 'WAITER', 'TELLE', 'MAXWELL', 'MARLEY', 'CLARK', 'JARED', 'DATA: She is a cornerstone of Ventaxian theology. It seems that Ardra\\r came to Ventax Two and promised one thousand years of peace and\\r prosperity, for a price. Upon her return, she would enslave the entire\\r population. In Ventaxian culture, it is considered bad luck to speak\\r her name out loud. CLARK', 'ARDRA', \"FEK'LHR\", 'DEVIL', 'JOHNNY', 'MCKNIGHT', 'ALYSSA', 'TAVA', 'NILREM', 'BEREL', 'MIRASTA', 'DURKEN', 'KROLA', 'MALE', 'LANEL', 'RAGER', 'DATA: Aye, sir. PICARD', 'PAVLIK', 'HAGAN', 'ZAHEVA', 'PEEPLES', 'GILLESPIE', 'LIN', 'BREVELLE', 'SUSANNA', 'HICKMAN', 'GRAHAM', 'HOLO-SUZ', 'HEDRICK', 'ANAYA', 'LARSON', 'EINSTEIN', 'BROWER', 'ALIEN', 'TROI + VASH', 'SIR GUY', 'RABBLE', \"J'DAN\", 'SATIE', 'SABIN', 'TARSES', 'NELLEN', 'TIMICIN', \"B'TARDAT\", 'DARA', 'ODAN', 'LEKA', 'TAGGART', 'KALIN', 'LATHAL', 'KAREEL', 'LAFORGE + COMPUTER', 'KELL', 'TAIBAK', 'VAGH', 'JENNA', 'MILES', 'JENNA: The Book of Love, chapter four, paragraph seventeen', \"K'TAL\", 'TORAL', \"B'ETOR\", 'LURSA', 'MOVAR', 'HELMSMAN', 'HELM', 'SHANTHI', 'LARG', 'HOBSON', 'SELA', 'KULGE', 'DATHON', 'TAMARIAN', 'WORF: Starboard thrusters destroyed. I may be able to land but I will\\r not be able to take off.\\r RIKER', 'LEFLER', 'MOT', 'KENNELLY', 'RO', 'KEEVE', 'COLLINS', 'ORTA', 'DOLAK', 'CARMEN', 'MARR', 'CAPTAIN', 'PATTERSON', 'JAY GORDON', 'MONROE', 'MANDEL', 'MARISSA', 'ETANA', 'ROBIN', 'BRACKETT', \"B'IJIK\", \"K'VADA\", 'DOKACHIN', 'NERAL', 'PARDEK', 'LADY', 'ROMULAN 1', 'SPOCK', \"D'TAN\", 'AMARIE', 'WOMAN 2', 'OMAG', 'HOLO-SPOCK', 'VARIOUS', 'RASMUSSEN', 'MOSELEY', \"JA'DAR\", 'FELTON', 'TIMOTHY', 'HUTCHINSON', 'TEACHER', 'TARMIN', 'JEV', 'INAD', 'MARTIN', 'DAVIS', 'CONOR', 'HANNAH', 'CONOR + TROI', 'KRISTIN', 'MACDUFF', 'RUSSELL', 'SOREN', 'KRITE', 'NOOR', 'BATESON', 'BRAND', 'LOCARNO', 'BOOTHBY', 'CADET', 'SITO', 'HAJAR', 'SATELK', 'ALBERT', 'JUGGLER', 'YOUNG MAN', 'YOUNG WOMAN', 'POET', 'CAMPIO', 'CAMPIO: And my escort, who need not be addressed in this company', 'ERKO', 'BRIAM', 'QOL', 'LENOR', 'KAMALA', 'MINER 1', 'MINER 2', 'MINER 3', 'ALRIK', 'CLARA', 'SUTTER', 'ISABELLA', 'MCDOWELL', 'MIROK', 'VAREL', 'BROSSMER', 'PAREM', 'PICARD: Situations like these are never easy, Number One. RO', 'ELINE', 'BATAI', 'ADMINISTRATOR', 'MERIBOR', 'BATAI JR', 'BEGGAR', 'GAMBLER', 'SEAMAN', 'NATIVE', 'CLEMENS', 'DOORMAN', 'REPORTER', 'CARMICHAEL', 'HAYES', 'TALMADGE', 'ALKAR', 'MAYLOR', 'SIMONS', 'JARTH', 'LIVA', 'JANEWAY', 'SCOTT', 'KANE', 'BARTEL', 'SHIPLEY', 'ENGINEER', 'KAMINER', 'AMANDA', 'LOTE', 'PICARD JR', 'RO JR', 'GUINAN JR', 'KEIKO JR', 'MOLLY', 'BERIK', 'MORTA', 'LURIN', 'CHILD', 'ELI', 'BANDITO', 'ANNIE', 'DATA-FRANK', 'DATA-ELI', 'DATA-MEXICAN', 'DATA-ANNIE', 'FARALLON', 'KELSO', 'PIERSON', 'NECHAYEV', 'JELLICO', 'SOLOK', 'LEMEC', 'MADRED', 'JIL ORRA', 'GENTLEMAN', 'COUNTESS', 'AQUIEL', 'TORAK', 'BARMAN', 'MORAG', \"N'VEK\", 'TORETH', 'DESEVE', 'MAURICE', 'MARTA', 'COREY', 'PENNY', 'NAUSICAAN 1', 'NAUSICAAN', 'BASHIR', 'SHREK', \"BA'EL\", \"L'KOR\", \"GI'RAL\", 'TOQ', 'TOKATH', 'ORTON', 'KELSEY', 'NEIL', 'KIROS', 'DEVOR', 'HUTCH', 'SATLER', 'POMET', 'PICARD + COMPUTER', 'NELLA', 'MARQUEZ', 'GALEN', 'OCETT', \"NU'DAQ\", 'HUMANOID', 'CROWD', 'SYRUS', 'MAVEK', 'JAYA', 'LIEUTENANT', 'SUNA', 'REYGA', \"T'PAN\", 'KURAK', 'CHRISTOPHER', \"JO'BRIL\", 'DIVOK', 'KOROTH', 'KAHLESS', 'TORIN', 'RIKER 2', 'PALMER', 'ROMULAN 2', 'ROMULAN 3', 'HAWKING', 'NEWTON', 'BOSUS', 'TAYAR', 'FRANKLIN', 'CROSIS', \"LAFORGE: We could, but there could be fifty Borg down there waiting for\\r us and we'd never even know it.\\r RIKER\", 'HUGH', 'TAITT', 'SALAZAR', 'POWELL', 'BARNABY', 'GOVAL', 'LOQUEL', 'BYLETH', 'VOVAL', 'ANNA', 'HOLT', 'SILVA', 'DR LA FORGE', 'BARTENDER', 'YRANAC', 'CHEKOTE', 'GIUSTI', 'BARAN', 'NARIK', 'VEKOR', 'TALLERA', 'SANDERS', 'YRANEC', 'KORAL', 'SATOK', 'WORKMAN', 'TYLER', 'FREUD', 'HEDRIL', 'MAQUES', 'KESTRA', 'KES', 'LORIN', 'MAURIC', 'PRYTT', 'AIDE', 'TROOPER', 'PRAK', 'RABAL', 'SEROVA', 'JULIANA', 'PRAN', 'AUDIENCE', 'NADOR', 'BLACKWELL', 'PRESSMAN', 'SIROL', 'VORIN', 'KATERAS', 'NIKOLAI', 'DOBARA', 'MATURIN', 'QUINT', 'RONIN', 'FELISA', 'LAVELLE', 'TAURIK', 'BEN', 'JORET', 'RAINER', 'GARVIN', 'GIA', 'TALUR', 'SKORAN', 'APPRENTICE', 'ERIC', 'DATA-IHAT', 'DATA-VICTIM', 'DATA-BOY', 'DATA-ELDER', 'DATA-MASAKA', 'NARA', 'KWAN', 'CALLOWAY', 'PIERCE', 'DERN', 'NECHEYEV', 'WAKASA', 'ANTHWARA', 'LAKANTA', 'GUL EVEK', 'INDIAN', 'TELAK', 'SINGER', 'MOLOR', 'ROBBER', \"K'MTAR\", 'QUARK', 'GORTA', 'YOG', 'JASON', 'BIRTA', 'RHODES', 'TOL', 'CONDUCTOR', 'RUSTIC', 'GANGSTER', 'SANTOS', 'MACIAS', 'KALITA', 'JESSEL', 'CHILTON', 'TOMOLAK', 'GAINES']\n"
     ]
    }
   ],
   "source": [
    "unique_characters = df['Character'].unique().tolist()\n",
    "\n",
    "# Display the list of unique characters\n",
    "print(unique_characters)"
   ]
  },
  {
   "cell_type": "markdown",
   "id": "8fd45a2e",
   "metadata": {
    "papermill": {
     "duration": 0.004977,
     "end_time": "2023-11-11T17:02:26.930038",
     "exception": false,
     "start_time": "2023-11-11T17:02:26.925061",
     "status": "completed"
    },
    "tags": []
   },
   "source": [
    "As you can see, this is pretty messy.  Not only does this series have a lot of one-episode characters, but there is quite a bit of mislabeled data.  Let's eliminate all of the outliers by removing characters that don't occur in more than 5 episodes. "
   ]
  },
  {
   "cell_type": "code",
   "execution_count": 4,
   "id": "7bda043a",
   "metadata": {
    "execution": {
     "iopub.execute_input": "2023-11-11T17:02:26.942637Z",
     "iopub.status.busy": "2023-11-11T17:02:26.942211Z",
     "iopub.status.idle": "2023-11-11T17:02:26.976565Z",
     "shell.execute_reply": "2023-11-11T17:02:26.974833Z"
    },
    "papermill": {
     "duration": 0.044387,
     "end_time": "2023-11-11T17:02:26.979658",
     "exception": false,
     "start_time": "2023-11-11T17:02:26.935271",
     "status": "completed"
    },
    "tags": []
   },
   "outputs": [
    {
     "name": "stdout",
     "output_type": "stream",
     "text": [
      "['PICARD', 'DATA', 'TROI', 'WORF', 'Q', 'TASHA', \"O'BRIEN\", 'RIKER', 'WESLEY', 'CRUSHER', 'LAFORGE', 'COMPUTER', 'SECURITY', 'WOMAN', 'MAN', 'CREWMAN', 'CHIEF', 'MEDIC', 'VOICE', 'LWAXANA', 'CREWWOMAN', 'NURSE', 'GUINAN', 'PULASKI', 'ALL', 'OGAWA', 'KLINGON', 'ROMULAN', 'ALEXANDER', 'KEIKO', 'RO']\n"
     ]
    }
   ],
   "source": [
    "episode_counts = df.groupby('Character')['Episode'].nunique()\n",
    "\n",
    "characters_to_keep = episode_counts[episode_counts > 5].index\n",
    "\n",
    "df = df[df['Character'].isin(characters_to_keep)]\n",
    "unique_characters = df['Character'].unique().tolist()\n",
    "\n",
    "\n",
    "print(unique_characters)"
   ]
  },
  {
   "cell_type": "markdown",
   "id": "2b9d9bca",
   "metadata": {
    "papermill": {
     "duration": 0.005182,
     "end_time": "2023-11-11T17:02:26.990251",
     "exception": false,
     "start_time": "2023-11-11T17:02:26.985069",
     "status": "completed"
    },
    "tags": []
   },
   "source": [
    "This result is a lot better, but there are still some fields in here like \"ALL\" \"BOTH\" or \"GIRL\" that dont correlate to one single character/species - lets check the distribution\n"
   ]
  },
  {
   "cell_type": "code",
   "execution_count": 5,
   "id": "b9ac44b3",
   "metadata": {
    "execution": {
     "iopub.execute_input": "2023-11-11T17:02:27.002973Z",
     "iopub.status.busy": "2023-11-11T17:02:27.002542Z",
     "iopub.status.idle": "2023-11-11T17:02:27.012989Z",
     "shell.execute_reply": "2023-11-11T17:02:27.011732Z"
    },
    "papermill": {
     "duration": 0.019711,
     "end_time": "2023-11-11T17:02:27.015354",
     "exception": false,
     "start_time": "2023-11-11T17:02:26.995643",
     "status": "completed"
    },
    "tags": []
   },
   "outputs": [
    {
     "name": "stdout",
     "output_type": "stream",
     "text": [
      "Character\n",
      "PICARD       10785\n",
      "RIKER         6452\n",
      "DATA          5691\n",
      "LAFORGE       4107\n",
      "WORF          3183\n",
      "CRUSHER       2941\n",
      "TROI          2855\n",
      "WESLEY        1204\n",
      "Q              535\n",
      "PULASKI        485\n",
      "TASHA          473\n",
      "COMPUTER       471\n",
      "O'BRIEN        440\n",
      "GUINAN         432\n",
      "LWAXANA        404\n",
      "RO             304\n",
      "ALEXANDER      156\n",
      "OGAWA          110\n",
      "KEIKO           78\n",
      "CREWMAN         51\n",
      "WOMAN           46\n",
      "NURSE           30\n",
      "CHIEF           28\n",
      "VOICE           27\n",
      "ROMULAN         25\n",
      "MAN             22\n",
      "CREWWOMAN       17\n",
      "SECURITY        15\n",
      "KLINGON         14\n",
      "ALL             13\n",
      "MEDIC            6\n",
      "Name: count, dtype: int64\n"
     ]
    }
   ],
   "source": [
    "character_counts = df['Character'].value_counts()\n",
    "print(character_counts)"
   ]
  },
  {
   "cell_type": "markdown",
   "id": "a4c9e4d8",
   "metadata": {
    "papermill": {
     "duration": 0.005109,
     "end_time": "2023-11-11T17:02:27.025839",
     "exception": false,
     "start_time": "2023-11-11T17:02:27.020730",
     "status": "completed"
    },
    "tags": []
   },
   "source": [
    "As we can see, this is still a pretty uneven data set. I'd like to once again remove the outliers. We will do this by eliminating those characters with less than 1000 lines. "
   ]
  },
  {
   "cell_type": "code",
   "execution_count": 6,
   "id": "49816d78",
   "metadata": {
    "execution": {
     "iopub.execute_input": "2023-11-11T17:02:27.038319Z",
     "iopub.status.busy": "2023-11-11T17:02:27.037862Z",
     "iopub.status.idle": "2023-11-11T17:02:27.053767Z",
     "shell.execute_reply": "2023-11-11T17:02:27.052890Z"
    },
    "papermill": {
     "duration": 0.02468,
     "end_time": "2023-11-11T17:02:27.055943",
     "exception": false,
     "start_time": "2023-11-11T17:02:27.031263",
     "status": "completed"
    },
    "tags": []
   },
   "outputs": [],
   "source": [
    "character_counts = df['Character'].value_counts()\n",
    "\n",
    "\n",
    "characters_to_remove = character_counts[character_counts < 1000].index\n",
    "df = df[~df['Character'].isin(characters_to_remove)]\n"
   ]
  },
  {
   "cell_type": "markdown",
   "id": "c8f13a0e",
   "metadata": {
    "papermill": {
     "duration": 0.004999,
     "end_time": "2023-11-11T17:02:27.066265",
     "exception": false,
     "start_time": "2023-11-11T17:02:27.061266",
     "status": "completed"
    },
    "tags": []
   },
   "source": [
    "## 2. Exploratory Data Analysis"
   ]
  },
  {
   "cell_type": "markdown",
   "id": "4117bb01",
   "metadata": {
    "papermill": {
     "duration": 0.005113,
     "end_time": "2023-11-11T17:02:27.076791",
     "exception": false,
     "start_time": "2023-11-11T17:02:27.071678",
     "status": "completed"
    },
    "tags": []
   },
   "source": [
    "let's take a look at our dataframe!  Compared to the original JSON file, this is much cleaner. "
   ]
  },
  {
   "cell_type": "code",
   "execution_count": 7,
   "id": "9a475cc1",
   "metadata": {
    "execution": {
     "iopub.execute_input": "2023-11-11T17:02:27.089483Z",
     "iopub.status.busy": "2023-11-11T17:02:27.088567Z",
     "iopub.status.idle": "2023-11-11T17:02:27.107614Z",
     "shell.execute_reply": "2023-11-11T17:02:27.106538Z"
    },
    "papermill": {
     "duration": 0.027788,
     "end_time": "2023-11-11T17:02:27.109854",
     "exception": false,
     "start_time": "2023-11-11T17:02:27.082066",
     "status": "completed"
    },
    "tags": []
   },
   "outputs": [
    {
     "data": {
      "text/html": [
       "<div>\n",
       "<style scoped>\n",
       "    .dataframe tbody tr th:only-of-type {\n",
       "        vertical-align: middle;\n",
       "    }\n",
       "\n",
       "    .dataframe tbody tr th {\n",
       "        vertical-align: top;\n",
       "    }\n",
       "\n",
       "    .dataframe thead th {\n",
       "        text-align: right;\n",
       "    }\n",
       "</style>\n",
       "<table border=\"1\" class=\"dataframe\">\n",
       "  <thead>\n",
       "    <tr style=\"text-align: right;\">\n",
       "      <th></th>\n",
       "      <th>Line</th>\n",
       "      <th>Character</th>\n",
       "      <th>Episode</th>\n",
       "    </tr>\n",
       "  </thead>\n",
       "  <tbody>\n",
       "    <tr>\n",
       "      <th>0</th>\n",
       "      <td>You will agree, Data, that Starfleet's\\r order...</td>\n",
       "      <td>PICARD</td>\n",
       "      <td>tng_000</td>\n",
       "    </tr>\n",
       "    <tr>\n",
       "      <th>1</th>\n",
       "      <td>As simple as that.</td>\n",
       "      <td>PICARD</td>\n",
       "      <td>tng_000</td>\n",
       "    </tr>\n",
       "    <tr>\n",
       "      <th>2</th>\n",
       "      <td>It's hardly simple, Data, to negotiate a frien...</td>\n",
       "      <td>PICARD</td>\n",
       "      <td>tng_000</td>\n",
       "    </tr>\n",
       "    <tr>\n",
       "      <th>3</th>\n",
       "      <td>Data, how can you be programmed as a virtual e...</td>\n",
       "      <td>PICARD</td>\n",
       "      <td>tng_000</td>\n",
       "    </tr>\n",
       "    <tr>\n",
       "      <th>4</th>\n",
       "      <td>It means to spy, to sneak.</td>\n",
       "      <td>PICARD</td>\n",
       "      <td>tng_000</td>\n",
       "    </tr>\n",
       "    <tr>\n",
       "      <th>5</th>\n",
       "      <td>Exactly, yes.</td>\n",
       "      <td>PICARD</td>\n",
       "      <td>tng_000</td>\n",
       "    </tr>\n",
       "    <tr>\n",
       "      <th>6</th>\n",
       "      <td>Shut off that damned noise. Go to Yellow Alert.</td>\n",
       "      <td>PICARD</td>\n",
       "      <td>tng_000</td>\n",
       "    </tr>\n",
       "    <tr>\n",
       "      <th>7</th>\n",
       "      <td>Reverse power, full stop.</td>\n",
       "      <td>PICARD</td>\n",
       "      <td>tng_000</td>\n",
       "    </tr>\n",
       "    <tr>\n",
       "      <th>8</th>\n",
       "      <td>That's quite a directive. Would you mind ident...</td>\n",
       "      <td>PICARD</td>\n",
       "      <td>tng_000</td>\n",
       "    </tr>\n",
       "    <tr>\n",
       "      <th>9</th>\n",
       "      <td>Data, call medics.</td>\n",
       "      <td>PICARD</td>\n",
       "      <td>tng_000</td>\n",
       "    </tr>\n",
       "  </tbody>\n",
       "</table>\n",
       "</div>"
      ],
      "text/plain": [
       "                                                Line Character  Episode\n",
       "0  You will agree, Data, that Starfleet's\\r order...    PICARD  tng_000\n",
       "1                                 As simple as that.    PICARD  tng_000\n",
       "2  It's hardly simple, Data, to negotiate a frien...    PICARD  tng_000\n",
       "3  Data, how can you be programmed as a virtual e...    PICARD  tng_000\n",
       "4                         It means to spy, to sneak.    PICARD  tng_000\n",
       "5                                      Exactly, yes.    PICARD  tng_000\n",
       "6    Shut off that damned noise. Go to Yellow Alert.    PICARD  tng_000\n",
       "7                          Reverse power, full stop.    PICARD  tng_000\n",
       "8  That's quite a directive. Would you mind ident...    PICARD  tng_000\n",
       "9                                 Data, call medics.    PICARD  tng_000"
      ]
     },
     "execution_count": 7,
     "metadata": {},
     "output_type": "execute_result"
    }
   ],
   "source": [
    "df.head(10)"
   ]
  },
  {
   "cell_type": "markdown",
   "id": "5894ac5a",
   "metadata": {
    "papermill": {
     "duration": 0.005333,
     "end_time": "2023-11-11T17:02:27.121070",
     "exception": false,
     "start_time": "2023-11-11T17:02:27.115737",
     "status": "completed"
    },
    "tags": []
   },
   "source": [
    "and lets take a look at our Character distribution now that we have removed the outliers"
   ]
  },
  {
   "cell_type": "code",
   "execution_count": 8,
   "id": "16d5f7e3",
   "metadata": {
    "execution": {
     "iopub.execute_input": "2023-11-11T17:02:27.133990Z",
     "iopub.status.busy": "2023-11-11T17:02:27.133559Z",
     "iopub.status.idle": "2023-11-11T17:02:29.100237Z",
     "shell.execute_reply": "2023-11-11T17:02:29.099041Z"
    },
    "papermill": {
     "duration": 1.976743,
     "end_time": "2023-11-11T17:02:29.103457",
     "exception": false,
     "start_time": "2023-11-11T17:02:27.126714",
     "status": "completed"
    },
    "tags": []
   },
   "outputs": [
    {
     "data": {
      "image/png": "[encoded data removed]",
      "text/plain": [
       "<Figure size 1000x600 with 1 Axes>"
      ]
     },
     "metadata": {},
     "output_type": "display_data"
    }
   ],
   "source": [
    "import matplotlib.pyplot as plt\n",
    "import seaborn as sns\n",
    "\n",
    "\n",
    "character_counts = df['Character'].value_counts()\n",
    "\n",
    "\n",
    "plt.figure(figsize=(10, 6))\n",
    "sns.barplot(x=character_counts.index, y=character_counts.values, palette=\"viridis\")\n",
    "plt.xlabel('Character')\n",
    "plt.ylabel('Number of Entries')\n",
    "plt.title('Character Distribution in the Dataset')\n",
    "plt.xticks(rotation=45, ha=\"right\")\n",
    "plt.tight_layout()\n",
    "plt.show()"
   ]
  },
  {
   "cell_type": "code",
   "execution_count": 9,
   "id": "63929c99",
   "metadata": {
    "execution": {
     "iopub.execute_input": "2023-11-11T17:02:29.118974Z",
     "iopub.status.busy": "2023-11-11T17:02:29.118551Z",
     "iopub.status.idle": "2023-11-11T17:02:29.125279Z",
     "shell.execute_reply": "2023-11-11T17:02:29.124175Z"
    },
    "papermill": {
     "duration": 0.017057,
     "end_time": "2023-11-11T17:02:29.127474",
     "exception": false,
     "start_time": "2023-11-11T17:02:29.110417",
     "status": "completed"
    },
    "tags": []
   },
   "outputs": [
    {
     "name": "stdout",
     "output_type": "stream",
     "text": [
      "Character\n",
      "PICARD     10785\n",
      "RIKER       6452\n",
      "DATA        5691\n",
      "LAFORGE     4107\n",
      "WORF        3183\n",
      "CRUSHER     2941\n",
      "TROI        2855\n",
      "WESLEY      1204\n",
      "Name: count, dtype: int64\n"
     ]
    }
   ],
   "source": [
    "print(character_counts)"
   ]
  },
  {
   "cell_type": "markdown",
   "id": "09900192",
   "metadata": {
    "papermill": {
     "duration": 0.006091,
     "end_time": "2023-11-11T17:02:29.139958",
     "exception": false,
     "start_time": "2023-11-11T17:02:29.133867",
     "status": "completed"
    },
    "tags": []
   },
   "source": [
    "The dataset is still unbalanced, but at least the outliers are gone and we are only left with the top 8 main characters of the show.  \n",
    "\n",
    "Now lets check the average line length"
   ]
  },
  {
   "cell_type": "code",
   "execution_count": 10,
   "id": "7153b167",
   "metadata": {
    "execution": {
     "iopub.execute_input": "2023-11-11T17:02:29.154959Z",
     "iopub.status.busy": "2023-11-11T17:02:29.154349Z",
     "iopub.status.idle": "2023-11-11T17:02:29.866409Z",
     "shell.execute_reply": "2023-11-11T17:02:29.865181Z"
    },
    "papermill": {
     "duration": 0.723233,
     "end_time": "2023-11-11T17:02:29.869406",
     "exception": false,
     "start_time": "2023-11-11T17:02:29.146173",
     "status": "completed"
    },
    "tags": []
   },
   "outputs": [
    {
     "data": {
      "image/png": "[encoded data removed]",
      "text/plain": [
       "<Figure size 1000x600 with 1 Axes>"
      ]
     },
     "metadata": {},
     "output_type": "display_data"
    },
    {
     "name": "stdout",
     "output_type": "stream",
     "text": [
      "Average Line Length: 71.11 characters\n"
     ]
    }
   ],
   "source": [
    "\n",
    "df['Line_Length'] = df['Line'].apply(len)\n",
    "\n",
    "\n",
    "average_line_length = df['Line_Length'].mean()\n",
    "\n",
    "\n",
    "plt.figure(figsize=(10, 6))\n",
    "sns.histplot(df['Line_Length'], bins=50, kde=True, color='skyblue')\n",
    "plt.axvline(average_line_length, color='red', linestyle='dashed', linewidth=2, label=f'Average Length: {average_line_length:.2f}')\n",
    "plt.xlabel('Line Length')\n",
    "plt.ylabel('Frequency')\n",
    "plt.title('Distribution of Line Lengths in the Dataset')\n",
    "plt.legend()\n",
    "plt.show()\n",
    "\n",
    "\n",
    "print(f'Average Line Length: {average_line_length:.2f} characters')\n"
   ]
  },
  {
   "cell_type": "code",
   "execution_count": 11,
   "id": "c9c4190a",
   "metadata": {
    "execution": {
     "iopub.execute_input": "2023-11-11T17:02:29.885477Z",
     "iopub.status.busy": "2023-11-11T17:02:29.885080Z",
     "iopub.status.idle": "2023-11-11T17:02:29.905124Z",
     "shell.execute_reply": "2023-11-11T17:02:29.904134Z"
    },
    "papermill": {
     "duration": 0.031113,
     "end_time": "2023-11-11T17:02:29.907601",
     "exception": false,
     "start_time": "2023-11-11T17:02:29.876488",
     "status": "completed"
    },
    "tags": []
   },
   "outputs": [
    {
     "name": "stdout",
     "output_type": "stream",
     "text": [
      "                                                    Line Character  Episode  \\\n",
      "2086   Oh, they're already underway. I have an announ...    PICARD  tng_005   \n",
      "4447   When you spoke of the prisoners, you used the ...     RIKER  tng_012   \n",
      "12011  You see, he's met two of your three criteria f...    PICARD  tng_033   \n",
      "31554  I am deeply concerned by what is happening her...    PICARD  tng_093   \n",
      "31992  You know, Deanna, the first man I ever loved u...   CRUSHER  tng_095   \n",
      "38854  You even sat in my chair. I was annoyed. Presu...    PICARD  tng_117   \n",
      "55977  I understand your concerns, Lieutenant, and I ...    PICARD  tng_175   \n",
      "\n",
      "       Line_Length  \n",
      "2086           907  \n",
      "4447           821  \n",
      "12011         1097  \n",
      "31554          850  \n",
      "31992         1090  \n",
      "38854          828  \n",
      "55977          878  \n"
     ]
    }
   ],
   "source": [
    "long_lines = df[df['Line'].apply(len) > 800]\n",
    "\n",
    "# Display the lines\n",
    "print(long_lines)\n"
   ]
  },
  {
   "cell_type": "markdown",
   "id": "a7edaaa3",
   "metadata": {
    "papermill": {
     "duration": 0.006733,
     "end_time": "2023-11-11T17:02:29.921658",
     "exception": false,
     "start_time": "2023-11-11T17:02:29.914925",
     "status": "completed"
    },
    "tags": []
   },
   "source": [
    "Most of the lines are pretty short, but Picard, Ricker, and Crusher seem to give a couple of speeches here and there. "
   ]
  }
 ],
 "metadata": {
  "kernelspec": {
   "display_name": "Python 3",
   "language": "python",
   "name": "python3"
  },
  "language_info": {
   "codemirror_mode": {
    "name": "ipython",
    "version": 3
   },
   "file_extension": ".py",
   "mimetype": "text/x-python",
   "name": "python",
   "nbconvert_exporter": "python",
   "pygments_lexer": "ipython3",
   "version": "3.10.12"
  },
  "papermill": {
   "default_parameters": {},
   "duration": 9.286859,
   "end_time": "2023-11-11T17:02:30.550729",
   "environment_variables": {},
   "exception": null,
   "input_path": "__notebook__.ipynb",
   "output_path": "__notebook__.ipynb",
   "parameters": {},
   "start_time": "2023-11-11T17:02:21.263870",
   "version": "2.4.0"
  }
 },
 "nbformat": 4,
 "nbformat_minor": 5
}
